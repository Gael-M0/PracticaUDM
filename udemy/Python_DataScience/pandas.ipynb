{
 "cells": [
  {
   "cell_type": "code",
   "execution_count": 2,
   "id": "3e9dbd0e",
   "metadata": {},
   "outputs": [],
   "source": [
    "import pandas as pd\n",
    "import numpy as np\n",
    "import matplotlib.pyplot as plt"
   ]
  },
  {
   "cell_type": "markdown",
   "id": "7c3e7181",
   "metadata": {},
   "source": [
    "## Introduccion a la series de datos"
   ]
  },
  {
   "cell_type": "code",
   "execution_count": null,
   "id": "eb3dc1e6",
   "metadata": {},
   "outputs": [
    {
     "name": "stdout",
     "output_type": "stream",
     "text": [
      "Ana       16\n",
      "Luis      12\n",
      "Carlos    19\n",
      "dtype: int64\n"
     ]
    }
   ],
   "source": [
    "Estudiantes = pd.Series([16,12,19], index=['Ana','Luis','Carlos']) # Creación de una Serie\n",
    "print(Estudiantes)"
   ]
  },
  {
   "cell_type": "code",
   "execution_count": null,
   "id": "8d2d9cb7",
   "metadata": {},
   "outputs": [
    {
     "name": "stderr",
     "output_type": "stream",
     "text": [
      "C:\\Users\\Usuario\\AppData\\Local\\Temp\\ipykernel_10504\\3554966168.py:2: FutureWarning: Series.__getitem__ treating keys as positions is deprecated. In a future version, integer keys will always be treated as labels (consistent with DataFrame behavior). To access a value by position, use `ser.iloc[pos]`\n",
      "  Estudiantes[1]\n"
     ]
    },
    {
     "data": {
      "text/plain": [
       "np.int64(12)"
      ]
     },
     "execution_count": 5,
     "metadata": {},
     "output_type": "execute_result"
    }
   ],
   "source": [
    "Estudiantes['Luis'] # Acceso por etiqueta\n"
   ]
  },
  {
   "cell_type": "code",
   "execution_count": null,
   "id": "966330e5",
   "metadata": {},
   "outputs": [
    {
     "name": "stderr",
     "output_type": "stream",
     "text": [
      "C:\\Users\\Usuario\\AppData\\Local\\Temp\\ipykernel_10504\\4221754821.py:1: FutureWarning: Series.__getitem__ treating keys as positions is deprecated. In a future version, integer keys will always be treated as labels (consistent with DataFrame behavior). To access a value by position, use `ser.iloc[pos]`\n",
      "  Estudiantes[1]\n"
     ]
    },
    {
     "data": {
      "text/plain": [
       "np.int64(12)"
      ]
     },
     "execution_count": 6,
     "metadata": {},
     "output_type": "execute_result"
    }
   ],
   "source": [
    "Estudiantes[1] # Acceso por posición"
   ]
  },
  {
   "cell_type": "code",
   "execution_count": null,
   "id": "d0cd64c0",
   "metadata": {},
   "outputs": [
    {
     "data": {
      "text/plain": [
       "array([16, 12, 19])"
      ]
     },
     "execution_count": 8,
     "metadata": {},
     "output_type": "execute_result"
    }
   ],
   "source": [
    "Estudiantes.index # Index(['Ana', 'Luis', 'Carlos'], dtype='object')\n",
    "Estudiantes.values # array([16, 12, 19], dtype=int64)"
   ]
  },
  {
   "cell_type": "code",
   "execution_count": null,
   "id": "585f83bc",
   "metadata": {},
   "outputs": [
    {
     "data": {
      "text/plain": [
       "(3,)"
      ]
     },
     "execution_count": 9,
     "metadata": {},
     "output_type": "execute_result"
    }
   ],
   "source": [
    "Estudiantes.shape #da la cantidad de elementos (3,)"
   ]
  },
  {
   "cell_type": "markdown",
   "id": "0c044eff",
   "metadata": {},
   "source": [
    "## Introduccion a los dataframes"
   ]
  },
  {
   "cell_type": "code",
   "execution_count": null,
   "id": "f392099b",
   "metadata": {},
   "outputs": [
    {
     "data": {
      "text/html": [
       "<div>\n",
       "<style scoped>\n",
       "    .dataframe tbody tr th:only-of-type {\n",
       "        vertical-align: middle;\n",
       "    }\n",
       "\n",
       "    .dataframe tbody tr th {\n",
       "        vertical-align: top;\n",
       "    }\n",
       "\n",
       "    .dataframe thead th {\n",
       "        text-align: right;\n",
       "    }\n",
       "</style>\n",
       "<table border=\"1\" class=\"dataframe\">\n",
       "  <thead>\n",
       "    <tr style=\"text-align: right;\">\n",
       "      <th></th>\n",
       "      <th>Edad</th>\n",
       "      <th>Altura</th>\n",
       "    </tr>\n",
       "  </thead>\n",
       "  <tbody>\n",
       "    <tr>\n",
       "      <th>Ana</th>\n",
       "      <td>16</td>\n",
       "      <td>1.60</td>\n",
       "    </tr>\n",
       "    <tr>\n",
       "      <th>Luis</th>\n",
       "      <td>12</td>\n",
       "      <td>1.70</td>\n",
       "    </tr>\n",
       "    <tr>\n",
       "      <th>Carlos</th>\n",
       "      <td>19</td>\n",
       "      <td>1.75</td>\n",
       "    </tr>\n",
       "  </tbody>\n",
       "</table>\n",
       "</div>"
      ],
      "text/plain": [
       "        Edad  Altura\n",
       "Ana       16    1.60\n",
       "Luis      12    1.70\n",
       "Carlos    19    1.75"
      ]
     },
     "metadata": {},
     "output_type": "display_data"
    },
    {
     "name": "stdout",
     "output_type": "stream",
     "text": [
      "hola\n"
     ]
    }
   ],
   "source": [
    "Estudiantes = pd.DataFrame({'Edad':[16,12,19],\n",
    "                            'Altura':[1.60,1.70,1.75]}, \n",
    "                            index=['Ana','Luis','Carlos']) # Creación de un DataFrame\n",
    "# Dataframe es una tabla, Serie es una columna\n",
    "display(Estudiantes) # Muestra el DataFrame en formato tabla\n",
    "print('hola')"
   ]
  },
  {
   "cell_type": "code",
   "execution_count": 12,
   "id": "b2051bff",
   "metadata": {},
   "outputs": [
    {
     "data": {
      "text/plain": [
       "Edad        int64\n",
       "Altura    float64\n",
       "dtype: object"
      ]
     },
     "execution_count": 12,
     "metadata": {},
     "output_type": "execute_result"
    }
   ],
   "source": [
    "Estudiantes.dtypes # Muestra los tipos de datos de cada columna"
   ]
  },
  {
   "cell_type": "code",
   "execution_count": 14,
   "id": "b6de8ce9",
   "metadata": {},
   "outputs": [
    {
     "data": {
      "text/plain": [
       "Index(['Ana', 'Luis', 'Carlos'], dtype='object')"
      ]
     },
     "execution_count": 14,
     "metadata": {},
     "output_type": "execute_result"
    }
   ],
   "source": [
    "Estudiantes.index # Index(['Ana', 'Luis', 'Carlos'], dtype='object')\n"
   ]
  },
  {
   "cell_type": "code",
   "execution_count": 15,
   "id": "bb768d75",
   "metadata": {},
   "outputs": [
    {
     "data": {
      "text/plain": [
       "Index(['Edad', 'Altura'], dtype='object')"
      ]
     },
     "execution_count": 15,
     "metadata": {},
     "output_type": "execute_result"
    }
   ],
   "source": [
    "Estudiantes.columns # Index(['Edad', 'Altura'], dtype='object')"
   ]
  },
  {
   "cell_type": "code",
   "execution_count": 16,
   "id": "648de50d",
   "metadata": {},
   "outputs": [
    {
     "data": {
      "text/plain": [
       "[Index(['Ana', 'Luis', 'Carlos'], dtype='object'),\n",
       " Index(['Edad', 'Altura'], dtype='object')]"
      ]
     },
     "execution_count": 16,
     "metadata": {},
     "output_type": "execute_result"
    }
   ],
   "source": [
    "Estudiantes.axes # Muestra los ejes del DataFrame (índices de filas y columnas)"
   ]
  },
  {
   "cell_type": "code",
   "execution_count": 17,
   "id": "0bb3b793",
   "metadata": {},
   "outputs": [
    {
     "data": {
      "text/plain": [
       "array([[16.  ,  1.6 ],\n",
       "       [12.  ,  1.7 ],\n",
       "       [19.  ,  1.75]])"
      ]
     },
     "execution_count": 17,
     "metadata": {},
     "output_type": "execute_result"
    }
   ],
   "source": [
    "Estudiantes.values # Muestra los valores del DataFrame como un array de NumPy"
   ]
  },
  {
   "cell_type": "markdown",
   "id": "7540de03",
   "metadata": {},
   "source": [
    "## Formas de crear Series y DataFrames"
   ]
  },
  {
   "cell_type": "code",
   "execution_count": 18,
   "id": "82ef3982",
   "metadata": {},
   "outputs": [
    {
     "data": {
      "text/plain": [
       "Marta     13.0\n",
       "Lucia     15.0\n",
       "Felipe    14.0\n",
       "Ana        NaN\n",
       "dtype: float64"
      ]
     },
     "execution_count": 18,
     "metadata": {},
     "output_type": "execute_result"
    }
   ],
   "source": [
    "Estudiantes = {'Felipe':14, 'Marta':13, 'Lucia':15}\n",
    "pd.Series(Estudiantes, index=['Marta','Lucia','Felipe','Ana']) # Creación de una Serie a partir de un diccionario con un índice específico  "
   ]
  },
  {
   "cell_type": "code",
   "execution_count": 19,
   "id": "587ab1fc",
   "metadata": {},
   "outputs": [
    {
     "data": {
      "text/plain": [
       "a    8\n",
       "b    8\n",
       "c    8\n",
       "d    8\n",
       "dtype: int64"
      ]
     },
     "execution_count": 19,
     "metadata": {},
     "output_type": "execute_result"
    }
   ],
   "source": [
    "pd.Series(8,index=['a','b','c','d']) # Serie con un valor constante y un índice específico"
   ]
  },
  {
   "cell_type": "code",
   "execution_count": 22,
   "id": "8fdff314",
   "metadata": {},
   "outputs": [
    {
     "data": {
      "text/html": [
       "<div>\n",
       "<style scoped>\n",
       "    .dataframe tbody tr th:only-of-type {\n",
       "        vertical-align: middle;\n",
       "    }\n",
       "\n",
       "    .dataframe tbody tr th {\n",
       "        vertical-align: top;\n",
       "    }\n",
       "\n",
       "    .dataframe thead th {\n",
       "        text-align: right;\n",
       "    }\n",
       "</style>\n",
       "<table border=\"1\" class=\"dataframe\">\n",
       "  <thead>\n",
       "    <tr style=\"text-align: right;\">\n",
       "      <th></th>\n",
       "      <th>0</th>\n",
       "      <th>1</th>\n",
       "    </tr>\n",
       "  </thead>\n",
       "  <tbody>\n",
       "    <tr>\n",
       "      <th>0</th>\n",
       "      <td>1</td>\n",
       "      <td>2</td>\n",
       "    </tr>\n",
       "    <tr>\n",
       "      <th>1</th>\n",
       "      <td>3</td>\n",
       "      <td>4</td>\n",
       "    </tr>\n",
       "  </tbody>\n",
       "</table>\n",
       "</div>"
      ],
      "text/plain": [
       "   0  1\n",
       "0  1  2\n",
       "1  3  4"
      ]
     },
     "execution_count": 22,
     "metadata": {},
     "output_type": "execute_result"
    }
   ],
   "source": [
    "A =np.array([[1,2],[3,4]])\n",
    "pd.DataFrame(A) # Creación de un DataFrame a partir de un array de NumPy"
   ]
  },
  {
   "cell_type": "code",
   "execution_count": 23,
   "id": "daffcdd0",
   "metadata": {},
   "outputs": [
    {
     "data": {
      "text/html": [
       "<div>\n",
       "<style scoped>\n",
       "    .dataframe tbody tr th:only-of-type {\n",
       "        vertical-align: middle;\n",
       "    }\n",
       "\n",
       "    .dataframe tbody tr th {\n",
       "        vertical-align: top;\n",
       "    }\n",
       "\n",
       "    .dataframe thead th {\n",
       "        text-align: right;\n",
       "    }\n",
       "</style>\n",
       "<table border=\"1\" class=\"dataframe\">\n",
       "  <thead>\n",
       "    <tr style=\"text-align: right;\">\n",
       "      <th></th>\n",
       "      <th>Col1</th>\n",
       "      <th>Col2</th>\n",
       "    </tr>\n",
       "  </thead>\n",
       "  <tbody>\n",
       "    <tr>\n",
       "      <th>Fila1</th>\n",
       "      <td>1</td>\n",
       "      <td>2</td>\n",
       "    </tr>\n",
       "    <tr>\n",
       "      <th>Fila2</th>\n",
       "      <td>3</td>\n",
       "      <td>4</td>\n",
       "    </tr>\n",
       "  </tbody>\n",
       "</table>\n",
       "</div>"
      ],
      "text/plain": [
       "       Col1  Col2\n",
       "Fila1     1     2\n",
       "Fila2     3     4"
      ]
     },
     "execution_count": 23,
     "metadata": {},
     "output_type": "execute_result"
    }
   ],
   "source": [
    "pd.DataFrame(A, index=['Fila1','Fila2'], columns=['Col1','Col2']) # DataFrame con índices y nombres de columnas específicos"
   ]
  }
 ],
 "metadata": {
  "kernelspec": {
   "display_name": "Python 3",
   "language": "python",
   "name": "python3"
  },
  "language_info": {
   "codemirror_mode": {
    "name": "ipython",
    "version": 3
   },
   "file_extension": ".py",
   "mimetype": "text/x-python",
   "name": "python",
   "nbconvert_exporter": "python",
   "pygments_lexer": "ipython3",
   "version": "3.10.0"
  }
 },
 "nbformat": 4,
 "nbformat_minor": 5
}
