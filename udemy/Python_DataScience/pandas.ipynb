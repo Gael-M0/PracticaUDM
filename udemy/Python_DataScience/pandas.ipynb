{
 "cells": [
  {
   "cell_type": "code",
   "execution_count": 1,
   "id": "3e9dbd0e",
   "metadata": {},
   "outputs": [],
   "source": [
    "import pandas as pd\n",
    "import numpy as np\n",
    "import matplotlib.pyplot as plt"
   ]
  },
  {
   "cell_type": "markdown",
   "id": "7c3e7181",
   "metadata": {},
   "source": [
    "## Introduccion a la series de datos"
   ]
  },
  {
   "cell_type": "code",
   "execution_count": 3,
   "id": "eb3dc1e6",
   "metadata": {},
   "outputs": [
    {
     "name": "stdout",
     "output_type": "stream",
     "text": [
      "Ana       16\n",
      "Luis      12\n",
      "Carlos    19\n",
      "dtype: int64\n"
     ]
    }
   ],
   "source": [
    "Estudiantes = pd.Series([16,12,19], index=['Ana','Luis','Carlos']) # Creación de una Serie\n",
    "print(Estudiantes)"
   ]
  },
  {
   "cell_type": "code",
   "execution_count": 4,
   "id": "8d2d9cb7",
   "metadata": {},
   "outputs": [
    {
     "data": {
      "text/plain": [
       "np.int64(12)"
      ]
     },
     "execution_count": 4,
     "metadata": {},
     "output_type": "execute_result"
    }
   ],
   "source": [
    "Estudiantes['Luis'] # Acceso por etiqueta\n"
   ]
  },
  {
   "cell_type": "code",
   "execution_count": 5,
   "id": "966330e5",
   "metadata": {},
   "outputs": [
    {
     "name": "stderr",
     "output_type": "stream",
     "text": [
      "C:\\Users\\Usuario\\AppData\\Local\\Temp\\ipykernel_5168\\3874018014.py:1: FutureWarning: Series.__getitem__ treating keys as positions is deprecated. In a future version, integer keys will always be treated as labels (consistent with DataFrame behavior). To access a value by position, use `ser.iloc[pos]`\n",
      "  Estudiantes[1] # Acceso por posición\n"
     ]
    },
    {
     "data": {
      "text/plain": [
       "np.int64(12)"
      ]
     },
     "execution_count": 5,
     "metadata": {},
     "output_type": "execute_result"
    }
   ],
   "source": [
    "Estudiantes[1] # Acceso por posición"
   ]
  },
  {
   "cell_type": "code",
   "execution_count": 6,
   "id": "d0cd64c0",
   "metadata": {},
   "outputs": [
    {
     "data": {
      "text/plain": [
       "array([16, 12, 19])"
      ]
     },
     "execution_count": 6,
     "metadata": {},
     "output_type": "execute_result"
    }
   ],
   "source": [
    "Estudiantes.index # Index(['Ana', 'Luis', 'Carlos'], dtype='object')\n",
    "Estudiantes.values # array([16, 12, 19], dtype=int64)"
   ]
  },
  {
   "cell_type": "code",
   "execution_count": 7,
   "id": "585f83bc",
   "metadata": {},
   "outputs": [
    {
     "data": {
      "text/plain": [
       "(3,)"
      ]
     },
     "execution_count": 7,
     "metadata": {},
     "output_type": "execute_result"
    }
   ],
   "source": [
    "Estudiantes.shape #da la cantidad de elementos (3,)"
   ]
  },
  {
   "cell_type": "markdown",
   "id": "0c044eff",
   "metadata": {},
   "source": [
    "## Introduccion a los dataframes"
   ]
  },
  {
   "cell_type": "code",
   "execution_count": 8,
   "id": "f392099b",
   "metadata": {},
   "outputs": [
    {
     "data": {
      "text/html": [
       "<div>\n",
       "<style scoped>\n",
       "    .dataframe tbody tr th:only-of-type {\n",
       "        vertical-align: middle;\n",
       "    }\n",
       "\n",
       "    .dataframe tbody tr th {\n",
       "        vertical-align: top;\n",
       "    }\n",
       "\n",
       "    .dataframe thead th {\n",
       "        text-align: right;\n",
       "    }\n",
       "</style>\n",
       "<table border=\"1\" class=\"dataframe\">\n",
       "  <thead>\n",
       "    <tr style=\"text-align: right;\">\n",
       "      <th></th>\n",
       "      <th>Edad</th>\n",
       "      <th>Altura</th>\n",
       "    </tr>\n",
       "  </thead>\n",
       "  <tbody>\n",
       "    <tr>\n",
       "      <th>Ana</th>\n",
       "      <td>16</td>\n",
       "      <td>1.60</td>\n",
       "    </tr>\n",
       "    <tr>\n",
       "      <th>Luis</th>\n",
       "      <td>12</td>\n",
       "      <td>1.70</td>\n",
       "    </tr>\n",
       "    <tr>\n",
       "      <th>Carlos</th>\n",
       "      <td>19</td>\n",
       "      <td>1.75</td>\n",
       "    </tr>\n",
       "  </tbody>\n",
       "</table>\n",
       "</div>"
      ],
      "text/plain": [
       "        Edad  Altura\n",
       "Ana       16    1.60\n",
       "Luis      12    1.70\n",
       "Carlos    19    1.75"
      ]
     },
     "metadata": {},
     "output_type": "display_data"
    },
    {
     "name": "stdout",
     "output_type": "stream",
     "text": [
      "hola\n"
     ]
    }
   ],
   "source": [
    "Estudiantes = pd.DataFrame({'Edad':[16,12,19],\n",
    "                            'Altura':[1.60,1.70,1.75]}, \n",
    "                            index=['Ana','Luis','Carlos']) # Creación de un DataFrame\n",
    "# Dataframe es una tabla, Serie es una columna\n",
    "display(Estudiantes) # Muestra el DataFrame en formato tabla\n",
    "print('hola')"
   ]
  },
  {
   "cell_type": "code",
   "execution_count": 9,
   "id": "b2051bff",
   "metadata": {},
   "outputs": [
    {
     "data": {
      "text/plain": [
       "Edad        int64\n",
       "Altura    float64\n",
       "dtype: object"
      ]
     },
     "execution_count": 9,
     "metadata": {},
     "output_type": "execute_result"
    }
   ],
   "source": [
    "Estudiantes.dtypes # Muestra los tipos de datos de cada columna"
   ]
  },
  {
   "cell_type": "code",
   "execution_count": 10,
   "id": "b6de8ce9",
   "metadata": {},
   "outputs": [
    {
     "data": {
      "text/plain": [
       "Index(['Ana', 'Luis', 'Carlos'], dtype='object')"
      ]
     },
     "execution_count": 10,
     "metadata": {},
     "output_type": "execute_result"
    }
   ],
   "source": [
    "Estudiantes.index # Index(['Ana', 'Luis', 'Carlos'], dtype='object')\n"
   ]
  },
  {
   "cell_type": "code",
   "execution_count": 11,
   "id": "bb768d75",
   "metadata": {},
   "outputs": [
    {
     "data": {
      "text/plain": [
       "Index(['Edad', 'Altura'], dtype='object')"
      ]
     },
     "execution_count": 11,
     "metadata": {},
     "output_type": "execute_result"
    }
   ],
   "source": [
    "Estudiantes.columns # Index(['Edad', 'Altura'], dtype='object')"
   ]
  },
  {
   "cell_type": "code",
   "execution_count": 12,
   "id": "648de50d",
   "metadata": {},
   "outputs": [
    {
     "data": {
      "text/plain": [
       "[Index(['Ana', 'Luis', 'Carlos'], dtype='object'),\n",
       " Index(['Edad', 'Altura'], dtype='object')]"
      ]
     },
     "execution_count": 12,
     "metadata": {},
     "output_type": "execute_result"
    }
   ],
   "source": [
    "Estudiantes.axes # Muestra los ejes del DataFrame (índices de filas y columnas)"
   ]
  },
  {
   "cell_type": "code",
   "execution_count": 13,
   "id": "0bb3b793",
   "metadata": {},
   "outputs": [
    {
     "data": {
      "text/plain": [
       "array([[16.  ,  1.6 ],\n",
       "       [12.  ,  1.7 ],\n",
       "       [19.  ,  1.75]])"
      ]
     },
     "execution_count": 13,
     "metadata": {},
     "output_type": "execute_result"
    }
   ],
   "source": [
    "Estudiantes.values # Muestra los valores del DataFrame como un array de NumPy"
   ]
  },
  {
   "cell_type": "markdown",
   "id": "7540de03",
   "metadata": {},
   "source": [
    "## Formas de crear Series y DataFrames"
   ]
  },
  {
   "cell_type": "code",
   "execution_count": 14,
   "id": "82ef3982",
   "metadata": {},
   "outputs": [
    {
     "data": {
      "text/plain": [
       "Marta     13.0\n",
       "Lucia     15.0\n",
       "Felipe    14.0\n",
       "Ana        NaN\n",
       "dtype: float64"
      ]
     },
     "execution_count": 14,
     "metadata": {},
     "output_type": "execute_result"
    }
   ],
   "source": [
    "Estudiantes = {'Felipe':14, 'Marta':13, 'Lucia':15}\n",
    "pd.Series(Estudiantes, index=['Marta','Lucia','Felipe','Ana']) # Creación de una Serie a partir de un diccionario con un índice específico  "
   ]
  },
  {
   "cell_type": "code",
   "execution_count": 15,
   "id": "587ab1fc",
   "metadata": {},
   "outputs": [
    {
     "data": {
      "text/plain": [
       "a    8\n",
       "b    8\n",
       "c    8\n",
       "d    8\n",
       "dtype: int64"
      ]
     },
     "execution_count": 15,
     "metadata": {},
     "output_type": "execute_result"
    }
   ],
   "source": [
    "pd.Series(8,index=['a','b','c','d']) # Serie con un valor constante y un índice específico"
   ]
  },
  {
   "cell_type": "code",
   "execution_count": 16,
   "id": "8fdff314",
   "metadata": {},
   "outputs": [
    {
     "data": {
      "text/html": [
       "<div>\n",
       "<style scoped>\n",
       "    .dataframe tbody tr th:only-of-type {\n",
       "        vertical-align: middle;\n",
       "    }\n",
       "\n",
       "    .dataframe tbody tr th {\n",
       "        vertical-align: top;\n",
       "    }\n",
       "\n",
       "    .dataframe thead th {\n",
       "        text-align: right;\n",
       "    }\n",
       "</style>\n",
       "<table border=\"1\" class=\"dataframe\">\n",
       "  <thead>\n",
       "    <tr style=\"text-align: right;\">\n",
       "      <th></th>\n",
       "      <th>0</th>\n",
       "      <th>1</th>\n",
       "    </tr>\n",
       "  </thead>\n",
       "  <tbody>\n",
       "    <tr>\n",
       "      <th>0</th>\n",
       "      <td>1</td>\n",
       "      <td>2</td>\n",
       "    </tr>\n",
       "    <tr>\n",
       "      <th>1</th>\n",
       "      <td>3</td>\n",
       "      <td>4</td>\n",
       "    </tr>\n",
       "  </tbody>\n",
       "</table>\n",
       "</div>"
      ],
      "text/plain": [
       "   0  1\n",
       "0  1  2\n",
       "1  3  4"
      ]
     },
     "execution_count": 16,
     "metadata": {},
     "output_type": "execute_result"
    }
   ],
   "source": [
    "A =np.array([[1,2],[3,4]])\n",
    "pd.DataFrame(A) # Creación de un DataFrame a partir de un array de NumPy"
   ]
  },
  {
   "cell_type": "code",
   "execution_count": 17,
   "id": "daffcdd0",
   "metadata": {},
   "outputs": [
    {
     "data": {
      "text/html": [
       "<div>\n",
       "<style scoped>\n",
       "    .dataframe tbody tr th:only-of-type {\n",
       "        vertical-align: middle;\n",
       "    }\n",
       "\n",
       "    .dataframe tbody tr th {\n",
       "        vertical-align: top;\n",
       "    }\n",
       "\n",
       "    .dataframe thead th {\n",
       "        text-align: right;\n",
       "    }\n",
       "</style>\n",
       "<table border=\"1\" class=\"dataframe\">\n",
       "  <thead>\n",
       "    <tr style=\"text-align: right;\">\n",
       "      <th></th>\n",
       "      <th>Col1</th>\n",
       "      <th>Col2</th>\n",
       "    </tr>\n",
       "  </thead>\n",
       "  <tbody>\n",
       "    <tr>\n",
       "      <th>Fila1</th>\n",
       "      <td>1</td>\n",
       "      <td>2</td>\n",
       "    </tr>\n",
       "    <tr>\n",
       "      <th>Fila2</th>\n",
       "      <td>3</td>\n",
       "      <td>4</td>\n",
       "    </tr>\n",
       "  </tbody>\n",
       "</table>\n",
       "</div>"
      ],
      "text/plain": [
       "       Col1  Col2\n",
       "Fila1     1     2\n",
       "Fila2     3     4"
      ]
     },
     "execution_count": 17,
     "metadata": {},
     "output_type": "execute_result"
    }
   ],
   "source": [
    "pd.DataFrame(A, index=['Fila1','Fila2'], columns=['Col1','Col2']) # DataFrame con índices y nombres de columnas específicos"
   ]
  },
  {
   "cell_type": "markdown",
   "id": "8a7ae213",
   "metadata": {},
   "source": [
    "## Importacion de datos"
   ]
  },
  {
   "cell_type": "code",
   "execution_count": 18,
   "id": "2b6b3665",
   "metadata": {},
   "outputs": [
    {
     "name": "stdout",
     "output_type": "stream",
     "text": [
      "Requirement already satisfied: openpyxl in c:\\users\\usuario\\appdata\\local\\programs\\python\\python310\\lib\\site-packages (3.1.5)\n",
      "Requirement already satisfied: et-xmlfile in c:\\users\\usuario\\appdata\\local\\programs\\python\\python310\\lib\\site-packages (from openpyxl) (2.0.0)\n",
      "Note: you may need to restart the kernel to use updated packages.\n"
     ]
    },
    {
     "name": "stderr",
     "output_type": "stream",
     "text": [
      "WARNING: You are using pip version 21.2.3; however, version 25.2 is available.\n",
      "You should consider upgrading via the 'c:\\Users\\Usuario\\AppData\\Local\\Programs\\Python\\Python310\\python.exe -m pip install --upgrade pip' command.\n"
     ]
    },
    {
     "data": {
      "text/html": [
       "<div>\n",
       "<style scoped>\n",
       "    .dataframe tbody tr th:only-of-type {\n",
       "        vertical-align: middle;\n",
       "    }\n",
       "\n",
       "    .dataframe tbody tr th {\n",
       "        vertical-align: top;\n",
       "    }\n",
       "\n",
       "    .dataframe thead th {\n",
       "        text-align: right;\n",
       "    }\n",
       "</style>\n",
       "<table border=\"1\" class=\"dataframe\">\n",
       "  <thead>\n",
       "    <tr style=\"text-align: right;\">\n",
       "      <th></th>\n",
       "      <th>Id</th>\n",
       "      <th>Nombre</th>\n",
       "      <th>Edad</th>\n",
       "      <th>Estatus</th>\n",
       "      <th>Dinero</th>\n",
       "    </tr>\n",
       "  </thead>\n",
       "  <tbody>\n",
       "    <tr>\n",
       "      <th>0</th>\n",
       "      <td>1</td>\n",
       "      <td>Alan</td>\n",
       "      <td>20.000000</td>\n",
       "      <td>Activo</td>\n",
       "      <td>1000</td>\n",
       "    </tr>\n",
       "    <tr>\n",
       "      <th>1</th>\n",
       "      <td>2</td>\n",
       "      <td>Marcus</td>\n",
       "      <td>25.000000</td>\n",
       "      <td>Activo</td>\n",
       "      <td>2000</td>\n",
       "    </tr>\n",
       "    <tr>\n",
       "      <th>2</th>\n",
       "      <td>3</td>\n",
       "      <td>Loraine</td>\n",
       "      <td>20.000000</td>\n",
       "      <td>Activo</td>\n",
       "      <td>3000</td>\n",
       "    </tr>\n",
       "    <tr>\n",
       "      <th>3</th>\n",
       "      <td>4</td>\n",
       "      <td>Maria</td>\n",
       "      <td>22.000000</td>\n",
       "      <td>Activo</td>\n",
       "      <td>4000</td>\n",
       "    </tr>\n",
       "    <tr>\n",
       "      <th>4</th>\n",
       "      <td>Total</td>\n",
       "      <td>NaN</td>\n",
       "      <td>5.583333</td>\n",
       "      <td>4</td>\n",
       "      <td>10000</td>\n",
       "    </tr>\n",
       "  </tbody>\n",
       "</table>\n",
       "</div>"
      ],
      "text/plain": [
       "      Id   Nombre       Edad Estatus  Dinero\n",
       "0      1     Alan  20.000000  Activo    1000\n",
       "1      2   Marcus  25.000000  Activo    2000\n",
       "2      3  Loraine  20.000000  Activo    3000\n",
       "3      4    Maria  22.000000  Activo    4000\n",
       "4  Total      NaN   5.583333       4   10000"
      ]
     },
     "execution_count": 18,
     "metadata": {},
     "output_type": "execute_result"
    }
   ],
   "source": [
    "\n",
    "%pip install openpyxl\n",
    "\n",
    "df1 = pd.read_excel(\"Prueba Santander.xlsx\") # Importación de datos desde un archivo Excel\n",
    "df1"
   ]
  },
  {
   "cell_type": "code",
   "execution_count": 19,
   "id": "2c943c02",
   "metadata": {},
   "outputs": [
    {
     "data": {
      "text/html": [
       "<div>\n",
       "<style scoped>\n",
       "    .dataframe tbody tr th:only-of-type {\n",
       "        vertical-align: middle;\n",
       "    }\n",
       "\n",
       "    .dataframe tbody tr th {\n",
       "        vertical-align: top;\n",
       "    }\n",
       "\n",
       "    .dataframe thead th {\n",
       "        text-align: right;\n",
       "    }\n",
       "</style>\n",
       "<table border=\"1\" class=\"dataframe\">\n",
       "  <thead>\n",
       "    <tr style=\"text-align: right;\">\n",
       "      <th></th>\n",
       "      <th>Id</th>\n",
       "      <th>Nombre</th>\n",
       "      <th>Edad</th>\n",
       "      <th>Estatus</th>\n",
       "      <th>Dinero</th>\n",
       "    </tr>\n",
       "  </thead>\n",
       "  <tbody>\n",
       "    <tr>\n",
       "      <th>0</th>\n",
       "      <td>1</td>\n",
       "      <td>Alan</td>\n",
       "      <td>20.000000</td>\n",
       "      <td>Activo</td>\n",
       "      <td>1000</td>\n",
       "    </tr>\n",
       "    <tr>\n",
       "      <th>1</th>\n",
       "      <td>2</td>\n",
       "      <td>Marcus</td>\n",
       "      <td>25.000000</td>\n",
       "      <td>Activo</td>\n",
       "      <td>2000</td>\n",
       "    </tr>\n",
       "    <tr>\n",
       "      <th>2</th>\n",
       "      <td>3</td>\n",
       "      <td>Loraine</td>\n",
       "      <td>20.000000</td>\n",
       "      <td>Activo</td>\n",
       "      <td>3000</td>\n",
       "    </tr>\n",
       "    <tr>\n",
       "      <th>3</th>\n",
       "      <td>4</td>\n",
       "      <td>Maria</td>\n",
       "      <td>22.000000</td>\n",
       "      <td>Activo</td>\n",
       "      <td>4000</td>\n",
       "    </tr>\n",
       "    <tr>\n",
       "      <th>4</th>\n",
       "      <td>Total</td>\n",
       "      <td>NaN</td>\n",
       "      <td>5.583333</td>\n",
       "      <td>4</td>\n",
       "      <td>10000</td>\n",
       "    </tr>\n",
       "  </tbody>\n",
       "</table>\n",
       "</div>"
      ],
      "text/plain": [
       "      Id   Nombre       Edad Estatus  Dinero\n",
       "0      1     Alan  20.000000  Activo    1000\n",
       "1      2   Marcus  25.000000  Activo    2000\n",
       "2      3  Loraine  20.000000  Activo    3000\n",
       "3      4    Maria  22.000000  Activo    4000\n",
       "4  Total      NaN   5.583333       4   10000"
      ]
     },
     "execution_count": 19,
     "metadata": {},
     "output_type": "execute_result"
    }
   ],
   "source": [
    "df2 = pd.read_csv(\"Prueba Santander.csv\") # Importación de datos desde un archivo CSV\n",
    "df2"
   ]
  },
  {
   "cell_type": "code",
   "execution_count": 20,
   "id": "832aa672",
   "metadata": {},
   "outputs": [
    {
     "data": {
      "text/html": [
       "<div>\n",
       "<style scoped>\n",
       "    .dataframe tbody tr th:only-of-type {\n",
       "        vertical-align: middle;\n",
       "    }\n",
       "\n",
       "    .dataframe tbody tr th {\n",
       "        vertical-align: top;\n",
       "    }\n",
       "\n",
       "    .dataframe thead th {\n",
       "        text-align: right;\n",
       "    }\n",
       "</style>\n",
       "<table border=\"1\" class=\"dataframe\">\n",
       "  <thead>\n",
       "    <tr style=\"text-align: right;\">\n",
       "      <th></th>\n",
       "      <th>Id,Nombre,Edad,Estatus,Dinero</th>\n",
       "    </tr>\n",
       "  </thead>\n",
       "  <tbody>\n",
       "    <tr>\n",
       "      <th>0</th>\n",
       "      <td>1,Alan,20.0,Activo,1000</td>\n",
       "    </tr>\n",
       "    <tr>\n",
       "      <th>1</th>\n",
       "      <td>2,Marcus,25.0,Activo,2000</td>\n",
       "    </tr>\n",
       "    <tr>\n",
       "      <th>2</th>\n",
       "      <td>3,Loraine,20.0,Activo,3000</td>\n",
       "    </tr>\n",
       "    <tr>\n",
       "      <th>3</th>\n",
       "      <td>4,Maria,22.0,Activo,4000</td>\n",
       "    </tr>\n",
       "    <tr>\n",
       "      <th>4</th>\n",
       "      <td>Total,,5.583333333333333,4,10000</td>\n",
       "    </tr>\n",
       "  </tbody>\n",
       "</table>\n",
       "</div>"
      ],
      "text/plain": [
       "      Id,Nombre,Edad,Estatus,Dinero\n",
       "0           1,Alan,20.0,Activo,1000\n",
       "1         2,Marcus,25.0,Activo,2000\n",
       "2        3,Loraine,20.0,Activo,3000\n",
       "3          4,Maria,22.0,Activo,4000\n",
       "4  Total,,5.583333333333333,4,10000"
      ]
     },
     "execution_count": 20,
     "metadata": {},
     "output_type": "execute_result"
    }
   ],
   "source": [
    "df2 = pd.read_csv(\"Prueba Santander.csv\", sep=\";\") # Importación de datos desde un archivo CSV con separador específico\n",
    "df2.tail() # Muestra las últimas filas del DataFrame\n",
    "df2.head() # Muestra las primeras filas del DataFrame\n"
   ]
  },
  {
   "cell_type": "code",
   "execution_count": 21,
   "id": "4219ab36",
   "metadata": {},
   "outputs": [
    {
     "data": {
      "text/plain": [
       "(5, 1)"
      ]
     },
     "execution_count": 21,
     "metadata": {},
     "output_type": "execute_result"
    }
   ],
   "source": [
    "df2.shape # Muestra la forma del DataFrame (número de filas y columnas)"
   ]
  },
  {
   "cell_type": "markdown",
   "id": "a7021ceb",
   "metadata": {},
   "source": [
    "## Inspeccionando un Dataframe"
   ]
  },
  {
   "cell_type": "code",
   "execution_count": 22,
   "id": "a6428c07",
   "metadata": {},
   "outputs": [
    {
     "data": {
      "text/html": [
       "<div>\n",
       "<style scoped>\n",
       "    .dataframe tbody tr th:only-of-type {\n",
       "        vertical-align: middle;\n",
       "    }\n",
       "\n",
       "    .dataframe tbody tr th {\n",
       "        vertical-align: top;\n",
       "    }\n",
       "\n",
       "    .dataframe thead th {\n",
       "        text-align: right;\n",
       "    }\n",
       "</style>\n",
       "<table border=\"1\" class=\"dataframe\">\n",
       "  <thead>\n",
       "    <tr style=\"text-align: right;\">\n",
       "      <th></th>\n",
       "      <th>Id</th>\n",
       "      <th>Nombre</th>\n",
       "      <th>Edad</th>\n",
       "      <th>Estatus</th>\n",
       "      <th>Dinero</th>\n",
       "    </tr>\n",
       "  </thead>\n",
       "  <tbody>\n",
       "    <tr>\n",
       "      <th>0</th>\n",
       "      <td>1</td>\n",
       "      <td>Alan</td>\n",
       "      <td>20.000000</td>\n",
       "      <td>Activo</td>\n",
       "      <td>1000</td>\n",
       "    </tr>\n",
       "    <tr>\n",
       "      <th>1</th>\n",
       "      <td>2</td>\n",
       "      <td>Marcus</td>\n",
       "      <td>25.000000</td>\n",
       "      <td>Activo</td>\n",
       "      <td>2000</td>\n",
       "    </tr>\n",
       "    <tr>\n",
       "      <th>2</th>\n",
       "      <td>3</td>\n",
       "      <td>Loraine</td>\n",
       "      <td>20.000000</td>\n",
       "      <td>Activo</td>\n",
       "      <td>3000</td>\n",
       "    </tr>\n",
       "    <tr>\n",
       "      <th>3</th>\n",
       "      <td>4</td>\n",
       "      <td>Maria</td>\n",
       "      <td>22.000000</td>\n",
       "      <td>Activo</td>\n",
       "      <td>4000</td>\n",
       "    </tr>\n",
       "    <tr>\n",
       "      <th>4</th>\n",
       "      <td>Total</td>\n",
       "      <td>NaN</td>\n",
       "      <td>5.583333</td>\n",
       "      <td>4</td>\n",
       "      <td>10000</td>\n",
       "    </tr>\n",
       "  </tbody>\n",
       "</table>\n",
       "</div>"
      ],
      "text/plain": [
       "      Id   Nombre       Edad Estatus  Dinero\n",
       "0      1     Alan  20.000000  Activo    1000\n",
       "1      2   Marcus  25.000000  Activo    2000\n",
       "2      3  Loraine  20.000000  Activo    3000\n",
       "3      4    Maria  22.000000  Activo    4000\n",
       "4  Total      NaN   5.583333       4   10000"
      ]
     },
     "execution_count": 22,
     "metadata": {},
     "output_type": "execute_result"
    }
   ],
   "source": [
    "df2 = pd.read_csv(\"Prueba Santander.csv\") # Importación de datos desde un archivo CSV\n",
    "df2"
   ]
  },
  {
   "cell_type": "code",
   "execution_count": 23,
   "id": "c59227b9",
   "metadata": {},
   "outputs": [
    {
     "data": {
      "text/html": [
       "<div>\n",
       "<style scoped>\n",
       "    .dataframe tbody tr th:only-of-type {\n",
       "        vertical-align: middle;\n",
       "    }\n",
       "\n",
       "    .dataframe tbody tr th {\n",
       "        vertical-align: top;\n",
       "    }\n",
       "\n",
       "    .dataframe thead th {\n",
       "        text-align: right;\n",
       "    }\n",
       "</style>\n",
       "<table border=\"1\" class=\"dataframe\">\n",
       "  <thead>\n",
       "    <tr style=\"text-align: right;\">\n",
       "      <th></th>\n",
       "      <th>Id</th>\n",
       "      <th>Nombre</th>\n",
       "      <th>Edad</th>\n",
       "      <th>Estatus</th>\n",
       "      <th>Dinero</th>\n",
       "    </tr>\n",
       "  </thead>\n",
       "  <tbody>\n",
       "    <tr>\n",
       "      <th>0</th>\n",
       "      <td>1</td>\n",
       "      <td>Alan</td>\n",
       "      <td>20.000000</td>\n",
       "      <td>Activo</td>\n",
       "      <td>1000</td>\n",
       "    </tr>\n",
       "    <tr>\n",
       "      <th>1</th>\n",
       "      <td>2</td>\n",
       "      <td>Marcus</td>\n",
       "      <td>25.000000</td>\n",
       "      <td>Activo</td>\n",
       "      <td>2000</td>\n",
       "    </tr>\n",
       "    <tr>\n",
       "      <th>2</th>\n",
       "      <td>3</td>\n",
       "      <td>Loraine</td>\n",
       "      <td>20.000000</td>\n",
       "      <td>Activo</td>\n",
       "      <td>3000</td>\n",
       "    </tr>\n",
       "    <tr>\n",
       "      <th>3</th>\n",
       "      <td>4</td>\n",
       "      <td>Maria</td>\n",
       "      <td>22.000000</td>\n",
       "      <td>Activo</td>\n",
       "      <td>4000</td>\n",
       "    </tr>\n",
       "    <tr>\n",
       "      <th>4</th>\n",
       "      <td>Total</td>\n",
       "      <td>NaN</td>\n",
       "      <td>5.583333</td>\n",
       "      <td>4</td>\n",
       "      <td>10000</td>\n",
       "    </tr>\n",
       "  </tbody>\n",
       "</table>\n",
       "</div>"
      ],
      "text/plain": [
       "      Id   Nombre       Edad Estatus  Dinero\n",
       "0      1     Alan  20.000000  Activo    1000\n",
       "1      2   Marcus  25.000000  Activo    2000\n",
       "2      3  Loraine  20.000000  Activo    3000\n",
       "3      4    Maria  22.000000  Activo    4000\n",
       "4  Total      NaN   5.583333       4   10000"
      ]
     },
     "execution_count": 23,
     "metadata": {},
     "output_type": "execute_result"
    }
   ],
   "source": [
    "df2.head() # Muestra las primeras filas del DataFrame"
   ]
  },
  {
   "cell_type": "code",
   "execution_count": 24,
   "id": "06fa3ee8",
   "metadata": {},
   "outputs": [
    {
     "data": {
      "text/html": [
       "<div>\n",
       "<style scoped>\n",
       "    .dataframe tbody tr th:only-of-type {\n",
       "        vertical-align: middle;\n",
       "    }\n",
       "\n",
       "    .dataframe tbody tr th {\n",
       "        vertical-align: top;\n",
       "    }\n",
       "\n",
       "    .dataframe thead th {\n",
       "        text-align: right;\n",
       "    }\n",
       "</style>\n",
       "<table border=\"1\" class=\"dataframe\">\n",
       "  <thead>\n",
       "    <tr style=\"text-align: right;\">\n",
       "      <th></th>\n",
       "      <th>Id</th>\n",
       "      <th>Nombre</th>\n",
       "      <th>Edad</th>\n",
       "      <th>Estatus</th>\n",
       "      <th>Dinero</th>\n",
       "    </tr>\n",
       "  </thead>\n",
       "  <tbody>\n",
       "    <tr>\n",
       "      <th>1</th>\n",
       "      <td>2</td>\n",
       "      <td>Marcus</td>\n",
       "      <td>25.0</td>\n",
       "      <td>Activo</td>\n",
       "      <td>2000</td>\n",
       "    </tr>\n",
       "    <tr>\n",
       "      <th>3</th>\n",
       "      <td>4</td>\n",
       "      <td>Maria</td>\n",
       "      <td>22.0</td>\n",
       "      <td>Activo</td>\n",
       "      <td>4000</td>\n",
       "    </tr>\n",
       "  </tbody>\n",
       "</table>\n",
       "</div>"
      ],
      "text/plain": [
       "  Id  Nombre  Edad Estatus  Dinero\n",
       "1  2  Marcus  25.0  Activo    2000\n",
       "3  4   Maria  22.0  Activo    4000"
      ]
     },
     "execution_count": 24,
     "metadata": {},
     "output_type": "execute_result"
    }
   ],
   "source": [
    "df2.sample(2) # Muestra una muestra aleatoria de 2 filas del DataFrame"
   ]
  },
  {
   "cell_type": "code",
   "execution_count": 25,
   "id": "d751fe1a",
   "metadata": {},
   "outputs": [
    {
     "data": {
      "text/html": [
       "<div>\n",
       "<style scoped>\n",
       "    .dataframe tbody tr th:only-of-type {\n",
       "        vertical-align: middle;\n",
       "    }\n",
       "\n",
       "    .dataframe tbody tr th {\n",
       "        vertical-align: top;\n",
       "    }\n",
       "\n",
       "    .dataframe thead th {\n",
       "        text-align: right;\n",
       "    }\n",
       "</style>\n",
       "<table border=\"1\" class=\"dataframe\">\n",
       "  <thead>\n",
       "    <tr style=\"text-align: right;\">\n",
       "      <th></th>\n",
       "      <th>Edad</th>\n",
       "      <th>Dinero</th>\n",
       "    </tr>\n",
       "  </thead>\n",
       "  <tbody>\n",
       "    <tr>\n",
       "      <th>count</th>\n",
       "      <td>5.000000</td>\n",
       "      <td>5.000000</td>\n",
       "    </tr>\n",
       "    <tr>\n",
       "      <th>mean</th>\n",
       "      <td>18.516667</td>\n",
       "      <td>4000.000000</td>\n",
       "    </tr>\n",
       "    <tr>\n",
       "      <th>std</th>\n",
       "      <td>7.513968</td>\n",
       "      <td>3535.533906</td>\n",
       "    </tr>\n",
       "    <tr>\n",
       "      <th>min</th>\n",
       "      <td>5.583333</td>\n",
       "      <td>1000.000000</td>\n",
       "    </tr>\n",
       "    <tr>\n",
       "      <th>25%</th>\n",
       "      <td>20.000000</td>\n",
       "      <td>2000.000000</td>\n",
       "    </tr>\n",
       "    <tr>\n",
       "      <th>50%</th>\n",
       "      <td>20.000000</td>\n",
       "      <td>3000.000000</td>\n",
       "    </tr>\n",
       "    <tr>\n",
       "      <th>75%</th>\n",
       "      <td>22.000000</td>\n",
       "      <td>4000.000000</td>\n",
       "    </tr>\n",
       "    <tr>\n",
       "      <th>max</th>\n",
       "      <td>25.000000</td>\n",
       "      <td>10000.000000</td>\n",
       "    </tr>\n",
       "  </tbody>\n",
       "</table>\n",
       "</div>"
      ],
      "text/plain": [
       "            Edad        Dinero\n",
       "count   5.000000      5.000000\n",
       "mean   18.516667   4000.000000\n",
       "std     7.513968   3535.533906\n",
       "min     5.583333   1000.000000\n",
       "25%    20.000000   2000.000000\n",
       "50%    20.000000   3000.000000\n",
       "75%    22.000000   4000.000000\n",
       "max    25.000000  10000.000000"
      ]
     },
     "execution_count": 25,
     "metadata": {},
     "output_type": "execute_result"
    }
   ],
   "source": [
    "df2.describe() # Estadísticas descriptivas del DataFrame"
   ]
  },
  {
   "cell_type": "code",
   "execution_count": 26,
   "id": "a5154d85",
   "metadata": {},
   "outputs": [
    {
     "name": "stdout",
     "output_type": "stream",
     "text": [
      "<class 'pandas.core.frame.DataFrame'>\n",
      "RangeIndex: 5 entries, 0 to 4\n",
      "Data columns (total 5 columns):\n",
      " #   Column   Non-Null Count  Dtype  \n",
      "---  ------   --------------  -----  \n",
      " 0   Id       5 non-null      object \n",
      " 1   Nombre   4 non-null      object \n",
      " 2   Edad     5 non-null      float64\n",
      " 3   Estatus  5 non-null      object \n",
      " 4   Dinero   5 non-null      int64  \n",
      "dtypes: float64(1), int64(1), object(3)\n",
      "memory usage: 328.0+ bytes\n"
     ]
    }
   ],
   "source": [
    "df2.info() # Información sobre el DataFrame, incluyendo tipos de datos y memoria utilizada"
   ]
  },
  {
   "cell_type": "markdown",
   "id": "159e7412",
   "metadata": {},
   "source": [
    "## Accediendo a datos"
   ]
  },
  {
   "cell_type": "code",
   "execution_count": 27,
   "id": "87b763fc",
   "metadata": {},
   "outputs": [
    {
     "data": {
      "text/html": [
       "<div>\n",
       "<style scoped>\n",
       "    .dataframe tbody tr th:only-of-type {\n",
       "        vertical-align: middle;\n",
       "    }\n",
       "\n",
       "    .dataframe tbody tr th {\n",
       "        vertical-align: top;\n",
       "    }\n",
       "\n",
       "    .dataframe thead th {\n",
       "        text-align: right;\n",
       "    }\n",
       "</style>\n",
       "<table border=\"1\" class=\"dataframe\">\n",
       "  <thead>\n",
       "    <tr style=\"text-align: right;\">\n",
       "      <th></th>\n",
       "      <th>Nombre</th>\n",
       "      <th>Edad</th>\n",
       "      <th>Estatus</th>\n",
       "      <th>Dinero</th>\n",
       "    </tr>\n",
       "    <tr>\n",
       "      <th>Id</th>\n",
       "      <th></th>\n",
       "      <th></th>\n",
       "      <th></th>\n",
       "      <th></th>\n",
       "    </tr>\n",
       "  </thead>\n",
       "  <tbody>\n",
       "    <tr>\n",
       "      <th>1</th>\n",
       "      <td>Alan</td>\n",
       "      <td>20.000000</td>\n",
       "      <td>Activo</td>\n",
       "      <td>1000</td>\n",
       "    </tr>\n",
       "    <tr>\n",
       "      <th>2</th>\n",
       "      <td>Marcus</td>\n",
       "      <td>25.000000</td>\n",
       "      <td>Activo</td>\n",
       "      <td>2000</td>\n",
       "    </tr>\n",
       "    <tr>\n",
       "      <th>3</th>\n",
       "      <td>Loraine</td>\n",
       "      <td>20.000000</td>\n",
       "      <td>Activo</td>\n",
       "      <td>3000</td>\n",
       "    </tr>\n",
       "    <tr>\n",
       "      <th>4</th>\n",
       "      <td>Maria</td>\n",
       "      <td>22.000000</td>\n",
       "      <td>Activo</td>\n",
       "      <td>4000</td>\n",
       "    </tr>\n",
       "    <tr>\n",
       "      <th>Total</th>\n",
       "      <td>NaN</td>\n",
       "      <td>5.583333</td>\n",
       "      <td>4</td>\n",
       "      <td>10000</td>\n",
       "    </tr>\n",
       "  </tbody>\n",
       "</table>\n",
       "</div>"
      ],
      "text/plain": [
       "        Nombre       Edad Estatus  Dinero\n",
       "Id                                       \n",
       "1         Alan  20.000000  Activo    1000\n",
       "2       Marcus  25.000000  Activo    2000\n",
       "3      Loraine  20.000000  Activo    3000\n",
       "4        Maria  22.000000  Activo    4000\n",
       "Total      NaN   5.583333       4   10000"
      ]
     },
     "metadata": {},
     "output_type": "display_data"
    }
   ],
   "source": [
    "df3 = pd.read_csv(\"Prueba Santander.csv\")\n",
    "df3.set_index(\"Id\", inplace=True) # Establece la columna \"ID\" como índice del DataFrame\n",
    "display(df3.head())"
   ]
  },
  {
   "cell_type": "code",
   "execution_count": 28,
   "id": "24b53bf2",
   "metadata": {},
   "outputs": [
    {
     "data": {
      "text/plain": [
       "Id\n",
       "1        20.000000\n",
       "2        25.000000\n",
       "3        20.000000\n",
       "4        22.000000\n",
       "Total     5.583333\n",
       "Name: Edad, dtype: float64"
      ]
     },
     "execution_count": 28,
     "metadata": {},
     "output_type": "execute_result"
    }
   ],
   "source": [
    "df3['Edad'] # Acceso a una columna específica del DataFrame "
   ]
  },
  {
   "cell_type": "code",
   "execution_count": 29,
   "id": "1ad0103b",
   "metadata": {},
   "outputs": [
    {
     "data": {
      "text/plain": [
       "pandas.core.series.Series"
      ]
     },
     "execution_count": 29,
     "metadata": {},
     "output_type": "execute_result"
    }
   ],
   "source": [
    "type(df3['Edad']) # Muestra el tipo de dato de la columna 'Edad' (Series)"
   ]
  },
  {
   "cell_type": "code",
   "execution_count": 30,
   "id": "cf0d85c5",
   "metadata": {},
   "outputs": [
    {
     "data": {
      "text/plain": [
       "Nombre     Marcus\n",
       "Edad         25.0\n",
       "Estatus    Activo\n",
       "Dinero       2000\n",
       "Name: 2, dtype: object"
      ]
     },
     "execution_count": 30,
     "metadata": {},
     "output_type": "execute_result"
    }
   ],
   "source": [
    "df3.iloc[1] # Acceso a una fila específica por etiqueta (índice) "
   ]
  },
  {
   "cell_type": "markdown",
   "id": "0d7b6e74",
   "metadata": {},
   "source": [
    "## Rangos y filtrado de datos"
   ]
  },
  {
   "cell_type": "code",
   "execution_count": 31,
   "id": "aaa1aded",
   "metadata": {},
   "outputs": [
    {
     "data": {
      "text/html": [
       "<div>\n",
       "<style scoped>\n",
       "    .dataframe tbody tr th:only-of-type {\n",
       "        vertical-align: middle;\n",
       "    }\n",
       "\n",
       "    .dataframe tbody tr th {\n",
       "        vertical-align: top;\n",
       "    }\n",
       "\n",
       "    .dataframe thead th {\n",
       "        text-align: right;\n",
       "    }\n",
       "</style>\n",
       "<table border=\"1\" class=\"dataframe\">\n",
       "  <thead>\n",
       "    <tr style=\"text-align: right;\">\n",
       "      <th></th>\n",
       "      <th>Nombre</th>\n",
       "      <th>Edad</th>\n",
       "      <th>Estatus</th>\n",
       "      <th>Dinero</th>\n",
       "    </tr>\n",
       "    <tr>\n",
       "      <th>Id</th>\n",
       "      <th></th>\n",
       "      <th></th>\n",
       "      <th></th>\n",
       "      <th></th>\n",
       "    </tr>\n",
       "  </thead>\n",
       "  <tbody>\n",
       "    <tr>\n",
       "      <th>2</th>\n",
       "      <td>Marcus</td>\n",
       "      <td>25.0</td>\n",
       "      <td>Activo</td>\n",
       "      <td>2000</td>\n",
       "    </tr>\n",
       "    <tr>\n",
       "      <th>3</th>\n",
       "      <td>Loraine</td>\n",
       "      <td>20.0</td>\n",
       "      <td>Activo</td>\n",
       "      <td>3000</td>\n",
       "    </tr>\n",
       "    <tr>\n",
       "      <th>4</th>\n",
       "      <td>Maria</td>\n",
       "      <td>22.0</td>\n",
       "      <td>Activo</td>\n",
       "      <td>4000</td>\n",
       "    </tr>\n",
       "  </tbody>\n",
       "</table>\n",
       "</div>"
      ],
      "text/plain": [
       "     Nombre  Edad Estatus  Dinero\n",
       "Id                               \n",
       "2    Marcus  25.0  Activo    2000\n",
       "3   Loraine  20.0  Activo    3000\n",
       "4     Maria  22.0  Activo    4000"
      ]
     },
     "execution_count": 31,
     "metadata": {},
     "output_type": "execute_result"
    }
   ],
   "source": [
    "df3.iloc[1:4] # Acceso a un rango de filas por posición (de la 1 a la 3)"
   ]
  },
  {
   "cell_type": "code",
   "execution_count": 32,
   "id": "0b5cc0ce",
   "metadata": {},
   "outputs": [
    {
     "data": {
      "text/html": [
       "<div>\n",
       "<style scoped>\n",
       "    .dataframe tbody tr th:only-of-type {\n",
       "        vertical-align: middle;\n",
       "    }\n",
       "\n",
       "    .dataframe tbody tr th {\n",
       "        vertical-align: top;\n",
       "    }\n",
       "\n",
       "    .dataframe thead th {\n",
       "        text-align: right;\n",
       "    }\n",
       "</style>\n",
       "<table border=\"1\" class=\"dataframe\">\n",
       "  <thead>\n",
       "    <tr style=\"text-align: right;\">\n",
       "      <th></th>\n",
       "      <th>Nombre</th>\n",
       "      <th>Edad</th>\n",
       "      <th>Estatus</th>\n",
       "      <th>Dinero</th>\n",
       "    </tr>\n",
       "    <tr>\n",
       "      <th>Id</th>\n",
       "      <th></th>\n",
       "      <th></th>\n",
       "      <th></th>\n",
       "      <th></th>\n",
       "    </tr>\n",
       "  </thead>\n",
       "  <tbody>\n",
       "    <tr>\n",
       "      <th>2</th>\n",
       "      <td>Marcus</td>\n",
       "      <td>25.000000</td>\n",
       "      <td>Activo</td>\n",
       "      <td>2000</td>\n",
       "    </tr>\n",
       "    <tr>\n",
       "      <th>3</th>\n",
       "      <td>Loraine</td>\n",
       "      <td>20.000000</td>\n",
       "      <td>Activo</td>\n",
       "      <td>3000</td>\n",
       "    </tr>\n",
       "    <tr>\n",
       "      <th>4</th>\n",
       "      <td>Maria</td>\n",
       "      <td>22.000000</td>\n",
       "      <td>Activo</td>\n",
       "      <td>4000</td>\n",
       "    </tr>\n",
       "    <tr>\n",
       "      <th>Total</th>\n",
       "      <td>NaN</td>\n",
       "      <td>5.583333</td>\n",
       "      <td>4</td>\n",
       "      <td>10000</td>\n",
       "    </tr>\n",
       "  </tbody>\n",
       "</table>\n",
       "</div>"
      ],
      "text/plain": [
       "        Nombre       Edad Estatus  Dinero\n",
       "Id                                       \n",
       "2       Marcus  25.000000  Activo    2000\n",
       "3      Loraine  20.000000  Activo    3000\n",
       "4        Maria  22.000000  Activo    4000\n",
       "Total      NaN   5.583333       4   10000"
      ]
     },
     "execution_count": 32,
     "metadata": {},
     "output_type": "execute_result"
    }
   ],
   "source": [
    "df3.iloc[1:] # Acceso a todas las filas desde la posición 1 en adelante"
   ]
  },
  {
   "cell_type": "code",
   "execution_count": 33,
   "id": "47690f11",
   "metadata": {},
   "outputs": [
    {
     "data": {
      "text/html": [
       "<div>\n",
       "<style scoped>\n",
       "    .dataframe tbody tr th:only-of-type {\n",
       "        vertical-align: middle;\n",
       "    }\n",
       "\n",
       "    .dataframe tbody tr th {\n",
       "        vertical-align: top;\n",
       "    }\n",
       "\n",
       "    .dataframe thead th {\n",
       "        text-align: right;\n",
       "    }\n",
       "</style>\n",
       "<table border=\"1\" class=\"dataframe\">\n",
       "  <thead>\n",
       "    <tr style=\"text-align: right;\">\n",
       "      <th></th>\n",
       "      <th>Nombre</th>\n",
       "      <th>Edad</th>\n",
       "      <th>Estatus</th>\n",
       "      <th>Dinero</th>\n",
       "    </tr>\n",
       "    <tr>\n",
       "      <th>Id</th>\n",
       "      <th></th>\n",
       "      <th></th>\n",
       "      <th></th>\n",
       "      <th></th>\n",
       "    </tr>\n",
       "  </thead>\n",
       "  <tbody>\n",
       "    <tr>\n",
       "      <th>2</th>\n",
       "      <td>Marcus</td>\n",
       "      <td>25.0</td>\n",
       "      <td>Activo</td>\n",
       "      <td>2000</td>\n",
       "    </tr>\n",
       "    <tr>\n",
       "      <th>4</th>\n",
       "      <td>Maria</td>\n",
       "      <td>22.0</td>\n",
       "      <td>Activo</td>\n",
       "      <td>4000</td>\n",
       "    </tr>\n",
       "  </tbody>\n",
       "</table>\n",
       "</div>"
      ],
      "text/plain": [
       "    Nombre  Edad Estatus  Dinero\n",
       "Id                              \n",
       "2   Marcus  25.0  Activo    2000\n",
       "4    Maria  22.0  Activo    4000"
      ]
     },
     "execution_count": 33,
     "metadata": {},
     "output_type": "execute_result"
    }
   ],
   "source": [
    "df3[df3['Edad'] > 20] # Filtrado de filas donde la edad es mayor a 20"
   ]
  },
  {
   "cell_type": "code",
   "execution_count": 34,
   "id": "0871d1b4",
   "metadata": {},
   "outputs": [
    {
     "data": {
      "text/html": [
       "<div>\n",
       "<style scoped>\n",
       "    .dataframe tbody tr th:only-of-type {\n",
       "        vertical-align: middle;\n",
       "    }\n",
       "\n",
       "    .dataframe tbody tr th {\n",
       "        vertical-align: top;\n",
       "    }\n",
       "\n",
       "    .dataframe thead th {\n",
       "        text-align: right;\n",
       "    }\n",
       "</style>\n",
       "<table border=\"1\" class=\"dataframe\">\n",
       "  <thead>\n",
       "    <tr style=\"text-align: right;\">\n",
       "      <th></th>\n",
       "      <th>Nombre</th>\n",
       "      <th>Edad</th>\n",
       "      <th>Estatus</th>\n",
       "      <th>Dinero</th>\n",
       "    </tr>\n",
       "    <tr>\n",
       "      <th>Id</th>\n",
       "      <th></th>\n",
       "      <th></th>\n",
       "      <th></th>\n",
       "      <th></th>\n",
       "    </tr>\n",
       "  </thead>\n",
       "  <tbody>\n",
       "    <tr>\n",
       "      <th>1</th>\n",
       "      <td>Alan</td>\n",
       "      <td>20.0</td>\n",
       "      <td>Activo</td>\n",
       "      <td>1000</td>\n",
       "    </tr>\n",
       "  </tbody>\n",
       "</table>\n",
       "</div>"
      ],
      "text/plain": [
       "   Nombre  Edad Estatus  Dinero\n",
       "Id                             \n",
       "1    Alan  20.0  Activo    1000"
      ]
     },
     "execution_count": 34,
     "metadata": {},
     "output_type": "execute_result"
    }
   ],
   "source": [
    "df3[df3['Dinero'] < 2000] # Filtrado de filas donde el dinero es menor a 2000"
   ]
  },
  {
   "cell_type": "markdown",
   "id": "56e450a5",
   "metadata": {},
   "source": [
    "## Gestion de valores nulos"
   ]
  },
  {
   "cell_type": "code",
   "execution_count": 42,
   "id": "3a64bad1",
   "metadata": {},
   "outputs": [
    {
     "data": {
      "text/plain": [
       "0    1.0\n",
       "1    NaN\n",
       "2    3.0\n",
       "3    NaN\n",
       "4    5.0\n",
       "dtype: float64"
      ]
     },
     "metadata": {},
     "output_type": "display_data"
    },
    {
     "data": {
      "text/html": [
       "<div>\n",
       "<style scoped>\n",
       "    .dataframe tbody tr th:only-of-type {\n",
       "        vertical-align: middle;\n",
       "    }\n",
       "\n",
       "    .dataframe tbody tr th {\n",
       "        vertical-align: top;\n",
       "    }\n",
       "\n",
       "    .dataframe thead th {\n",
       "        text-align: right;\n",
       "    }\n",
       "</style>\n",
       "<table border=\"1\" class=\"dataframe\">\n",
       "  <thead>\n",
       "    <tr style=\"text-align: right;\">\n",
       "      <th></th>\n",
       "      <th>A</th>\n",
       "      <th>B</th>\n",
       "      <th>C</th>\n",
       "    </tr>\n",
       "  </thead>\n",
       "  <tbody>\n",
       "    <tr>\n",
       "      <th>Enero</th>\n",
       "      <td>1.0</td>\n",
       "      <td>3.0</td>\n",
       "      <td>NaN</td>\n",
       "    </tr>\n",
       "    <tr>\n",
       "      <th>Febrero</th>\n",
       "      <td>2.0</td>\n",
       "      <td>2.0</td>\n",
       "      <td>7.0</td>\n",
       "    </tr>\n",
       "    <tr>\n",
       "      <th>Marzo</th>\n",
       "      <td>NaN</td>\n",
       "      <td>5.0</td>\n",
       "      <td>NaN</td>\n",
       "    </tr>\n",
       "    <tr>\n",
       "      <th>Abril</th>\n",
       "      <td>4.0</td>\n",
       "      <td>NaN</td>\n",
       "      <td>2.0</td>\n",
       "    </tr>\n",
       "  </tbody>\n",
       "</table>\n",
       "</div>"
      ],
      "text/plain": [
       "           A    B    C\n",
       "Enero    1.0  3.0  NaN\n",
       "Febrero  2.0  2.0  7.0\n",
       "Marzo    NaN  5.0  NaN\n",
       "Abril    4.0  NaN  2.0"
      ]
     },
     "metadata": {},
     "output_type": "display_data"
    }
   ],
   "source": [
    "s1 = pd.Series([1,np.nan,3,np.nan,5]) # Serie con valores NaN\n",
    "display(s1)\n",
    "df4 = pd.DataFrame({'A':[1,2,np.nan,4],'B':[3,2,5,np.nan], 'C':[np.nan,7,np.nan,2]}, index=['Enero', 'Febrero', 'Marzo', 'Abril']) # DataFrame con valores NaN\n",
    "display(df4)"
   ]
  },
  {
   "cell_type": "markdown",
   "id": "f0de97c4",
   "metadata": {},
   "source": [
    "### Metodos para valores nulos"
   ]
  },
  {
   "cell_type": "code",
   "execution_count": null,
   "id": "91633a8e",
   "metadata": {},
   "outputs": [
    {
     "data": {
      "text/plain": [
       "0    False\n",
       "1     True\n",
       "2    False\n",
       "3     True\n",
       "4    False\n",
       "dtype: bool"
      ]
     },
     "execution_count": 36,
     "metadata": {},
     "output_type": "execute_result"
    }
   ],
   "source": [
    "s1.isnull() # Verifica si los valores son NaN\n"
   ]
  },
  {
   "cell_type": "code",
   "execution_count": 37,
   "id": "f5c4483f",
   "metadata": {},
   "outputs": [
    {
     "data": {
      "text/html": [
       "<div>\n",
       "<style scoped>\n",
       "    .dataframe tbody tr th:only-of-type {\n",
       "        vertical-align: middle;\n",
       "    }\n",
       "\n",
       "    .dataframe tbody tr th {\n",
       "        vertical-align: top;\n",
       "    }\n",
       "\n",
       "    .dataframe thead th {\n",
       "        text-align: right;\n",
       "    }\n",
       "</style>\n",
       "<table border=\"1\" class=\"dataframe\">\n",
       "  <thead>\n",
       "    <tr style=\"text-align: right;\">\n",
       "      <th></th>\n",
       "      <th>A</th>\n",
       "      <th>B</th>\n",
       "      <th>C</th>\n",
       "    </tr>\n",
       "  </thead>\n",
       "  <tbody>\n",
       "    <tr>\n",
       "      <th>Enero</th>\n",
       "      <td>False</td>\n",
       "      <td>False</td>\n",
       "      <td>True</td>\n",
       "    </tr>\n",
       "    <tr>\n",
       "      <th>Febrero</th>\n",
       "      <td>False</td>\n",
       "      <td>False</td>\n",
       "      <td>False</td>\n",
       "    </tr>\n",
       "    <tr>\n",
       "      <th>Marzo</th>\n",
       "      <td>True</td>\n",
       "      <td>False</td>\n",
       "      <td>True</td>\n",
       "    </tr>\n",
       "    <tr>\n",
       "      <th>Abril</th>\n",
       "      <td>False</td>\n",
       "      <td>True</td>\n",
       "      <td>False</td>\n",
       "    </tr>\n",
       "  </tbody>\n",
       "</table>\n",
       "</div>"
      ],
      "text/plain": [
       "             A      B      C\n",
       "Enero    False  False   True\n",
       "Febrero  False  False  False\n",
       "Marzo     True  False   True\n",
       "Abril    False   True  False"
      ]
     },
     "execution_count": 37,
     "metadata": {},
     "output_type": "execute_result"
    }
   ],
   "source": [
    "df4.isnull() # Verifica si los valores en el DataFrame son NaN"
   ]
  },
  {
   "cell_type": "code",
   "execution_count": null,
   "id": "2a7987e2",
   "metadata": {},
   "outputs": [
    {
     "data": {
      "text/plain": [
       "0    1.0\n",
       "1    NaN\n",
       "2    3.0\n",
       "3    NaN\n",
       "4    5.0\n",
       "dtype: float64"
      ]
     },
     "execution_count": 39,
     "metadata": {},
     "output_type": "execute_result"
    }
   ],
   "source": [
    "s1.dropna() # Elimina los valores NaN de la Serie\n",
    "s1 # no elimina los NaN del original"
   ]
  },
  {
   "cell_type": "code",
   "execution_count": 40,
   "id": "15b8f6f5",
   "metadata": {},
   "outputs": [
    {
     "data": {
      "text/html": [
       "<div>\n",
       "<style scoped>\n",
       "    .dataframe tbody tr th:only-of-type {\n",
       "        vertical-align: middle;\n",
       "    }\n",
       "\n",
       "    .dataframe tbody tr th {\n",
       "        vertical-align: top;\n",
       "    }\n",
       "\n",
       "    .dataframe thead th {\n",
       "        text-align: right;\n",
       "    }\n",
       "</style>\n",
       "<table border=\"1\" class=\"dataframe\">\n",
       "  <thead>\n",
       "    <tr style=\"text-align: right;\">\n",
       "      <th></th>\n",
       "      <th>A</th>\n",
       "      <th>B</th>\n",
       "      <th>C</th>\n",
       "    </tr>\n",
       "  </thead>\n",
       "  <tbody>\n",
       "    <tr>\n",
       "      <th>Febrero</th>\n",
       "      <td>2.0</td>\n",
       "      <td>2.0</td>\n",
       "      <td>7.0</td>\n",
       "    </tr>\n",
       "  </tbody>\n",
       "</table>\n",
       "</div>"
      ],
      "text/plain": [
       "           A    B    C\n",
       "Febrero  2.0  2.0  7.0"
      ]
     },
     "execution_count": 40,
     "metadata": {},
     "output_type": "execute_result"
    }
   ],
   "source": [
    "df4.dropna() # Elimina las filas con cualquier valor NaN del DataFrame"
   ]
  },
  {
   "cell_type": "code",
   "execution_count": 41,
   "id": "ee626b8b",
   "metadata": {},
   "outputs": [
    {
     "data": {
      "text/html": [
       "<div>\n",
       "<style scoped>\n",
       "    .dataframe tbody tr th:only-of-type {\n",
       "        vertical-align: middle;\n",
       "    }\n",
       "\n",
       "    .dataframe tbody tr th {\n",
       "        vertical-align: top;\n",
       "    }\n",
       "\n",
       "    .dataframe thead th {\n",
       "        text-align: right;\n",
       "    }\n",
       "</style>\n",
       "<table border=\"1\" class=\"dataframe\">\n",
       "  <thead>\n",
       "    <tr style=\"text-align: right;\">\n",
       "      <th></th>\n",
       "    </tr>\n",
       "  </thead>\n",
       "  <tbody>\n",
       "    <tr>\n",
       "      <th>Enero</th>\n",
       "    </tr>\n",
       "    <tr>\n",
       "      <th>Febrero</th>\n",
       "    </tr>\n",
       "    <tr>\n",
       "      <th>Marzo</th>\n",
       "    </tr>\n",
       "    <tr>\n",
       "      <th>Abril</th>\n",
       "    </tr>\n",
       "  </tbody>\n",
       "</table>\n",
       "</div>"
      ],
      "text/plain": [
       "Empty DataFrame\n",
       "Columns: []\n",
       "Index: [Enero, Febrero, Marzo, Abril]"
      ]
     },
     "execution_count": 41,
     "metadata": {},
     "output_type": "execute_result"
    }
   ],
   "source": [
    "df4.dropna(axis=1) # Elimina las columnas con cualquier valor NaN del DataFrame"
   ]
  },
  {
   "cell_type": "code",
   "execution_count": 43,
   "id": "f58c5e7c",
   "metadata": {},
   "outputs": [
    {
     "data": {
      "text/html": [
       "<div>\n",
       "<style scoped>\n",
       "    .dataframe tbody tr th:only-of-type {\n",
       "        vertical-align: middle;\n",
       "    }\n",
       "\n",
       "    .dataframe tbody tr th {\n",
       "        vertical-align: top;\n",
       "    }\n",
       "\n",
       "    .dataframe thead th {\n",
       "        text-align: right;\n",
       "    }\n",
       "</style>\n",
       "<table border=\"1\" class=\"dataframe\">\n",
       "  <thead>\n",
       "    <tr style=\"text-align: right;\">\n",
       "      <th></th>\n",
       "      <th>A</th>\n",
       "      <th>B</th>\n",
       "      <th>C</th>\n",
       "    </tr>\n",
       "  </thead>\n",
       "  <tbody>\n",
       "    <tr>\n",
       "      <th>Enero</th>\n",
       "      <td>1.0</td>\n",
       "      <td>3.0</td>\n",
       "      <td>NaN</td>\n",
       "    </tr>\n",
       "    <tr>\n",
       "      <th>Febrero</th>\n",
       "      <td>2.0</td>\n",
       "      <td>2.0</td>\n",
       "      <td>7.0</td>\n",
       "    </tr>\n",
       "    <tr>\n",
       "      <th>Marzo</th>\n",
       "      <td>NaN</td>\n",
       "      <td>5.0</td>\n",
       "      <td>NaN</td>\n",
       "    </tr>\n",
       "    <tr>\n",
       "      <th>Abril</th>\n",
       "      <td>4.0</td>\n",
       "      <td>NaN</td>\n",
       "      <td>2.0</td>\n",
       "    </tr>\n",
       "  </tbody>\n",
       "</table>\n",
       "</div>"
      ],
      "text/plain": [
       "           A    B    C\n",
       "Enero    1.0  3.0  NaN\n",
       "Febrero  2.0  2.0  7.0\n",
       "Marzo    NaN  5.0  NaN\n",
       "Abril    4.0  NaN  2.0"
      ]
     },
     "execution_count": 43,
     "metadata": {},
     "output_type": "execute_result"
    }
   ],
   "source": [
    "df4.dropna(how= 'all') # Elimina las filas con todos los valores NaN del DataFrame"
   ]
  },
  {
   "cell_type": "code",
   "execution_count": 44,
   "id": "e9d3f7a3",
   "metadata": {},
   "outputs": [
    {
     "data": {
      "text/html": [
       "<div>\n",
       "<style scoped>\n",
       "    .dataframe tbody tr th:only-of-type {\n",
       "        vertical-align: middle;\n",
       "    }\n",
       "\n",
       "    .dataframe tbody tr th {\n",
       "        vertical-align: top;\n",
       "    }\n",
       "\n",
       "    .dataframe thead th {\n",
       "        text-align: right;\n",
       "    }\n",
       "</style>\n",
       "<table border=\"1\" class=\"dataframe\">\n",
       "  <thead>\n",
       "    <tr style=\"text-align: right;\">\n",
       "      <th></th>\n",
       "      <th>A</th>\n",
       "      <th>B</th>\n",
       "      <th>C</th>\n",
       "    </tr>\n",
       "  </thead>\n",
       "  <tbody>\n",
       "    <tr>\n",
       "      <th>Febrero</th>\n",
       "      <td>2.0</td>\n",
       "      <td>2.0</td>\n",
       "      <td>7.0</td>\n",
       "    </tr>\n",
       "  </tbody>\n",
       "</table>\n",
       "</div>"
      ],
      "text/plain": [
       "           A    B    C\n",
       "Febrero  2.0  2.0  7.0"
      ]
     },
     "execution_count": 44,
     "metadata": {},
     "output_type": "execute_result"
    }
   ],
   "source": [
    "df4.dropna(how='any') # Elimina las filas con cualquier valor NaN del DataFrame"
   ]
  },
  {
   "cell_type": "code",
   "execution_count": 45,
   "id": "8756157d",
   "metadata": {},
   "outputs": [
    {
     "data": {
      "text/html": [
       "<div>\n",
       "<style scoped>\n",
       "    .dataframe tbody tr th:only-of-type {\n",
       "        vertical-align: middle;\n",
       "    }\n",
       "\n",
       "    .dataframe tbody tr th {\n",
       "        vertical-align: top;\n",
       "    }\n",
       "\n",
       "    .dataframe thead th {\n",
       "        text-align: right;\n",
       "    }\n",
       "</style>\n",
       "<table border=\"1\" class=\"dataframe\">\n",
       "  <thead>\n",
       "    <tr style=\"text-align: right;\">\n",
       "      <th></th>\n",
       "      <th>A</th>\n",
       "      <th>B</th>\n",
       "      <th>C</th>\n",
       "    </tr>\n",
       "  </thead>\n",
       "  <tbody>\n",
       "    <tr>\n",
       "      <th>Enero</th>\n",
       "      <td>1.0</td>\n",
       "      <td>3.0</td>\n",
       "      <td>0.0</td>\n",
       "    </tr>\n",
       "    <tr>\n",
       "      <th>Febrero</th>\n",
       "      <td>2.0</td>\n",
       "      <td>2.0</td>\n",
       "      <td>7.0</td>\n",
       "    </tr>\n",
       "    <tr>\n",
       "      <th>Marzo</th>\n",
       "      <td>0.0</td>\n",
       "      <td>5.0</td>\n",
       "      <td>0.0</td>\n",
       "    </tr>\n",
       "    <tr>\n",
       "      <th>Abril</th>\n",
       "      <td>4.0</td>\n",
       "      <td>0.0</td>\n",
       "      <td>2.0</td>\n",
       "    </tr>\n",
       "  </tbody>\n",
       "</table>\n",
       "</div>"
      ],
      "text/plain": [
       "           A    B    C\n",
       "Enero    1.0  3.0  0.0\n",
       "Febrero  2.0  2.0  7.0\n",
       "Marzo    0.0  5.0  0.0\n",
       "Abril    4.0  0.0  2.0"
      ]
     },
     "execution_count": 45,
     "metadata": {},
     "output_type": "execute_result"
    }
   ],
   "source": [
    "df4.fillna(0) # Rellena los valores NaN con 0"
   ]
  },
  {
   "cell_type": "code",
   "execution_count": 46,
   "id": "80bdbc18",
   "metadata": {},
   "outputs": [
    {
     "name": "stderr",
     "output_type": "stream",
     "text": [
      "C:\\Users\\Usuario\\AppData\\Local\\Temp\\ipykernel_5168\\421198844.py:1: FutureWarning: Series.fillna with 'method' is deprecated and will raise in a future version. Use obj.ffill() or obj.bfill() instead.\n",
      "  s1.fillna(method='ffill') # Rellena los valores NaN con el valor anterior no nulo\n"
     ]
    },
    {
     "data": {
      "text/plain": [
       "0    1.0\n",
       "1    1.0\n",
       "2    3.0\n",
       "3    3.0\n",
       "4    5.0\n",
       "dtype: float64"
      ]
     },
     "execution_count": 46,
     "metadata": {},
     "output_type": "execute_result"
    }
   ],
   "source": [
    "s1.fillna(method='ffill') # Rellena los valores NaN con el valor anterior no nulo"
   ]
  },
  {
   "cell_type": "code",
   "execution_count": 47,
   "id": "7ce66ac6",
   "metadata": {},
   "outputs": [
    {
     "name": "stderr",
     "output_type": "stream",
     "text": [
      "C:\\Users\\Usuario\\AppData\\Local\\Temp\\ipykernel_5168\\835207405.py:1: FutureWarning: Series.fillna with 'method' is deprecated and will raise in a future version. Use obj.ffill() or obj.bfill() instead.\n",
      "  s1.fillna(method='bfill') # Rellena los valores NaN con el siguiente valor no nulo\n"
     ]
    },
    {
     "data": {
      "text/plain": [
       "0    1.0\n",
       "1    3.0\n",
       "2    3.0\n",
       "3    5.0\n",
       "4    5.0\n",
       "dtype: float64"
      ]
     },
     "execution_count": 47,
     "metadata": {},
     "output_type": "execute_result"
    }
   ],
   "source": [
    "s1.fillna(method='bfill') # Rellena los valores NaN con el siguiente valor no nulo"
   ]
  },
  {
   "cell_type": "code",
   "execution_count": 48,
   "id": "69c42953",
   "metadata": {},
   "outputs": [
    {
     "data": {
      "text/html": [
       "<div>\n",
       "<style scoped>\n",
       "    .dataframe tbody tr th:only-of-type {\n",
       "        vertical-align: middle;\n",
       "    }\n",
       "\n",
       "    .dataframe tbody tr th {\n",
       "        vertical-align: top;\n",
       "    }\n",
       "\n",
       "    .dataframe thead th {\n",
       "        text-align: right;\n",
       "    }\n",
       "</style>\n",
       "<table border=\"1\" class=\"dataframe\">\n",
       "  <thead>\n",
       "    <tr style=\"text-align: right;\">\n",
       "      <th></th>\n",
       "      <th>A</th>\n",
       "      <th>B</th>\n",
       "      <th>C</th>\n",
       "    </tr>\n",
       "  </thead>\n",
       "  <tbody>\n",
       "    <tr>\n",
       "      <th>Enero</th>\n",
       "      <td>1.0</td>\n",
       "      <td>3.0</td>\n",
       "      <td>NaN</td>\n",
       "    </tr>\n",
       "    <tr>\n",
       "      <th>Febrero</th>\n",
       "      <td>2.0</td>\n",
       "      <td>2.0</td>\n",
       "      <td>7.0</td>\n",
       "    </tr>\n",
       "    <tr>\n",
       "      <th>Marzo</th>\n",
       "      <td>NaN</td>\n",
       "      <td>5.0</td>\n",
       "      <td>NaN</td>\n",
       "    </tr>\n",
       "    <tr>\n",
       "      <th>Abril</th>\n",
       "      <td>4.0</td>\n",
       "      <td>NaN</td>\n",
       "      <td>2.0</td>\n",
       "    </tr>\n",
       "  </tbody>\n",
       "</table>\n",
       "</div>"
      ],
      "text/plain": [
       "           A    B    C\n",
       "Enero    1.0  3.0  NaN\n",
       "Febrero  2.0  2.0  7.0\n",
       "Marzo    NaN  5.0  NaN\n",
       "Abril    4.0  NaN  2.0"
      ]
     },
     "metadata": {},
     "output_type": "display_data"
    },
    {
     "data": {
      "text/html": [
       "<div>\n",
       "<style scoped>\n",
       "    .dataframe tbody tr th:only-of-type {\n",
       "        vertical-align: middle;\n",
       "    }\n",
       "\n",
       "    .dataframe tbody tr th {\n",
       "        vertical-align: top;\n",
       "    }\n",
       "\n",
       "    .dataframe thead th {\n",
       "        text-align: right;\n",
       "    }\n",
       "</style>\n",
       "<table border=\"1\" class=\"dataframe\">\n",
       "  <thead>\n",
       "    <tr style=\"text-align: right;\">\n",
       "      <th></th>\n",
       "      <th>A</th>\n",
       "      <th>B</th>\n",
       "      <th>C</th>\n",
       "    </tr>\n",
       "  </thead>\n",
       "  <tbody>\n",
       "    <tr>\n",
       "      <th>Enero</th>\n",
       "      <td>1.0</td>\n",
       "      <td>3.0</td>\n",
       "      <td>0.0</td>\n",
       "    </tr>\n",
       "    <tr>\n",
       "      <th>Febrero</th>\n",
       "      <td>2.0</td>\n",
       "      <td>2.0</td>\n",
       "      <td>7.0</td>\n",
       "    </tr>\n",
       "    <tr>\n",
       "      <th>Marzo</th>\n",
       "      <td>0.0</td>\n",
       "      <td>5.0</td>\n",
       "      <td>0.0</td>\n",
       "    </tr>\n",
       "    <tr>\n",
       "      <th>Abril</th>\n",
       "      <td>4.0</td>\n",
       "      <td>0.0</td>\n",
       "      <td>2.0</td>\n",
       "    </tr>\n",
       "  </tbody>\n",
       "</table>\n",
       "</div>"
      ],
      "text/plain": [
       "           A    B    C\n",
       "Enero    1.0  3.0  0.0\n",
       "Febrero  2.0  2.0  7.0\n",
       "Marzo    0.0  5.0  0.0\n",
       "Abril    4.0  0.0  2.0"
      ]
     },
     "execution_count": 48,
     "metadata": {},
     "output_type": "execute_result"
    }
   ],
   "source": [
    "display(df4)\n",
    "df4.fillna(0)   # Rellena los valores NaN con 0"
   ]
  },
  {
   "cell_type": "code",
   "execution_count": null,
   "id": "336254c2",
   "metadata": {},
   "outputs": [
    {
     "name": "stderr",
     "output_type": "stream",
     "text": [
      "C:\\Users\\Usuario\\AppData\\Local\\Temp\\ipykernel_5168\\2042556100.py:1: FutureWarning: DataFrame.fillna with 'method' is deprecated and will raise in a future version. Use obj.ffill() or obj.bfill() instead.\n",
      "  df4.fillna(axis=1,method='ffill') # Rellena los valores NaN con el valor anterior no nulo a lo largo de las columnas\n"
     ]
    },
    {
     "data": {
      "text/html": [
       "<div>\n",
       "<style scoped>\n",
       "    .dataframe tbody tr th:only-of-type {\n",
       "        vertical-align: middle;\n",
       "    }\n",
       "\n",
       "    .dataframe tbody tr th {\n",
       "        vertical-align: top;\n",
       "    }\n",
       "\n",
       "    .dataframe thead th {\n",
       "        text-align: right;\n",
       "    }\n",
       "</style>\n",
       "<table border=\"1\" class=\"dataframe\">\n",
       "  <thead>\n",
       "    <tr style=\"text-align: right;\">\n",
       "      <th></th>\n",
       "      <th>A</th>\n",
       "      <th>B</th>\n",
       "      <th>C</th>\n",
       "    </tr>\n",
       "  </thead>\n",
       "  <tbody>\n",
       "    <tr>\n",
       "      <th>Enero</th>\n",
       "      <td>1.0</td>\n",
       "      <td>3.0</td>\n",
       "      <td>3.0</td>\n",
       "    </tr>\n",
       "    <tr>\n",
       "      <th>Febrero</th>\n",
       "      <td>2.0</td>\n",
       "      <td>2.0</td>\n",
       "      <td>7.0</td>\n",
       "    </tr>\n",
       "    <tr>\n",
       "      <th>Marzo</th>\n",
       "      <td>NaN</td>\n",
       "      <td>5.0</td>\n",
       "      <td>5.0</td>\n",
       "    </tr>\n",
       "    <tr>\n",
       "      <th>Abril</th>\n",
       "      <td>4.0</td>\n",
       "      <td>4.0</td>\n",
       "      <td>2.0</td>\n",
       "    </tr>\n",
       "  </tbody>\n",
       "</table>\n",
       "</div>"
      ],
      "text/plain": [
       "           A    B    C\n",
       "Enero    1.0  3.0  3.0\n",
       "Febrero  2.0  2.0  7.0\n",
       "Marzo    NaN  5.0  5.0\n",
       "Abril    4.0  4.0  2.0"
      ]
     },
     "execution_count": 49,
     "metadata": {},
     "output_type": "execute_result"
    }
   ],
   "source": [
    "df4.fillna(axis=1,method='ffill') # Rellena los valores NaN con el valor anterior no nulo a lo largo de las columnas\n",
    "# Se puede poner axis=0 para filas o axis=1 para columnas"
   ]
  },
  {
   "cell_type": "markdown",
   "id": "37b22701",
   "metadata": {},
   "source": [
    "## Analizando una base de datos"
   ]
  },
  {
   "cell_type": "code",
   "execution_count": 2,
   "id": "fb2de0aa",
   "metadata": {},
   "outputs": [],
   "source": [
    "dfpob = pd.read_csv('Poblacion/p/API_SP.POP.TOTL_DS2_es_csv_v2_9820.csv',skiprows=3) # Importación de datos desde un archivo CSV, omitiendo las primeras 3 filas"
   ]
  },
  {
   "cell_type": "code",
   "execution_count": 3,
   "id": "d686f02d",
   "metadata": {},
   "outputs": [
    {
     "data": {
      "text/html": [
       "<div>\n",
       "<style scoped>\n",
       "    .dataframe tbody tr th:only-of-type {\n",
       "        vertical-align: middle;\n",
       "    }\n",
       "\n",
       "    .dataframe tbody tr th {\n",
       "        vertical-align: top;\n",
       "    }\n",
       "\n",
       "    .dataframe thead th {\n",
       "        text-align: right;\n",
       "    }\n",
       "</style>\n",
       "<table border=\"1\" class=\"dataframe\">\n",
       "  <thead>\n",
       "    <tr style=\"text-align: right;\">\n",
       "      <th></th>\n",
       "      <th>Country Name</th>\n",
       "      <th>Country Code</th>\n",
       "      <th>Indicator Name</th>\n",
       "      <th>Indicator Code</th>\n",
       "      <th>1960</th>\n",
       "      <th>1961</th>\n",
       "      <th>1962</th>\n",
       "      <th>1963</th>\n",
       "      <th>1964</th>\n",
       "      <th>1965</th>\n",
       "      <th>...</th>\n",
       "      <th>2016</th>\n",
       "      <th>2017</th>\n",
       "      <th>2018</th>\n",
       "      <th>2019</th>\n",
       "      <th>2020</th>\n",
       "      <th>2021</th>\n",
       "      <th>2022</th>\n",
       "      <th>2023</th>\n",
       "      <th>2024</th>\n",
       "      <th>Unnamed: 69</th>\n",
       "    </tr>\n",
       "  </thead>\n",
       "  <tbody>\n",
       "    <tr>\n",
       "      <th>0</th>\n",
       "      <td>Aruba</td>\n",
       "      <td>ABW</td>\n",
       "      <td>Población, total</td>\n",
       "      <td>SP.POP.TOTL</td>\n",
       "      <td>54922.0</td>\n",
       "      <td>55578.0</td>\n",
       "      <td>56320.0</td>\n",
       "      <td>57002.0</td>\n",
       "      <td>57619.0</td>\n",
       "      <td>58190.0</td>\n",
       "      <td>...</td>\n",
       "      <td>108727.0</td>\n",
       "      <td>108735.0</td>\n",
       "      <td>108908.0</td>\n",
       "      <td>109203.0</td>\n",
       "      <td>108587.0</td>\n",
       "      <td>107700.0</td>\n",
       "      <td>107310.0</td>\n",
       "      <td>107359.0</td>\n",
       "      <td>107624.0</td>\n",
       "      <td>NaN</td>\n",
       "    </tr>\n",
       "    <tr>\n",
       "      <th>1</th>\n",
       "      <td>NaN</td>\n",
       "      <td>AFE</td>\n",
       "      <td>Población, total</td>\n",
       "      <td>SP.POP.TOTL</td>\n",
       "      <td>130075728.0</td>\n",
       "      <td>133534923.0</td>\n",
       "      <td>137171659.0</td>\n",
       "      <td>140945536.0</td>\n",
       "      <td>144904094.0</td>\n",
       "      <td>149033472.0</td>\n",
       "      <td>...</td>\n",
       "      <td>623369401.0</td>\n",
       "      <td>640058741.0</td>\n",
       "      <td>657801085.0</td>\n",
       "      <td>675950189.0</td>\n",
       "      <td>694446100.0</td>\n",
       "      <td>713090928.0</td>\n",
       "      <td>731821393.0</td>\n",
       "      <td>750503764.0</td>\n",
       "      <td>769294618.0</td>\n",
       "      <td>NaN</td>\n",
       "    </tr>\n",
       "    <tr>\n",
       "      <th>2</th>\n",
       "      <td>Afganistán</td>\n",
       "      <td>AFG</td>\n",
       "      <td>Población, total</td>\n",
       "      <td>SP.POP.TOTL</td>\n",
       "      <td>9035043.0</td>\n",
       "      <td>9214083.0</td>\n",
       "      <td>9404406.0</td>\n",
       "      <td>9604487.0</td>\n",
       "      <td>9814318.0</td>\n",
       "      <td>10036008.0</td>\n",
       "      <td>...</td>\n",
       "      <td>34700612.0</td>\n",
       "      <td>35688935.0</td>\n",
       "      <td>36743039.0</td>\n",
       "      <td>37856121.0</td>\n",
       "      <td>39068979.0</td>\n",
       "      <td>40000412.0</td>\n",
       "      <td>40578842.0</td>\n",
       "      <td>41454761.0</td>\n",
       "      <td>42647492.0</td>\n",
       "      <td>NaN</td>\n",
       "    </tr>\n",
       "    <tr>\n",
       "      <th>3</th>\n",
       "      <td>NaN</td>\n",
       "      <td>AFW</td>\n",
       "      <td>Población, total</td>\n",
       "      <td>SP.POP.TOTL</td>\n",
       "      <td>97630925.0</td>\n",
       "      <td>99706674.0</td>\n",
       "      <td>101854756.0</td>\n",
       "      <td>104089175.0</td>\n",
       "      <td>106388440.0</td>\n",
       "      <td>108772632.0</td>\n",
       "      <td>...</td>\n",
       "      <td>429454743.0</td>\n",
       "      <td>440882906.0</td>\n",
       "      <td>452195915.0</td>\n",
       "      <td>463365429.0</td>\n",
       "      <td>474569351.0</td>\n",
       "      <td>485920997.0</td>\n",
       "      <td>497387180.0</td>\n",
       "      <td>509398589.0</td>\n",
       "      <td>521764076.0</td>\n",
       "      <td>NaN</td>\n",
       "    </tr>\n",
       "    <tr>\n",
       "      <th>4</th>\n",
       "      <td>Angola</td>\n",
       "      <td>AGO</td>\n",
       "      <td>Población, total</td>\n",
       "      <td>SP.POP.TOTL</td>\n",
       "      <td>5231654.0</td>\n",
       "      <td>5301583.0</td>\n",
       "      <td>5354310.0</td>\n",
       "      <td>5408320.0</td>\n",
       "      <td>5464187.0</td>\n",
       "      <td>5521981.0</td>\n",
       "      <td>...</td>\n",
       "      <td>29183070.0</td>\n",
       "      <td>30234839.0</td>\n",
       "      <td>31297155.0</td>\n",
       "      <td>32375632.0</td>\n",
       "      <td>33451132.0</td>\n",
       "      <td>34532429.0</td>\n",
       "      <td>35635029.0</td>\n",
       "      <td>36749906.0</td>\n",
       "      <td>37885849.0</td>\n",
       "      <td>NaN</td>\n",
       "    </tr>\n",
       "  </tbody>\n",
       "</table>\n",
       "<p>5 rows × 70 columns</p>\n",
       "</div>"
      ],
      "text/plain": [
       "  Country Name Country Code    Indicator Name Indicator Code         1960  \\\n",
       "0        Aruba          ABW  Población, total    SP.POP.TOTL      54922.0   \n",
       "1          NaN          AFE  Población, total    SP.POP.TOTL  130075728.0   \n",
       "2   Afganistán          AFG  Población, total    SP.POP.TOTL    9035043.0   \n",
       "3          NaN          AFW  Población, total    SP.POP.TOTL   97630925.0   \n",
       "4       Angola          AGO  Población, total    SP.POP.TOTL    5231654.0   \n",
       "\n",
       "          1961         1962         1963         1964         1965  ...  \\\n",
       "0      55578.0      56320.0      57002.0      57619.0      58190.0  ...   \n",
       "1  133534923.0  137171659.0  140945536.0  144904094.0  149033472.0  ...   \n",
       "2    9214083.0    9404406.0    9604487.0    9814318.0   10036008.0  ...   \n",
       "3   99706674.0  101854756.0  104089175.0  106388440.0  108772632.0  ...   \n",
       "4    5301583.0    5354310.0    5408320.0    5464187.0    5521981.0  ...   \n",
       "\n",
       "          2016         2017         2018         2019         2020  \\\n",
       "0     108727.0     108735.0     108908.0     109203.0     108587.0   \n",
       "1  623369401.0  640058741.0  657801085.0  675950189.0  694446100.0   \n",
       "2   34700612.0   35688935.0   36743039.0   37856121.0   39068979.0   \n",
       "3  429454743.0  440882906.0  452195915.0  463365429.0  474569351.0   \n",
       "4   29183070.0   30234839.0   31297155.0   32375632.0   33451132.0   \n",
       "\n",
       "          2021         2022         2023         2024  Unnamed: 69  \n",
       "0     107700.0     107310.0     107359.0     107624.0          NaN  \n",
       "1  713090928.0  731821393.0  750503764.0  769294618.0          NaN  \n",
       "2   40000412.0   40578842.0   41454761.0   42647492.0          NaN  \n",
       "3  485920997.0  497387180.0  509398589.0  521764076.0          NaN  \n",
       "4   34532429.0   35635029.0   36749906.0   37885849.0          NaN  \n",
       "\n",
       "[5 rows x 70 columns]"
      ]
     },
     "metadata": {},
     "output_type": "display_data"
    }
   ],
   "source": [
    "display(dfpob.head())"
   ]
  },
  {
   "cell_type": "code",
   "execution_count": 4,
   "id": "930d23ba",
   "metadata": {},
   "outputs": [],
   "source": [
    "dfpob.set_index('Country Name', inplace=True) # Establece la columna \"Country Name\" como índice del DataFrame"
   ]
  },
  {
   "cell_type": "code",
   "execution_count": 6,
   "id": "80071879",
   "metadata": {},
   "outputs": [
    {
     "data": {
      "text/html": [
       "<div>\n",
       "<style scoped>\n",
       "    .dataframe tbody tr th:only-of-type {\n",
       "        vertical-align: middle;\n",
       "    }\n",
       "\n",
       "    .dataframe tbody tr th {\n",
       "        vertical-align: top;\n",
       "    }\n",
       "\n",
       "    .dataframe thead th {\n",
       "        text-align: right;\n",
       "    }\n",
       "</style>\n",
       "<table border=\"1\" class=\"dataframe\">\n",
       "  <thead>\n",
       "    <tr style=\"text-align: right;\">\n",
       "      <th></th>\n",
       "      <th>Country Code</th>\n",
       "      <th>Indicator Name</th>\n",
       "      <th>Indicator Code</th>\n",
       "      <th>1960</th>\n",
       "      <th>1961</th>\n",
       "      <th>1962</th>\n",
       "      <th>1963</th>\n",
       "      <th>1964</th>\n",
       "      <th>1965</th>\n",
       "      <th>1966</th>\n",
       "      <th>...</th>\n",
       "      <th>2016</th>\n",
       "      <th>2017</th>\n",
       "      <th>2018</th>\n",
       "      <th>2019</th>\n",
       "      <th>2020</th>\n",
       "      <th>2021</th>\n",
       "      <th>2022</th>\n",
       "      <th>2023</th>\n",
       "      <th>2024</th>\n",
       "      <th>Unnamed: 69</th>\n",
       "    </tr>\n",
       "    <tr>\n",
       "      <th>Country Name</th>\n",
       "      <th></th>\n",
       "      <th></th>\n",
       "      <th></th>\n",
       "      <th></th>\n",
       "      <th></th>\n",
       "      <th></th>\n",
       "      <th></th>\n",
       "      <th></th>\n",
       "      <th></th>\n",
       "      <th></th>\n",
       "      <th></th>\n",
       "      <th></th>\n",
       "      <th></th>\n",
       "      <th></th>\n",
       "      <th></th>\n",
       "      <th></th>\n",
       "      <th></th>\n",
       "      <th></th>\n",
       "      <th></th>\n",
       "      <th></th>\n",
       "      <th></th>\n",
       "    </tr>\n",
       "  </thead>\n",
       "  <tbody>\n",
       "    <tr>\n",
       "      <th>Aruba</th>\n",
       "      <td>ABW</td>\n",
       "      <td>Población, total</td>\n",
       "      <td>SP.POP.TOTL</td>\n",
       "      <td>54922.0</td>\n",
       "      <td>55578.0</td>\n",
       "      <td>56320.0</td>\n",
       "      <td>57002.0</td>\n",
       "      <td>57619.0</td>\n",
       "      <td>58190.0</td>\n",
       "      <td>58694.0</td>\n",
       "      <td>...</td>\n",
       "      <td>108727.0</td>\n",
       "      <td>108735.0</td>\n",
       "      <td>108908.0</td>\n",
       "      <td>109203.0</td>\n",
       "      <td>108587.0</td>\n",
       "      <td>107700.0</td>\n",
       "      <td>107310.0</td>\n",
       "      <td>107359.0</td>\n",
       "      <td>107624.0</td>\n",
       "      <td>NaN</td>\n",
       "    </tr>\n",
       "    <tr>\n",
       "      <th>NaN</th>\n",
       "      <td>AFE</td>\n",
       "      <td>Población, total</td>\n",
       "      <td>SP.POP.TOTL</td>\n",
       "      <td>130075728.0</td>\n",
       "      <td>133534923.0</td>\n",
       "      <td>137171659.0</td>\n",
       "      <td>140945536.0</td>\n",
       "      <td>144904094.0</td>\n",
       "      <td>149033472.0</td>\n",
       "      <td>153281203.0</td>\n",
       "      <td>...</td>\n",
       "      <td>623369401.0</td>\n",
       "      <td>640058741.0</td>\n",
       "      <td>657801085.0</td>\n",
       "      <td>675950189.0</td>\n",
       "      <td>694446100.0</td>\n",
       "      <td>713090928.0</td>\n",
       "      <td>731821393.0</td>\n",
       "      <td>750503764.0</td>\n",
       "      <td>769294618.0</td>\n",
       "      <td>NaN</td>\n",
       "    </tr>\n",
       "    <tr>\n",
       "      <th>Afganistán</th>\n",
       "      <td>AFG</td>\n",
       "      <td>Población, total</td>\n",
       "      <td>SP.POP.TOTL</td>\n",
       "      <td>9035043.0</td>\n",
       "      <td>9214083.0</td>\n",
       "      <td>9404406.0</td>\n",
       "      <td>9604487.0</td>\n",
       "      <td>9814318.0</td>\n",
       "      <td>10036008.0</td>\n",
       "      <td>10266395.0</td>\n",
       "      <td>...</td>\n",
       "      <td>34700612.0</td>\n",
       "      <td>35688935.0</td>\n",
       "      <td>36743039.0</td>\n",
       "      <td>37856121.0</td>\n",
       "      <td>39068979.0</td>\n",
       "      <td>40000412.0</td>\n",
       "      <td>40578842.0</td>\n",
       "      <td>41454761.0</td>\n",
       "      <td>42647492.0</td>\n",
       "      <td>NaN</td>\n",
       "    </tr>\n",
       "    <tr>\n",
       "      <th>NaN</th>\n",
       "      <td>AFW</td>\n",
       "      <td>Población, total</td>\n",
       "      <td>SP.POP.TOTL</td>\n",
       "      <td>97630925.0</td>\n",
       "      <td>99706674.0</td>\n",
       "      <td>101854756.0</td>\n",
       "      <td>104089175.0</td>\n",
       "      <td>106388440.0</td>\n",
       "      <td>108772632.0</td>\n",
       "      <td>111246953.0</td>\n",
       "      <td>...</td>\n",
       "      <td>429454743.0</td>\n",
       "      <td>440882906.0</td>\n",
       "      <td>452195915.0</td>\n",
       "      <td>463365429.0</td>\n",
       "      <td>474569351.0</td>\n",
       "      <td>485920997.0</td>\n",
       "      <td>497387180.0</td>\n",
       "      <td>509398589.0</td>\n",
       "      <td>521764076.0</td>\n",
       "      <td>NaN</td>\n",
       "    </tr>\n",
       "    <tr>\n",
       "      <th>Angola</th>\n",
       "      <td>AGO</td>\n",
       "      <td>Población, total</td>\n",
       "      <td>SP.POP.TOTL</td>\n",
       "      <td>5231654.0</td>\n",
       "      <td>5301583.0</td>\n",
       "      <td>5354310.0</td>\n",
       "      <td>5408320.0</td>\n",
       "      <td>5464187.0</td>\n",
       "      <td>5521981.0</td>\n",
       "      <td>5581386.0</td>\n",
       "      <td>...</td>\n",
       "      <td>29183070.0</td>\n",
       "      <td>30234839.0</td>\n",
       "      <td>31297155.0</td>\n",
       "      <td>32375632.0</td>\n",
       "      <td>33451132.0</td>\n",
       "      <td>34532429.0</td>\n",
       "      <td>35635029.0</td>\n",
       "      <td>36749906.0</td>\n",
       "      <td>37885849.0</td>\n",
       "      <td>NaN</td>\n",
       "    </tr>\n",
       "  </tbody>\n",
       "</table>\n",
       "<p>5 rows × 69 columns</p>\n",
       "</div>"
      ],
      "text/plain": [
       "             Country Code    Indicator Name Indicator Code         1960  \\\n",
       "Country Name                                                              \n",
       "Aruba                 ABW  Población, total    SP.POP.TOTL      54922.0   \n",
       "NaN                   AFE  Población, total    SP.POP.TOTL  130075728.0   \n",
       "Afganistán            AFG  Población, total    SP.POP.TOTL    9035043.0   \n",
       "NaN                   AFW  Población, total    SP.POP.TOTL   97630925.0   \n",
       "Angola                AGO  Población, total    SP.POP.TOTL    5231654.0   \n",
       "\n",
       "                     1961         1962         1963         1964         1965  \\\n",
       "Country Name                                                                    \n",
       "Aruba             55578.0      56320.0      57002.0      57619.0      58190.0   \n",
       "NaN           133534923.0  137171659.0  140945536.0  144904094.0  149033472.0   \n",
       "Afganistán      9214083.0    9404406.0    9604487.0    9814318.0   10036008.0   \n",
       "NaN            99706674.0  101854756.0  104089175.0  106388440.0  108772632.0   \n",
       "Angola          5301583.0    5354310.0    5408320.0    5464187.0    5521981.0   \n",
       "\n",
       "                     1966  ...         2016         2017         2018  \\\n",
       "Country Name               ...                                          \n",
       "Aruba             58694.0  ...     108727.0     108735.0     108908.0   \n",
       "NaN           153281203.0  ...  623369401.0  640058741.0  657801085.0   \n",
       "Afganistán     10266395.0  ...   34700612.0   35688935.0   36743039.0   \n",
       "NaN           111246953.0  ...  429454743.0  440882906.0  452195915.0   \n",
       "Angola          5581386.0  ...   29183070.0   30234839.0   31297155.0   \n",
       "\n",
       "                     2019         2020         2021         2022         2023  \\\n",
       "Country Name                                                                    \n",
       "Aruba            109203.0     108587.0     107700.0     107310.0     107359.0   \n",
       "NaN           675950189.0  694446100.0  713090928.0  731821393.0  750503764.0   \n",
       "Afganistán     37856121.0   39068979.0   40000412.0   40578842.0   41454761.0   \n",
       "NaN           463365429.0  474569351.0  485920997.0  497387180.0  509398589.0   \n",
       "Angola         32375632.0   33451132.0   34532429.0   35635029.0   36749906.0   \n",
       "\n",
       "                     2024  Unnamed: 69  \n",
       "Country Name                            \n",
       "Aruba            107624.0          NaN  \n",
       "NaN           769294618.0          NaN  \n",
       "Afganistán     42647492.0          NaN  \n",
       "NaN           521764076.0          NaN  \n",
       "Angola         37885849.0          NaN  \n",
       "\n",
       "[5 rows x 69 columns]"
      ]
     },
     "execution_count": 6,
     "metadata": {},
     "output_type": "execute_result"
    }
   ],
   "source": [
    "dfpob.head()"
   ]
  },
  {
   "cell_type": "code",
   "execution_count": null,
   "id": "911d29c8",
   "metadata": {},
   "outputs": [
    {
     "data": {
      "text/plain": [
       "Country Name\n",
       "Aruba              ABW\n",
       "NaN                AFE\n",
       "Afganistán         AFG\n",
       "NaN                AFW\n",
       "Angola             AGO\n",
       "                  ... \n",
       "Kosovo             XKX\n",
       "Yemen, Rep. del    YEM\n",
       "Sudáfrica          ZAF\n",
       "Zambia             ZMB\n",
       "Zimbabwe           ZWE\n",
       "Name: Country Code, Length: 266, dtype: object"
      ]
     },
     "execution_count": 7,
     "metadata": {},
     "output_type": "execute_result"
    }
   ],
   "source": [
    "dfpob['Country Code'] # Acceso a la columna 'Country Code' del DataFrame"
   ]
  },
  {
   "cell_type": "code",
   "execution_count": 11,
   "id": "6c6ebca9",
   "metadata": {},
   "outputs": [],
   "source": [
    "dfpob1920 = dfpob[[str(k) for k in range(1960, 2020)]] # Acceso a las columnas '1960' y '2019' del DataFrame"
   ]
  },
  {
   "cell_type": "code",
   "execution_count": 12,
   "id": "0431185a",
   "metadata": {},
   "outputs": [
    {
     "data": {
      "text/html": [
       "<div>\n",
       "<style scoped>\n",
       "    .dataframe tbody tr th:only-of-type {\n",
       "        vertical-align: middle;\n",
       "    }\n",
       "\n",
       "    .dataframe tbody tr th {\n",
       "        vertical-align: top;\n",
       "    }\n",
       "\n",
       "    .dataframe thead th {\n",
       "        text-align: right;\n",
       "    }\n",
       "</style>\n",
       "<table border=\"1\" class=\"dataframe\">\n",
       "  <thead>\n",
       "    <tr style=\"text-align: right;\">\n",
       "      <th></th>\n",
       "      <th>1960</th>\n",
       "      <th>1961</th>\n",
       "      <th>1962</th>\n",
       "      <th>1963</th>\n",
       "      <th>1964</th>\n",
       "      <th>1965</th>\n",
       "      <th>1966</th>\n",
       "      <th>1967</th>\n",
       "      <th>1968</th>\n",
       "      <th>1969</th>\n",
       "      <th>...</th>\n",
       "      <th>2010</th>\n",
       "      <th>2011</th>\n",
       "      <th>2012</th>\n",
       "      <th>2013</th>\n",
       "      <th>2014</th>\n",
       "      <th>2015</th>\n",
       "      <th>2016</th>\n",
       "      <th>2017</th>\n",
       "      <th>2018</th>\n",
       "      <th>2019</th>\n",
       "    </tr>\n",
       "    <tr>\n",
       "      <th>Country Name</th>\n",
       "      <th></th>\n",
       "      <th></th>\n",
       "      <th></th>\n",
       "      <th></th>\n",
       "      <th></th>\n",
       "      <th></th>\n",
       "      <th></th>\n",
       "      <th></th>\n",
       "      <th></th>\n",
       "      <th></th>\n",
       "      <th></th>\n",
       "      <th></th>\n",
       "      <th></th>\n",
       "      <th></th>\n",
       "      <th></th>\n",
       "      <th></th>\n",
       "      <th></th>\n",
       "      <th></th>\n",
       "      <th></th>\n",
       "      <th></th>\n",
       "      <th></th>\n",
       "    </tr>\n",
       "  </thead>\n",
       "  <tbody>\n",
       "    <tr>\n",
       "      <th>Aruba</th>\n",
       "      <td>54922.0</td>\n",
       "      <td>55578.0</td>\n",
       "      <td>56320.0</td>\n",
       "      <td>57002.0</td>\n",
       "      <td>57619.0</td>\n",
       "      <td>58190.0</td>\n",
       "      <td>58694.0</td>\n",
       "      <td>58990.0</td>\n",
       "      <td>59069.0</td>\n",
       "      <td>59052.0</td>\n",
       "      <td>...</td>\n",
       "      <td>101838.0</td>\n",
       "      <td>102591.0</td>\n",
       "      <td>104110.0</td>\n",
       "      <td>105675.0</td>\n",
       "      <td>106807.0</td>\n",
       "      <td>107906.0</td>\n",
       "      <td>108727.0</td>\n",
       "      <td>108735.0</td>\n",
       "      <td>108908.0</td>\n",
       "      <td>109203.0</td>\n",
       "    </tr>\n",
       "    <tr>\n",
       "      <th>NaN</th>\n",
       "      <td>130075728.0</td>\n",
       "      <td>133534923.0</td>\n",
       "      <td>137171659.0</td>\n",
       "      <td>140945536.0</td>\n",
       "      <td>144904094.0</td>\n",
       "      <td>149033472.0</td>\n",
       "      <td>153281203.0</td>\n",
       "      <td>157704381.0</td>\n",
       "      <td>162329396.0</td>\n",
       "      <td>167088245.0</td>\n",
       "      <td>...</td>\n",
       "      <td>530308387.0</td>\n",
       "      <td>544737983.0</td>\n",
       "      <td>559609961.0</td>\n",
       "      <td>575202699.0</td>\n",
       "      <td>590968990.0</td>\n",
       "      <td>607123269.0</td>\n",
       "      <td>623369401.0</td>\n",
       "      <td>640058741.0</td>\n",
       "      <td>657801085.0</td>\n",
       "      <td>675950189.0</td>\n",
       "    </tr>\n",
       "    <tr>\n",
       "      <th>Afganistán</th>\n",
       "      <td>9035043.0</td>\n",
       "      <td>9214083.0</td>\n",
       "      <td>9404406.0</td>\n",
       "      <td>9604487.0</td>\n",
       "      <td>9814318.0</td>\n",
       "      <td>10036008.0</td>\n",
       "      <td>10266395.0</td>\n",
       "      <td>10505959.0</td>\n",
       "      <td>10756922.0</td>\n",
       "      <td>11017409.0</td>\n",
       "      <td>...</td>\n",
       "      <td>28284089.0</td>\n",
       "      <td>29347708.0</td>\n",
       "      <td>30560034.0</td>\n",
       "      <td>31622704.0</td>\n",
       "      <td>32792523.0</td>\n",
       "      <td>33831764.0</td>\n",
       "      <td>34700612.0</td>\n",
       "      <td>35688935.0</td>\n",
       "      <td>36743039.0</td>\n",
       "      <td>37856121.0</td>\n",
       "    </tr>\n",
       "    <tr>\n",
       "      <th>NaN</th>\n",
       "      <td>97630925.0</td>\n",
       "      <td>99706674.0</td>\n",
       "      <td>101854756.0</td>\n",
       "      <td>104089175.0</td>\n",
       "      <td>106388440.0</td>\n",
       "      <td>108772632.0</td>\n",
       "      <td>111246953.0</td>\n",
       "      <td>113795019.0</td>\n",
       "      <td>116444636.0</td>\n",
       "      <td>119203521.0</td>\n",
       "      <td>...</td>\n",
       "      <td>364358270.0</td>\n",
       "      <td>374790143.0</td>\n",
       "      <td>385360349.0</td>\n",
       "      <td>396030207.0</td>\n",
       "      <td>406992047.0</td>\n",
       "      <td>418127845.0</td>\n",
       "      <td>429454743.0</td>\n",
       "      <td>440882906.0</td>\n",
       "      <td>452195915.0</td>\n",
       "      <td>463365429.0</td>\n",
       "    </tr>\n",
       "    <tr>\n",
       "      <th>Angola</th>\n",
       "      <td>5231654.0</td>\n",
       "      <td>5301583.0</td>\n",
       "      <td>5354310.0</td>\n",
       "      <td>5408320.0</td>\n",
       "      <td>5464187.0</td>\n",
       "      <td>5521981.0</td>\n",
       "      <td>5581386.0</td>\n",
       "      <td>5641807.0</td>\n",
       "      <td>5702699.0</td>\n",
       "      <td>5763685.0</td>\n",
       "      <td>...</td>\n",
       "      <td>23294825.0</td>\n",
       "      <td>24218352.0</td>\n",
       "      <td>25177394.0</td>\n",
       "      <td>26165620.0</td>\n",
       "      <td>27160769.0</td>\n",
       "      <td>28157798.0</td>\n",
       "      <td>29183070.0</td>\n",
       "      <td>30234839.0</td>\n",
       "      <td>31297155.0</td>\n",
       "      <td>32375632.0</td>\n",
       "    </tr>\n",
       "    <tr>\n",
       "      <th>...</th>\n",
       "      <td>...</td>\n",
       "      <td>...</td>\n",
       "      <td>...</td>\n",
       "      <td>...</td>\n",
       "      <td>...</td>\n",
       "      <td>...</td>\n",
       "      <td>...</td>\n",
       "      <td>...</td>\n",
       "      <td>...</td>\n",
       "      <td>...</td>\n",
       "      <td>...</td>\n",
       "      <td>...</td>\n",
       "      <td>...</td>\n",
       "      <td>...</td>\n",
       "      <td>...</td>\n",
       "      <td>...</td>\n",
       "      <td>...</td>\n",
       "      <td>...</td>\n",
       "      <td>...</td>\n",
       "      <td>...</td>\n",
       "      <td>...</td>\n",
       "    </tr>\n",
       "    <tr>\n",
       "      <th>Kosovo</th>\n",
       "      <td>984846.0</td>\n",
       "      <td>1011421.0</td>\n",
       "      <td>1036950.0</td>\n",
       "      <td>1062737.0</td>\n",
       "      <td>1090270.0</td>\n",
       "      <td>1120168.0</td>\n",
       "      <td>1152586.0</td>\n",
       "      <td>1187667.0</td>\n",
       "      <td>1214208.0</td>\n",
       "      <td>1231460.0</td>\n",
       "      <td>...</td>\n",
       "      <td>1788743.0</td>\n",
       "      <td>1791949.0</td>\n",
       "      <td>1807126.0</td>\n",
       "      <td>1818119.0</td>\n",
       "      <td>1812788.0</td>\n",
       "      <td>1788274.0</td>\n",
       "      <td>1777568.0</td>\n",
       "      <td>1791019.0</td>\n",
       "      <td>1797086.0</td>\n",
       "      <td>1788891.0</td>\n",
       "    </tr>\n",
       "    <tr>\n",
       "      <th>Yemen, Rep. del</th>\n",
       "      <td>5532301.0</td>\n",
       "      <td>5655232.0</td>\n",
       "      <td>5782221.0</td>\n",
       "      <td>5911135.0</td>\n",
       "      <td>6048006.0</td>\n",
       "      <td>6195593.0</td>\n",
       "      <td>6351494.0</td>\n",
       "      <td>6516444.0</td>\n",
       "      <td>6690524.0</td>\n",
       "      <td>6875859.0</td>\n",
       "      <td>...</td>\n",
       "      <td>26754387.0</td>\n",
       "      <td>27582897.0</td>\n",
       "      <td>28433647.0</td>\n",
       "      <td>29312952.0</td>\n",
       "      <td>30226309.0</td>\n",
       "      <td>31159379.0</td>\n",
       "      <td>32109010.0</td>\n",
       "      <td>33090921.0</td>\n",
       "      <td>34085182.0</td>\n",
       "      <td>35111408.0</td>\n",
       "    </tr>\n",
       "    <tr>\n",
       "      <th>Sudáfrica</th>\n",
       "      <td>16440172.0</td>\n",
       "      <td>16908035.0</td>\n",
       "      <td>17418522.0</td>\n",
       "      <td>17954564.0</td>\n",
       "      <td>18511361.0</td>\n",
       "      <td>19089380.0</td>\n",
       "      <td>19690087.0</td>\n",
       "      <td>20314066.0</td>\n",
       "      <td>20957287.0</td>\n",
       "      <td>21614676.0</td>\n",
       "      <td>...</td>\n",
       "      <td>52344051.0</td>\n",
       "      <td>52995205.0</td>\n",
       "      <td>53782567.0</td>\n",
       "      <td>54678791.0</td>\n",
       "      <td>55594838.0</td>\n",
       "      <td>56723537.0</td>\n",
       "      <td>57259551.0</td>\n",
       "      <td>57635162.0</td>\n",
       "      <td>58613001.0</td>\n",
       "      <td>59587885.0</td>\n",
       "    </tr>\n",
       "    <tr>\n",
       "      <th>Zambia</th>\n",
       "      <td>3153729.0</td>\n",
       "      <td>3254086.0</td>\n",
       "      <td>3358099.0</td>\n",
       "      <td>3465907.0</td>\n",
       "      <td>3577017.0</td>\n",
       "      <td>3692086.0</td>\n",
       "      <td>3812003.0</td>\n",
       "      <td>3936343.0</td>\n",
       "      <td>4065593.0</td>\n",
       "      <td>4197116.0</td>\n",
       "      <td>...</td>\n",
       "      <td>13965594.0</td>\n",
       "      <td>14437796.0</td>\n",
       "      <td>14913629.0</td>\n",
       "      <td>15398997.0</td>\n",
       "      <td>15895315.0</td>\n",
       "      <td>16399089.0</td>\n",
       "      <td>16914423.0</td>\n",
       "      <td>17441320.0</td>\n",
       "      <td>17973569.0</td>\n",
       "      <td>18513839.0</td>\n",
       "    </tr>\n",
       "    <tr>\n",
       "      <th>Zimbabwe</th>\n",
       "      <td>3809389.0</td>\n",
       "      <td>3930401.0</td>\n",
       "      <td>4055959.0</td>\n",
       "      <td>4185877.0</td>\n",
       "      <td>4320006.0</td>\n",
       "      <td>4458462.0</td>\n",
       "      <td>4601217.0</td>\n",
       "      <td>4748307.0</td>\n",
       "      <td>4900440.0</td>\n",
       "      <td>5058181.0</td>\n",
       "      <td>...</td>\n",
       "      <td>13356548.0</td>\n",
       "      <td>13595424.0</td>\n",
       "      <td>13817887.0</td>\n",
       "      <td>14013808.0</td>\n",
       "      <td>14207359.0</td>\n",
       "      <td>14399013.0</td>\n",
       "      <td>14600294.0</td>\n",
       "      <td>14812482.0</td>\n",
       "      <td>15034452.0</td>\n",
       "      <td>15271368.0</td>\n",
       "    </tr>\n",
       "  </tbody>\n",
       "</table>\n",
       "<p>266 rows × 60 columns</p>\n",
       "</div>"
      ],
      "text/plain": [
       "                        1960         1961         1962         1963  \\\n",
       "Country Name                                                          \n",
       "Aruba                54922.0      55578.0      56320.0      57002.0   \n",
       "NaN              130075728.0  133534923.0  137171659.0  140945536.0   \n",
       "Afganistán         9035043.0    9214083.0    9404406.0    9604487.0   \n",
       "NaN               97630925.0   99706674.0  101854756.0  104089175.0   \n",
       "Angola             5231654.0    5301583.0    5354310.0    5408320.0   \n",
       "...                      ...          ...          ...          ...   \n",
       "Kosovo              984846.0    1011421.0    1036950.0    1062737.0   \n",
       "Yemen, Rep. del    5532301.0    5655232.0    5782221.0    5911135.0   \n",
       "Sudáfrica         16440172.0   16908035.0   17418522.0   17954564.0   \n",
       "Zambia             3153729.0    3254086.0    3358099.0    3465907.0   \n",
       "Zimbabwe           3809389.0    3930401.0    4055959.0    4185877.0   \n",
       "\n",
       "                        1964         1965         1966         1967  \\\n",
       "Country Name                                                          \n",
       "Aruba                57619.0      58190.0      58694.0      58990.0   \n",
       "NaN              144904094.0  149033472.0  153281203.0  157704381.0   \n",
       "Afganistán         9814318.0   10036008.0   10266395.0   10505959.0   \n",
       "NaN              106388440.0  108772632.0  111246953.0  113795019.0   \n",
       "Angola             5464187.0    5521981.0    5581386.0    5641807.0   \n",
       "...                      ...          ...          ...          ...   \n",
       "Kosovo             1090270.0    1120168.0    1152586.0    1187667.0   \n",
       "Yemen, Rep. del    6048006.0    6195593.0    6351494.0    6516444.0   \n",
       "Sudáfrica         18511361.0   19089380.0   19690087.0   20314066.0   \n",
       "Zambia             3577017.0    3692086.0    3812003.0    3936343.0   \n",
       "Zimbabwe           4320006.0    4458462.0    4601217.0    4748307.0   \n",
       "\n",
       "                        1968         1969  ...         2010         2011  \\\n",
       "Country Name                               ...                             \n",
       "Aruba                59069.0      59052.0  ...     101838.0     102591.0   \n",
       "NaN              162329396.0  167088245.0  ...  530308387.0  544737983.0   \n",
       "Afganistán        10756922.0   11017409.0  ...   28284089.0   29347708.0   \n",
       "NaN              116444636.0  119203521.0  ...  364358270.0  374790143.0   \n",
       "Angola             5702699.0    5763685.0  ...   23294825.0   24218352.0   \n",
       "...                      ...          ...  ...          ...          ...   \n",
       "Kosovo             1214208.0    1231460.0  ...    1788743.0    1791949.0   \n",
       "Yemen, Rep. del    6690524.0    6875859.0  ...   26754387.0   27582897.0   \n",
       "Sudáfrica         20957287.0   21614676.0  ...   52344051.0   52995205.0   \n",
       "Zambia             4065593.0    4197116.0  ...   13965594.0   14437796.0   \n",
       "Zimbabwe           4900440.0    5058181.0  ...   13356548.0   13595424.0   \n",
       "\n",
       "                        2012         2013         2014         2015  \\\n",
       "Country Name                                                          \n",
       "Aruba               104110.0     105675.0     106807.0     107906.0   \n",
       "NaN              559609961.0  575202699.0  590968990.0  607123269.0   \n",
       "Afganistán        30560034.0   31622704.0   32792523.0   33831764.0   \n",
       "NaN              385360349.0  396030207.0  406992047.0  418127845.0   \n",
       "Angola            25177394.0   26165620.0   27160769.0   28157798.0   \n",
       "...                      ...          ...          ...          ...   \n",
       "Kosovo             1807126.0    1818119.0    1812788.0    1788274.0   \n",
       "Yemen, Rep. del   28433647.0   29312952.0   30226309.0   31159379.0   \n",
       "Sudáfrica         53782567.0   54678791.0   55594838.0   56723537.0   \n",
       "Zambia            14913629.0   15398997.0   15895315.0   16399089.0   \n",
       "Zimbabwe          13817887.0   14013808.0   14207359.0   14399013.0   \n",
       "\n",
       "                        2016         2017         2018         2019  \n",
       "Country Name                                                         \n",
       "Aruba               108727.0     108735.0     108908.0     109203.0  \n",
       "NaN              623369401.0  640058741.0  657801085.0  675950189.0  \n",
       "Afganistán        34700612.0   35688935.0   36743039.0   37856121.0  \n",
       "NaN              429454743.0  440882906.0  452195915.0  463365429.0  \n",
       "Angola            29183070.0   30234839.0   31297155.0   32375632.0  \n",
       "...                      ...          ...          ...          ...  \n",
       "Kosovo             1777568.0    1791019.0    1797086.0    1788891.0  \n",
       "Yemen, Rep. del   32109010.0   33090921.0   34085182.0   35111408.0  \n",
       "Sudáfrica         57259551.0   57635162.0   58613001.0   59587885.0  \n",
       "Zambia            16914423.0   17441320.0   17973569.0   18513839.0  \n",
       "Zimbabwe          14600294.0   14812482.0   15034452.0   15271368.0  \n",
       "\n",
       "[266 rows x 60 columns]"
      ]
     },
     "metadata": {},
     "output_type": "display_data"
    }
   ],
   "source": [
    "display(dfpob1920)"
   ]
  }
 ],
 "metadata": {
  "kernelspec": {
   "display_name": "Python 3",
   "language": "python",
   "name": "python3"
  },
  "language_info": {
   "codemirror_mode": {
    "name": "ipython",
    "version": 3
   },
   "file_extension": ".py",
   "mimetype": "text/x-python",
   "name": "python",
   "nbconvert_exporter": "python",
   "pygments_lexer": "ipython3",
   "version": "3.10.0"
  }
 },
 "nbformat": 4,
 "nbformat_minor": 5
}
