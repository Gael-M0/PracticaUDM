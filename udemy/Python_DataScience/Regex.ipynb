{
 "cells": [
  {
   "cell_type": "code",
   "execution_count": 1,
   "id": "291f1cd3",
   "metadata": {},
   "outputs": [],
   "source": [
    "import re\n",
    "import pandas as pd"
   ]
  },
  {
   "cell_type": "code",
   "execution_count": 2,
   "id": "9ecc0a36",
   "metadata": {},
   "outputs": [],
   "source": [
    "texto = \"Mi número de teléfono es 123-456-7890 y mi correo es ejemplo@dominio.com\""
   ]
  },
  {
   "cell_type": "code",
   "execution_count": 3,
   "id": "7114b751",
   "metadata": {},
   "outputs": [
    {
     "data": {
      "text/plain": [
       "<re.Match object; span=(10, 12), match='de'>"
      ]
     },
     "execution_count": 3,
     "metadata": {},
     "output_type": "execute_result"
    }
   ],
   "source": [
    "re.search('de', texto)\n"
   ]
  },
  {
   "cell_type": "code",
   "execution_count": 4,
   "id": "52c002aa",
   "metadata": {},
   "outputs": [
    {
     "name": "stdout",
     "output_type": "stream",
     "text": [
      "Se encontró la palabra 'de' en el texto.\n"
     ]
    }
   ],
   "source": [
    "if re.search('de', texto):\n",
    "    print(\"Se encontró la palabra 'de' en el texto.\")"
   ]
  },
  {
   "cell_type": "code",
   "execution_count": 5,
   "id": "8fcaf938",
   "metadata": {},
   "outputs": [
    {
     "name": "stdout",
     "output_type": "stream",
     "text": [
      "No se encontró la palabra 'manubrio' en el texto.\n"
     ]
    }
   ],
   "source": [
    "if re.search('manubrio', texto): # Busca la palabra 'manubrio' en el texto\n",
    "    print(\"Se encontró la palabra 'manubrio' en el texto.\")\n",
    "else:\n",
    "    print(\"No se encontró la palabra 'manubrio' en el texto.\")"
   ]
  },
  {
   "cell_type": "code",
   "execution_count": 6,
   "id": "f5857471",
   "metadata": {},
   "outputs": [
    {
     "data": {
      "text/plain": [
       "['es', 'es']"
      ]
     },
     "execution_count": 6,
     "metadata": {},
     "output_type": "execute_result"
    }
   ],
   "source": [
    "re.findall('es', texto) # Encuentra todas las ocurrencias de 'es' en el texto"
   ]
  },
  {
   "cell_type": "markdown",
   "id": "70244b0a",
   "metadata": {},
   "source": [
    "## Limites\n",
    "\\b-limite de palabra  \n",
    "\\B-No es un limite de palabra  \n",
    "^-inicio de una cadena de texto  \n",
    "$-Final de una cadena de texto  "
   ]
  },
  {
   "cell_type": "code",
   "execution_count": 7,
   "id": "b5dbd121",
   "metadata": {},
   "outputs": [
    {
     "data": {
      "text/plain": [
       "['Mi']"
      ]
     },
     "execution_count": 7,
     "metadata": {},
     "output_type": "execute_result"
    }
   ],
   "source": [
    "re.findall('^Mi', texto,re.M) # Busca la palabra 'Mi' al inicio del texto"
   ]
  },
  {
   "cell_type": "code",
   "execution_count": 8,
   "id": "ec024474",
   "metadata": {},
   "outputs": [
    {
     "data": {
      "text/plain": [
       "['com']"
      ]
     },
     "execution_count": 8,
     "metadata": {},
     "output_type": "execute_result"
    }
   ],
   "source": [
    "re.findall('com$', texto,re.M) # Busca la palabra 'com' al final del texto"
   ]
  },
  {
   "cell_type": "code",
   "execution_count": 9,
   "id": "c6db4340",
   "metadata": {},
   "outputs": [
    {
     "data": {
      "text/plain": [
       "['3']"
      ]
     },
     "execution_count": 9,
     "metadata": {},
     "output_type": "execute_result"
    }
   ],
   "source": [
    "re.findall(r'3\\b', texto) # Encuentra todas las ocurrencias del dígito '3' en el texto"
   ]
  },
  {
   "cell_type": "markdown",
   "id": "4d64ebdd",
   "metadata": {},
   "source": [
    "## Cuantificadores:\n",
    "*- 0 o Mas  \n",
    "+- 1 o mas  \n",
    "? - 0 o uno  \n",
    "{3} - numero exacto  \n",
    "{3,4} - rango de numeros ( Min, max )\n"
   ]
  },
  {
   "cell_type": "code",
   "execution_count": 10,
   "id": "0cd37a7f",
   "metadata": {},
   "outputs": [],
   "source": [
    "Texto2= '''\n",
    "Ana U123442 S\n",
    "Pedro U567890 P\n",
    "Maria U345678 M\n",
    "'''"
   ]
  },
  {
   "cell_type": "code",
   "execution_count": 11,
   "id": "a34c6799",
   "metadata": {},
   "outputs": [
    {
     "data": {
      "text/plain": [
       "['Ana', 'U123442', 'S', 'Pedro', 'U567890', 'P', 'Maria', 'U345678', 'M']"
      ]
     },
     "execution_count": 11,
     "metadata": {},
     "output_type": "execute_result"
    }
   ],
   "source": [
    "re.findall(r'\\w+',Texto2) # Encuentra todas las palabras en el texto"
   ]
  },
  {
   "cell_type": "code",
   "execution_count": 12,
   "id": "9109f3f7",
   "metadata": {},
   "outputs": [
    {
     "data": {
      "text/plain": [
       "['U123442', 'U567890', 'U345678']"
      ]
     },
     "execution_count": 12,
     "metadata": {},
     "output_type": "execute_result"
    }
   ],
   "source": [
    "re.findall(r'U\\d+',Texto2) # Encuentra todas las ocurrencias de 'U' seguido de dígitos en el texto"
   ]
  },
  {
   "cell_type": "markdown",
   "id": "33625e74",
   "metadata": {},
   "source": [
    "## Conjunto de caracteres\n",
    "[] - caracteres dentro de los brackets  \n",
    "[^]- caracteres que no estan dentro de los brackets  \n",
    "\n",
    "## Grupos\n",
    "() - Grupo  \n",
    "| - Uno u otro  "
   ]
  },
  {
   "cell_type": "code",
   "execution_count": 13,
   "id": "d574a5cc",
   "metadata": {},
   "outputs": [],
   "source": [
    "Texto3 = ''' ruta12: http://www.ejemplo.com\n",
    "ruta34: https://secure.ejemplo.com\n",
    "ruta56: ftp://ftp.ejemplo.com'''"
   ]
  },
  {
   "cell_type": "code",
   "execution_count": 14,
   "id": "657e5e3a",
   "metadata": {},
   "outputs": [
    {
     "data": {
      "text/plain": [
       "['ruta12', 'ruta34']"
      ]
     },
     "execution_count": 14,
     "metadata": {},
     "output_type": "execute_result"
    }
   ],
   "source": [
    "re.findall(r'ruta[1-4]{2}',Texto3) # Encuentra todas las rutas que terminan en números del 1 al 4"
   ]
  },
  {
   "cell_type": "code",
   "execution_count": 15,
   "id": "45a1e10f",
   "metadata": {},
   "outputs": [
    {
     "name": "stdout",
     "output_type": "stream",
     "text": [
      "['http://www.ejemplo.com', 'https://', 'ftp://']\n"
     ]
    }
   ],
   "source": [
    "paginas = re.findall(r'(http|https|ftp)(://)(www\\.)?(\\w+.com)?',Texto3) # Encuentra todas las URLs en el texto\n",
    "paginas=[ ''.join(pagina) for pagina in paginas ]\n",
    "print(paginas)"
   ]
  },
  {
   "cell_type": "markdown",
   "id": "5d8f8094",
   "metadata": {},
   "source": [
    "# Importando un archivo de texto"
   ]
  },
  {
   "cell_type": "code",
   "execution_count": 16,
   "id": "21c775a6",
   "metadata": {},
   "outputs": [
    {
     "name": "stdout",
     "output_type": "stream",
     "text": [
      "Linea1\n",
      "Linea2\n",
      "Linea3\n"
     ]
    }
   ],
   "source": [
    "doc = open('archivo.txt','r')\n",
    "contenido = doc.read()\n",
    "print(contenido)\n",
    "doc.close()"
   ]
  },
  {
   "cell_type": "code",
   "execution_count": 17,
   "id": "32ea2d53",
   "metadata": {},
   "outputs": [
    {
     "data": {
      "text/plain": [
       "['Linea', 'Linea', 'Linea']"
      ]
     },
     "execution_count": 17,
     "metadata": {},
     "output_type": "execute_result"
    }
   ],
   "source": [
    "re.findall(r'Linea', contenido)"
   ]
  },
  {
   "cell_type": "markdown",
   "id": "1ea75794",
   "metadata": {},
   "source": [
    "# Regex y pandas, filtrado de datos\n"
   ]
  },
  {
   "cell_type": "code",
   "execution_count": 18,
   "id": "d90aff20",
   "metadata": {},
   "outputs": [
    {
     "data": {
      "text/html": [
       "<div>\n",
       "<style scoped>\n",
       "    .dataframe tbody tr th:only-of-type {\n",
       "        vertical-align: middle;\n",
       "    }\n",
       "\n",
       "    .dataframe tbody tr th {\n",
       "        vertical-align: top;\n",
       "    }\n",
       "\n",
       "    .dataframe thead th {\n",
       "        text-align: right;\n",
       "    }\n",
       "</style>\n",
       "<table border=\"1\" class=\"dataframe\">\n",
       "  <thead>\n",
       "    <tr style=\"text-align: right;\">\n",
       "      <th></th>\n",
       "      <th>Nombre</th>\n",
       "      <th>Edad</th>\n",
       "      <th>Abb</th>\n",
       "      <th>Cdd</th>\n",
       "    </tr>\n",
       "    <tr>\n",
       "      <th>Codigo</th>\n",
       "      <th></th>\n",
       "      <th></th>\n",
       "      <th></th>\n",
       "      <th></th>\n",
       "    </tr>\n",
       "  </thead>\n",
       "  <tbody>\n",
       "    <tr>\n",
       "      <th>U123442</th>\n",
       "      <td>Ana</td>\n",
       "      <td>28</td>\n",
       "      <td>11</td>\n",
       "      <td>12</td>\n",
       "    </tr>\n",
       "    <tr>\n",
       "      <th>X567890</th>\n",
       "      <td>Pedro</td>\n",
       "      <td>34</td>\n",
       "      <td>22</td>\n",
       "      <td>54</td>\n",
       "    </tr>\n",
       "    <tr>\n",
       "      <th>U345678</th>\n",
       "      <td>Maria</td>\n",
       "      <td>29</td>\n",
       "      <td>11</td>\n",
       "      <td>67</td>\n",
       "    </tr>\n",
       "    <tr>\n",
       "      <th>Y987654</th>\n",
       "      <td>Luis</td>\n",
       "      <td>40</td>\n",
       "      <td>33</td>\n",
       "      <td>23</td>\n",
       "    </tr>\n",
       "  </tbody>\n",
       "</table>\n",
       "</div>"
      ],
      "text/plain": [
       "        Nombre  Edad  Abb  Cdd\n",
       "Codigo                        \n",
       "U123442    Ana    28   11   12\n",
       "X567890  Pedro    34   22   54\n",
       "U345678  Maria    29   11   67\n",
       "Y987654   Luis    40   33   23"
      ]
     },
     "metadata": {},
     "output_type": "display_data"
    }
   ],
   "source": [
    "dfreg = pd.DataFrame({\n",
    "    'Nombre': ['Ana', 'Pedro', 'Maria', 'Luis'],\n",
    "               'Codigo': ['U123442', 'X567890', 'U345678', 'Y987654'],\n",
    "                'Edad': [28, 34, 29, 40],\n",
    "                'Abb': [11, 22, 11, 33],\n",
    "                'Cdd': [12, 54, 67, 23]\n",
    "\n",
    "})\n",
    "dfreg = dfreg.set_index('Codigo')\n",
    "display(dfreg)"
   ]
  },
  {
   "cell_type": "code",
   "execution_count": 19,
   "id": "61fb8f45",
   "metadata": {},
   "outputs": [
    {
     "data": {
      "text/html": [
       "<div>\n",
       "<style scoped>\n",
       "    .dataframe tbody tr th:only-of-type {\n",
       "        vertical-align: middle;\n",
       "    }\n",
       "\n",
       "    .dataframe tbody tr th {\n",
       "        vertical-align: top;\n",
       "    }\n",
       "\n",
       "    .dataframe thead th {\n",
       "        text-align: right;\n",
       "    }\n",
       "</style>\n",
       "<table border=\"1\" class=\"dataframe\">\n",
       "  <thead>\n",
       "    <tr style=\"text-align: right;\">\n",
       "      <th></th>\n",
       "      <th>Abb</th>\n",
       "      <th>Cdd</th>\n",
       "    </tr>\n",
       "    <tr>\n",
       "      <th>Codigo</th>\n",
       "      <th></th>\n",
       "      <th></th>\n",
       "    </tr>\n",
       "  </thead>\n",
       "  <tbody>\n",
       "    <tr>\n",
       "      <th>U123442</th>\n",
       "      <td>11</td>\n",
       "      <td>12</td>\n",
       "    </tr>\n",
       "    <tr>\n",
       "      <th>X567890</th>\n",
       "      <td>22</td>\n",
       "      <td>54</td>\n",
       "    </tr>\n",
       "    <tr>\n",
       "      <th>U345678</th>\n",
       "      <td>11</td>\n",
       "      <td>67</td>\n",
       "    </tr>\n",
       "    <tr>\n",
       "      <th>Y987654</th>\n",
       "      <td>33</td>\n",
       "      <td>23</td>\n",
       "    </tr>\n",
       "  </tbody>\n",
       "</table>\n",
       "</div>"
      ],
      "text/plain": [
       "         Abb  Cdd\n",
       "Codigo           \n",
       "U123442   11   12\n",
       "X567890   22   54\n",
       "U345678   11   67\n",
       "Y987654   33   23"
      ]
     },
     "execution_count": 19,
     "metadata": {},
     "output_type": "execute_result"
    }
   ],
   "source": [
    "dfreg.filter(items=['Abb', 'Cdd'])"
   ]
  },
  {
   "cell_type": "code",
   "execution_count": 20,
   "id": "849ef18b",
   "metadata": {},
   "outputs": [
    {
     "data": {
      "text/html": [
       "<div>\n",
       "<style scoped>\n",
       "    .dataframe tbody tr th:only-of-type {\n",
       "        vertical-align: middle;\n",
       "    }\n",
       "\n",
       "    .dataframe tbody tr th {\n",
       "        vertical-align: top;\n",
       "    }\n",
       "\n",
       "    .dataframe thead th {\n",
       "        text-align: right;\n",
       "    }\n",
       "</style>\n",
       "<table border=\"1\" class=\"dataframe\">\n",
       "  <thead>\n",
       "    <tr style=\"text-align: right;\">\n",
       "      <th></th>\n",
       "      <th>Nombre</th>\n",
       "      <th>Edad</th>\n",
       "      <th>Abb</th>\n",
       "      <th>Cdd</th>\n",
       "    </tr>\n",
       "    <tr>\n",
       "      <th>Codigo</th>\n",
       "      <th></th>\n",
       "      <th></th>\n",
       "      <th></th>\n",
       "      <th></th>\n",
       "    </tr>\n",
       "  </thead>\n",
       "  <tbody>\n",
       "    <tr>\n",
       "      <th>U123442</th>\n",
       "      <td>Ana</td>\n",
       "      <td>28</td>\n",
       "      <td>11</td>\n",
       "      <td>12</td>\n",
       "    </tr>\n",
       "    <tr>\n",
       "      <th>U345678</th>\n",
       "      <td>Maria</td>\n",
       "      <td>29</td>\n",
       "      <td>11</td>\n",
       "      <td>67</td>\n",
       "    </tr>\n",
       "  </tbody>\n",
       "</table>\n",
       "</div>"
      ],
      "text/plain": [
       "        Nombre  Edad  Abb  Cdd\n",
       "Codigo                        \n",
       "U123442    Ana    28   11   12\n",
       "U345678  Maria    29   11   67"
      ]
     },
     "execution_count": 20,
     "metadata": {},
     "output_type": "execute_result"
    }
   ],
   "source": [
    "dfreg.filter(like   ='U', axis=0)"
   ]
  },
  {
   "cell_type": "markdown",
   "id": "cceda8de",
   "metadata": {},
   "source": [
    "# Ejemplo: Analizando un archivo de texto"
   ]
  },
  {
   "cell_type": "code",
   "execution_count": 26,
   "id": "13a780ba",
   "metadata": {},
   "outputs": [
    {
     "name": "stdout",
     "output_type": "stream",
     "text": [
      "show running^M\n",
      "Building configuration...^M\n",
      "^M\n",
      "Current configuration : 166931 bytes^M\n",
      "!^M\n",
      "! Last configuration change at 17:30:29 Co Thu Jul 19 2012 by esalgado^M\n",
      "! NVRAM config last updated at 23:41:23 Co Sun Jul 22 2012^M\n",
      "!^M\n",
      "version 12.2^M\n",
      "no service pad^M\n",
      "service timestamps debug datetime msec localtime^M\n",
      "service timestamps log datetime msec localtime^M\n",
      "service password-encryption^M\n",
      "service compress-config^M\n",
      "!^M\n",
      "hostname villavicencio^M\n",
      "\n",
      "ip vrf AvalBogAVV^M\n",
      " rd 100:16003^M\n",
      " export map ARCOM-AVAL^M\n",
      " route-target export 100:16003^M\n",
      " route-target import 100:16003^M\n",
      " route-target import 14080:2000^M\n",
      " route-target import 14080:27300^M\n",
      "!^M\n",
      "ip vrf AvalBogBBOCis^M\n",
      " rd 100:16001^M\n",
      " export map ARCOM-AVAL^M\n",
      " route-target export 100:16001^M\n",
      " route-target export 100:830^M\n",
      " route-target import 100:16001^M\n",
      " route-target import 100:830^M\n",
      " route-target import 14080:27300^M\n",
      "!^M\n",
      "ip vrf AvalBogBOC^M\n",
      " rd 100:16005^M\n",
      " export map ARCOM-BOC^M\n",
      " route-target export 100:16005^M\n",
      " route-target import 100:16005^M\n",
      " route-target import 14080:300400^M\n",
      "!^M\n",
      "ip vrf AvalBogBPO^M\n",
      " rd 100:16004^M\n",
      " export map ARCOM-AVAL^M\n",
      " route-target export 100:16004^M\n",
      " route-target import 100:16004^M\n",
      " route-target import 14080:27300^M\n",
      "!^M\n"
     ]
    }
   ],
   "source": [
    "doc = open('configuraciones.txt','r')\n",
    "contenido = doc.read()\n",
    "print(contenido)\n"
   ]
  },
  {
   "cell_type": "code",
   "execution_count": 25,
   "id": "0c4ae4bf",
   "metadata": {},
   "outputs": [
    {
     "data": {
      "text/plain": [
       "['ip vrf AvalBogAVV^M',\n",
       " 'ip vrf AvalBogBBOCis^M',\n",
       " 'ip vrf AvalBogBOC^M',\n",
       " 'ip vrf AvalBogBPO^M']"
      ]
     },
     "execution_count": 25,
     "metadata": {},
     "output_type": "execute_result"
    }
   ],
   "source": [
    "vrfs = re.findall(r'ip\\svrf\\sAval\\w+\\^M',contenido)\n",
    "vrfs"
   ]
  }
 ],
 "metadata": {
  "kernelspec": {
   "display_name": "Python 3",
   "language": "python",
   "name": "python3"
  },
  "language_info": {
   "codemirror_mode": {
    "name": "ipython",
    "version": 3
   },
   "file_extension": ".py",
   "mimetype": "text/x-python",
   "name": "python",
   "nbconvert_exporter": "python",
   "pygments_lexer": "ipython3",
   "version": "3.10.0"
  }
 },
 "nbformat": 4,
 "nbformat_minor": 5
}
