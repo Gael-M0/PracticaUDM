{
 "cells": [
  {
   "cell_type": "code",
   "execution_count": 33,
   "id": "291f1cd3",
   "metadata": {},
   "outputs": [],
   "source": [
    "import re\n",
    "import pandas as pd"
   ]
  },
  {
   "cell_type": "code",
   "execution_count": 3,
   "id": "9ecc0a36",
   "metadata": {},
   "outputs": [],
   "source": [
    "texto = \"Mi número de teléfono es 123-456-7890 y mi correo es ejemplo@dominio.com\""
   ]
  },
  {
   "cell_type": "code",
   "execution_count": 4,
   "id": "7114b751",
   "metadata": {},
   "outputs": [
    {
     "data": {
      "text/plain": [
       "<re.Match object; span=(10, 12), match='de'>"
      ]
     },
     "execution_count": 4,
     "metadata": {},
     "output_type": "execute_result"
    }
   ],
   "source": [
    "re.search('de', texto)\n"
   ]
  },
  {
   "cell_type": "code",
   "execution_count": 5,
   "id": "52c002aa",
   "metadata": {},
   "outputs": [
    {
     "name": "stdout",
     "output_type": "stream",
     "text": [
      "Se encontró la palabra 'de' en el texto.\n"
     ]
    }
   ],
   "source": [
    "if re.search('de', texto):\n",
    "    print(\"Se encontró la palabra 'de' en el texto.\")"
   ]
  },
  {
   "cell_type": "code",
   "execution_count": 6,
   "id": "8fcaf938",
   "metadata": {},
   "outputs": [
    {
     "name": "stdout",
     "output_type": "stream",
     "text": [
      "No se encontró la palabra 'manubrio' en el texto.\n"
     ]
    }
   ],
   "source": [
    "if re.search('manubrio', texto): # Busca la palabra 'manubrio' en el texto\n",
    "    print(\"Se encontró la palabra 'manubrio' en el texto.\")\n",
    "else:\n",
    "    print(\"No se encontró la palabra 'manubrio' en el texto.\")"
   ]
  },
  {
   "cell_type": "code",
   "execution_count": 7,
   "id": "f5857471",
   "metadata": {},
   "outputs": [
    {
     "data": {
      "text/plain": [
       "['es', 'es']"
      ]
     },
     "execution_count": 7,
     "metadata": {},
     "output_type": "execute_result"
    }
   ],
   "source": [
    "re.findall('es', texto) # Encuentra todas las ocurrencias de 'es' en el texto"
   ]
  },
  {
   "cell_type": "markdown",
   "id": "70244b0a",
   "metadata": {},
   "source": [
    "## Limites\n",
    "\\b-limite de palabra  \n",
    "\\B-No es un limite de palabra  \n",
    "^-inicio de una cadena de texto  \n",
    "$-Final de una cadena de texto  "
   ]
  },
  {
   "cell_type": "code",
   "execution_count": 8,
   "id": "b5dbd121",
   "metadata": {},
   "outputs": [
    {
     "data": {
      "text/plain": [
       "['Mi']"
      ]
     },
     "execution_count": 8,
     "metadata": {},
     "output_type": "execute_result"
    }
   ],
   "source": [
    "re.findall('^Mi', texto,re.M) # Busca la palabra 'Mi' al inicio del texto"
   ]
  },
  {
   "cell_type": "code",
   "execution_count": 9,
   "id": "ec024474",
   "metadata": {},
   "outputs": [
    {
     "data": {
      "text/plain": [
       "['com']"
      ]
     },
     "execution_count": 9,
     "metadata": {},
     "output_type": "execute_result"
    }
   ],
   "source": [
    "re.findall('com$', texto,re.M) # Busca la palabra 'com' al final del texto"
   ]
  },
  {
   "cell_type": "code",
   "execution_count": 10,
   "id": "c6db4340",
   "metadata": {},
   "outputs": [
    {
     "data": {
      "text/plain": [
       "['3']"
      ]
     },
     "execution_count": 10,
     "metadata": {},
     "output_type": "execute_result"
    }
   ],
   "source": [
    "re.findall(r'3\\b', texto) # Encuentra todas las ocurrencias del dígito '3' en el texto"
   ]
  },
  {
   "cell_type": "markdown",
   "id": "4d64ebdd",
   "metadata": {},
   "source": [
    "## Cuantificadores:\n",
    "*- 0 o Mas  \n",
    "+- 1 o mas  \n",
    "? - 0 o uno  \n",
    "{3} - numero exacto  \n",
    "{3,4} - rango de numeros ( Min, max )\n"
   ]
  },
  {
   "cell_type": "code",
   "execution_count": 11,
   "id": "0cd37a7f",
   "metadata": {},
   "outputs": [],
   "source": [
    "Texto2= '''\n",
    "Ana U123442 S\n",
    "Pedro U567890 P\n",
    "Maria U345678 M\n",
    "'''"
   ]
  },
  {
   "cell_type": "code",
   "execution_count": 12,
   "id": "a34c6799",
   "metadata": {},
   "outputs": [
    {
     "data": {
      "text/plain": [
       "['Ana', 'U123442', 'S', 'Pedro', 'U567890', 'P', 'Maria', 'U345678', 'M']"
      ]
     },
     "execution_count": 12,
     "metadata": {},
     "output_type": "execute_result"
    }
   ],
   "source": [
    "re.findall(r'\\w+',Texto2) # Encuentra todas las palabras en el texto"
   ]
  },
  {
   "cell_type": "code",
   "execution_count": 13,
   "id": "9109f3f7",
   "metadata": {},
   "outputs": [
    {
     "data": {
      "text/plain": [
       "['U123442', 'U567890', 'U345678']"
      ]
     },
     "execution_count": 13,
     "metadata": {},
     "output_type": "execute_result"
    }
   ],
   "source": [
    "re.findall(r'U\\d+',Texto2) # Encuentra todas las ocurrencias de 'U' seguido de dígitos en el texto"
   ]
  },
  {
   "cell_type": "markdown",
   "id": "33625e74",
   "metadata": {},
   "source": [
    "## Conjunto de caracteres\n",
    "[] - caracteres dentro de los brackets  \n",
    "[^]- caracteres que no estan dentro de los brackets  \n",
    "\n",
    "## Grupos\n",
    "() - Grupo  \n",
    "| - Uno u otro  "
   ]
  },
  {
   "cell_type": "code",
   "execution_count": 14,
   "id": "d574a5cc",
   "metadata": {},
   "outputs": [],
   "source": [
    "Texto3 = ''' ruta12: http://www.ejemplo.com\n",
    "ruta34: https://secure.ejemplo.com\n",
    "ruta56: ftp://ftp.ejemplo.com'''"
   ]
  },
  {
   "cell_type": "code",
   "execution_count": null,
   "id": "657e5e3a",
   "metadata": {},
   "outputs": [
    {
     "data": {
      "text/plain": [
       "['ruta12', 'ruta34']"
      ]
     },
     "execution_count": 18,
     "metadata": {},
     "output_type": "execute_result"
    }
   ],
   "source": [
    "re.findall(r'ruta[1-4]{2}',Texto3) # Encuentra todas las rutas que terminan en números del 1 al 4"
   ]
  },
  {
   "cell_type": "code",
   "execution_count": 25,
   "id": "45a1e10f",
   "metadata": {},
   "outputs": [
    {
     "name": "stdout",
     "output_type": "stream",
     "text": [
      "['http://www.ejemplo.com', 'https://', 'ftp://']\n"
     ]
    }
   ],
   "source": [
    "paginas = re.findall(r'(http|https|ftp)(://)(www\\.)?(\\w+.com)?',Texto3) # Encuentra todas las URLs en el texto\n",
    "paginas=[ ''.join(pagina) for pagina in paginas ]\n",
    "print(paginas)"
   ]
  },
  {
   "cell_type": "markdown",
   "id": "5d8f8094",
   "metadata": {},
   "source": [
    "# Importando un archivo de texto"
   ]
  },
  {
   "cell_type": "code",
   "execution_count": 31,
   "id": "21c775a6",
   "metadata": {},
   "outputs": [
    {
     "name": "stdout",
     "output_type": "stream",
     "text": [
      "Linea1\n",
      "Linea2\n",
      "Linea3\n"
     ]
    }
   ],
   "source": [
    "doc = open('archivo.txt','r')\n",
    "contenido = doc.read()\n",
    "print(contenido)\n",
    "doc.close()"
   ]
  },
  {
   "cell_type": "code",
   "execution_count": 32,
   "id": "32ea2d53",
   "metadata": {},
   "outputs": [
    {
     "data": {
      "text/plain": [
       "['Linea', 'Linea', 'Linea']"
      ]
     },
     "execution_count": 32,
     "metadata": {},
     "output_type": "execute_result"
    }
   ],
   "source": [
    "re.findall(r'Linea', contenido)"
   ]
  },
  {
   "cell_type": "code",
   "execution_count": null,
   "id": "d90aff20",
   "metadata": {},
   "outputs": [],
   "source": []
  }
 ],
 "metadata": {
  "kernelspec": {
   "display_name": "Python 3",
   "language": "python",
   "name": "python3"
  },
  "language_info": {
   "codemirror_mode": {
    "name": "ipython",
    "version": 3
   },
   "file_extension": ".py",
   "mimetype": "text/x-python",
   "name": "python",
   "nbconvert_exporter": "python",
   "pygments_lexer": "ipython3",
   "version": "3.10.0"
  }
 },
 "nbformat": 4,
 "nbformat_minor": 5
}
