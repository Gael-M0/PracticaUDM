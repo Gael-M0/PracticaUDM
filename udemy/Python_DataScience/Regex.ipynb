{
 "cells": [
  {
   "cell_type": "code",
   "execution_count": 1,
   "id": "291f1cd3",
   "metadata": {},
   "outputs": [],
   "source": [
    "import re"
   ]
  },
  {
   "cell_type": "code",
   "execution_count": 2,
   "id": "9ecc0a36",
   "metadata": {},
   "outputs": [],
   "source": [
    "texto = \"Mi número de teléfono es 123-456-7890 y mi correo es ejemplo@dominio.com\""
   ]
  },
  {
   "cell_type": "code",
   "execution_count": 3,
   "id": "7114b751",
   "metadata": {},
   "outputs": [
    {
     "data": {
      "text/plain": [
       "<re.Match object; span=(10, 12), match='de'>"
      ]
     },
     "execution_count": 3,
     "metadata": {},
     "output_type": "execute_result"
    }
   ],
   "source": [
    "re.search('de', texto)\n"
   ]
  },
  {
   "cell_type": "code",
   "execution_count": 4,
   "id": "52c002aa",
   "metadata": {},
   "outputs": [
    {
     "name": "stdout",
     "output_type": "stream",
     "text": [
      "Se encontró la palabra 'de' en el texto.\n"
     ]
    }
   ],
   "source": [
    "if re.search('de', texto):\n",
    "    print(\"Se encontró la palabra 'de' en el texto.\")"
   ]
  },
  {
   "cell_type": "code",
   "execution_count": 5,
   "id": "8fcaf938",
   "metadata": {},
   "outputs": [
    {
     "name": "stdout",
     "output_type": "stream",
     "text": [
      "No se encontró la palabra 'manubrio' en el texto.\n"
     ]
    }
   ],
   "source": [
    "if re.search('manubrio', texto): # Busca la palabra 'manubrio' en el texto\n",
    "    print(\"Se encontró la palabra 'manubrio' en el texto.\")\n",
    "else:\n",
    "    print(\"No se encontró la palabra 'manubrio' en el texto.\")"
   ]
  },
  {
   "cell_type": "code",
   "execution_count": 6,
   "id": "f5857471",
   "metadata": {},
   "outputs": [
    {
     "data": {
      "text/plain": [
       "['es', 'es']"
      ]
     },
     "execution_count": 6,
     "metadata": {},
     "output_type": "execute_result"
    }
   ],
   "source": [
    "re.findall('es', texto) # Encuentra todas las ocurrencias de 'es' en el texto"
   ]
  },
  {
   "cell_type": "markdown",
   "id": "70244b0a",
   "metadata": {},
   "source": [
    "## Limites\n",
    "\\b-limite de palabra \n",
    "\\B-No es un limite de palabra\n",
    "^-inicio de una cadena de texto\n",
    "$-Final de una cadena de texto"
   ]
  },
  {
   "cell_type": "code",
   "execution_count": 13,
   "id": "b5dbd121",
   "metadata": {},
   "outputs": [
    {
     "data": {
      "text/plain": [
       "['Mi']"
      ]
     },
     "execution_count": 13,
     "metadata": {},
     "output_type": "execute_result"
    }
   ],
   "source": [
    "re.findall('^Mi', texto,re.M) # Busca la palabra 'Mi' al inicio del texto"
   ]
  },
  {
   "cell_type": "code",
   "execution_count": 11,
   "id": "ec024474",
   "metadata": {},
   "outputs": [
    {
     "data": {
      "text/plain": [
       "['com']"
      ]
     },
     "execution_count": 11,
     "metadata": {},
     "output_type": "execute_result"
    }
   ],
   "source": [
    "re.findall('com$', texto,re.M) # Busca la palabra 'com' al final del texto"
   ]
  },
  {
   "cell_type": "code",
   "execution_count": 16,
   "id": "c6db4340",
   "metadata": {},
   "outputs": [
    {
     "data": {
      "text/plain": [
       "['3']"
      ]
     },
     "execution_count": 16,
     "metadata": {},
     "output_type": "execute_result"
    }
   ],
   "source": [
    "re.findall(r'3\\b', texto) # Encuentra todas las ocurrencias del dígito '3' en el texto"
   ]
  }
 ],
 "metadata": {
  "kernelspec": {
   "display_name": "Python 3",
   "language": "python",
   "name": "python3"
  },
  "language_info": {
   "codemirror_mode": {
    "name": "ipython",
    "version": 3
   },
   "file_extension": ".py",
   "mimetype": "text/x-python",
   "name": "python",
   "nbconvert_exporter": "python",
   "pygments_lexer": "ipython3",
   "version": "3.10.0"
  }
 },
 "nbformat": 4,
 "nbformat_minor": 5
}
