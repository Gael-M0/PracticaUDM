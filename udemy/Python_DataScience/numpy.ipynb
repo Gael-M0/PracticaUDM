{
 "cells": [
  {
   "cell_type": "markdown",
   "id": "4c059915",
   "metadata": {},
   "source": [
    "## La libreria Numpy\n"
   ]
  },
  {
   "cell_type": "code",
   "execution_count": 2,
   "id": "65f85b68",
   "metadata": {},
   "outputs": [],
   "source": [
    "import numpy as np"
   ]
  },
  {
   "cell_type": "markdown",
   "id": "2b480477",
   "metadata": {},
   "source": [
    "## Creacion de Arrays"
   ]
  },
  {
   "cell_type": "code",
   "execution_count": 3,
   "id": "abfb1c73",
   "metadata": {},
   "outputs": [],
   "source": [
    "A = np.array([[1,2], [4,3]])"
   ]
  },
  {
   "cell_type": "code",
   "execution_count": 4,
   "id": "fd7ebe7a",
   "metadata": {},
   "outputs": [
    {
     "name": "stdout",
     "output_type": "stream",
     "text": [
      "[[1 2]\n",
      " [4 3]]\n"
     ]
    }
   ],
   "source": [
    "print(A)"
   ]
  },
  {
   "cell_type": "code",
   "execution_count": 5,
   "id": "4100d11d",
   "metadata": {},
   "outputs": [
    {
     "name": "stdout",
     "output_type": "stream",
     "text": [
      "[[1. 1.]\n",
      " [1. 1.]\n",
      " [1. 1.]]\n"
     ]
    }
   ],
   "source": [
    "B = np.ones([3,2])\n",
    "print(B)"
   ]
  },
  {
   "cell_type": "code",
   "execution_count": 6,
   "id": "9b4fd51f",
   "metadata": {},
   "outputs": [
    {
     "name": "stdout",
     "output_type": "stream",
     "text": [
      "[[1. 0. 0. 0. 0.]\n",
      " [0. 1. 0. 0. 0.]\n",
      " [0. 0. 1. 0. 0.]\n",
      " [0. 0. 0. 1. 0.]\n",
      " [0. 0. 0. 0. 1.]]\n"
     ]
    }
   ],
   "source": [
    "C = np.identity(5)\n",
    "print(C)"
   ]
  },
  {
   "cell_type": "code",
   "execution_count": 8,
   "id": "8f088fda",
   "metadata": {},
   "outputs": [
    {
     "name": "stdout",
     "output_type": "stream",
     "text": [
      "[ 1.   1.5  2.   2.5  3.   3.5  4.   4.5  5.   5.5  6.   6.5  7.   7.5\n",
      "  8.   8.5  9.   9.5 10.  10.5]\n"
     ]
    }
   ],
   "source": [
    "G = np.arange(1,11,0.5)\n",
    "print(G)"
   ]
  },
  {
   "cell_type": "code",
   "execution_count": null,
   "id": "fdfebd7e",
   "metadata": {},
   "outputs": [
    {
     "name": "stdout",
     "output_type": "stream",
     "text": [
      "[ 1.    3.25  5.5   7.75 10.  ]\n"
     ]
    }
   ],
   "source": [
    "H = np.linspace(1,10,5) #Crear arrays con puntos medios: Inicio | Final | Cantidad de puntos medios\n",
    "print(H)"
   ]
  },
  {
   "cell_type": "code",
   "execution_count": null,
   "id": "89d87c9a",
   "metadata": {},
   "outputs": [
    {
     "name": "stdout",
     "output_type": "stream",
     "text": [
      "[[0.55758596 0.98413117]\n",
      " [0.24935129 0.44715538]\n",
      " [0.64250049 0.35808064]]\n"
     ]
    }
   ],
   "source": [
    "R = np.random.random([3,2]) #Crear arrays con valores aleatorios entre 0 y 1 de tamaño 3x2\n",
    "print(R)"
   ]
  },
  {
   "cell_type": "markdown",
   "id": "71979c14",
   "metadata": {},
   "source": [
    "## Caracteristicas de un Array"
   ]
  },
  {
   "cell_type": "code",
   "execution_count": null,
   "id": "c4251a92",
   "metadata": {},
   "outputs": [
    {
     "data": {
      "text/plain": [
       "dtype('float64')"
      ]
     },
     "execution_count": 12,
     "metadata": {},
     "output_type": "execute_result"
    }
   ],
   "source": [
    "R.dtype #Tipo de dato del array\n"
   ]
  },
  {
   "cell_type": "code",
   "execution_count": null,
   "id": "d9cfc52a",
   "metadata": {},
   "outputs": [
    {
     "data": {
      "text/plain": [
       "2"
      ]
     },
     "execution_count": 15,
     "metadata": {},
     "output_type": "execute_result"
    }
   ],
   "source": [
    "R.ndim #Número de dimensiones del array\n"
   ]
  },
  {
   "cell_type": "code",
   "execution_count": null,
   "id": "c621cffa",
   "metadata": {},
   "outputs": [
    {
     "data": {
      "text/plain": [
       "(3, 2)"
      ]
     },
     "execution_count": 14,
     "metadata": {},
     "output_type": "execute_result"
    }
   ],
   "source": [
    "R.shape #Dimensiones del array (filas, columnas)\n"
   ]
  },
  {
   "cell_type": "code",
   "execution_count": null,
   "id": "19754b2c",
   "metadata": {},
   "outputs": [
    {
     "data": {
      "text/plain": [
       "6"
      ]
     },
     "execution_count": 13,
     "metadata": {},
     "output_type": "execute_result"
    }
   ],
   "source": [
    "R.size #Número total de elementos del array"
   ]
  },
  {
   "cell_type": "markdown",
   "id": "1ace4478",
   "metadata": {},
   "source": [
    "### Obtener y modificar elementos de un array"
   ]
  },
  {
   "cell_type": "code",
   "execution_count": 16,
   "id": "83ee0b77",
   "metadata": {},
   "outputs": [
    {
     "name": "stdout",
     "output_type": "stream",
     "text": [
      "[[1 2 3]\n",
      " [4 5 6]\n",
      " [7 8 9]]\n"
     ]
    }
   ],
   "source": [
    "Ejemplo = np.array([[1,2,3], [4,5,6], [7,8,9]])\n",
    "print(Ejemplo)"
   ]
  },
  {
   "cell_type": "code",
   "execution_count": 17,
   "id": "903176af",
   "metadata": {},
   "outputs": [
    {
     "data": {
      "text/plain": [
       "np.int64(9)"
      ]
     },
     "execution_count": 17,
     "metadata": {},
     "output_type": "execute_result"
    }
   ],
   "source": [
    "Ejemplo[2,2] #Obtener el elemento de la fila 2, columna 2 (índices empiezan en 0)"
   ]
  },
  {
   "cell_type": "code",
   "execution_count": 18,
   "id": "19c93f1a",
   "metadata": {},
   "outputs": [
    {
     "name": "stdout",
     "output_type": "stream",
     "text": [
      "[[ 1  2  3]\n",
      " [ 4  5  6]\n",
      " [50  8  9]]\n"
     ]
    }
   ],
   "source": [
    "Ejemplo[2,0]=50 #Modificar el elemento de la fila 2, columna 0\n",
    "print(Ejemplo)"
   ]
  },
  {
   "cell_type": "code",
   "execution_count": null,
   "id": "988bd1ef",
   "metadata": {},
   "outputs": [
    {
     "data": {
      "text/plain": [
       "array([[1, 2],\n",
       "       [4, 5]])"
      ]
     },
     "execution_count": 20,
     "metadata": {},
     "output_type": "execute_result"
    }
   ],
   "source": [
    "Ejemplo[:2,:2] #Obtener un subarray (filas 0 y 1, columnas 0 y 1)"
   ]
  },
  {
   "cell_type": "code",
   "execution_count": 21,
   "id": "2dd4d892",
   "metadata": {},
   "outputs": [
    {
     "data": {
      "text/plain": [
       "array([[2, 3],\n",
       "       [5, 6]])"
      ]
     },
     "execution_count": 21,
     "metadata": {},
     "output_type": "execute_result"
    }
   ],
   "source": [
    "Ejemplo[:2,1:3] #Obtener un subarray (filas 0 y 1, columnas 1 y 2)"
   ]
  }
 ],
 "metadata": {
  "kernelspec": {
   "display_name": "Python 3",
   "language": "python",
   "name": "python3"
  },
  "language_info": {
   "codemirror_mode": {
    "name": "ipython",
    "version": 3
   },
   "file_extension": ".py",
   "mimetype": "text/x-python",
   "name": "python",
   "nbconvert_exporter": "python",
   "pygments_lexer": "ipython3",
   "version": "3.10.0"
  }
 },
 "nbformat": 4,
 "nbformat_minor": 5
}
