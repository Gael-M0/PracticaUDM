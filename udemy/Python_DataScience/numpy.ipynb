{
 "cells": [
  {
   "cell_type": "markdown",
   "id": "4c059915",
   "metadata": {},
   "source": [
    "## La libreria Numpy\n"
   ]
  },
  {
   "cell_type": "code",
   "execution_count": 2,
   "id": "65f85b68",
   "metadata": {},
   "outputs": [],
   "source": [
    "import numpy as np"
   ]
  },
  {
   "cell_type": "markdown",
   "id": "2b480477",
   "metadata": {},
   "source": [
    "## Creacion de Arrays"
   ]
  },
  {
   "cell_type": "code",
   "execution_count": 3,
   "id": "abfb1c73",
   "metadata": {},
   "outputs": [],
   "source": [
    "A = np.array([[1,2], [4,3]])"
   ]
  },
  {
   "cell_type": "code",
   "execution_count": 4,
   "id": "fd7ebe7a",
   "metadata": {},
   "outputs": [
    {
     "name": "stdout",
     "output_type": "stream",
     "text": [
      "[[1 2]\n",
      " [4 3]]\n"
     ]
    }
   ],
   "source": [
    "print(A)"
   ]
  },
  {
   "cell_type": "code",
   "execution_count": 5,
   "id": "4100d11d",
   "metadata": {},
   "outputs": [
    {
     "name": "stdout",
     "output_type": "stream",
     "text": [
      "[[1. 1.]\n",
      " [1. 1.]\n",
      " [1. 1.]]\n"
     ]
    }
   ],
   "source": [
    "B = np.ones([3,2])\n",
    "print(B)"
   ]
  },
  {
   "cell_type": "code",
   "execution_count": 6,
   "id": "9b4fd51f",
   "metadata": {},
   "outputs": [
    {
     "name": "stdout",
     "output_type": "stream",
     "text": [
      "[[1. 0. 0. 0. 0.]\n",
      " [0. 1. 0. 0. 0.]\n",
      " [0. 0. 1. 0. 0.]\n",
      " [0. 0. 0. 1. 0.]\n",
      " [0. 0. 0. 0. 1.]]\n"
     ]
    }
   ],
   "source": [
    "C = np.identity(5)\n",
    "print(C)"
   ]
  },
  {
   "cell_type": "code",
   "execution_count": 7,
   "id": "8f088fda",
   "metadata": {},
   "outputs": [
    {
     "name": "stdout",
     "output_type": "stream",
     "text": [
      "[ 1.   1.5  2.   2.5  3.   3.5  4.   4.5  5.   5.5  6.   6.5  7.   7.5\n",
      "  8.   8.5  9.   9.5 10.  10.5]\n"
     ]
    }
   ],
   "source": [
    "G = np.arange(1,11,0.5)\n",
    "print(G)"
   ]
  },
  {
   "cell_type": "code",
   "execution_count": 8,
   "id": "fdfebd7e",
   "metadata": {},
   "outputs": [
    {
     "name": "stdout",
     "output_type": "stream",
     "text": [
      "[ 1.    3.25  5.5   7.75 10.  ]\n"
     ]
    }
   ],
   "source": [
    "H = np.linspace(1,10,5) #Crear arrays con puntos medios: Inicio | Final | Cantidad de puntos medios\n",
    "print(H)"
   ]
  },
  {
   "cell_type": "code",
   "execution_count": 9,
   "id": "89d87c9a",
   "metadata": {},
   "outputs": [
    {
     "name": "stdout",
     "output_type": "stream",
     "text": [
      "[[0.82959795 0.40391432]\n",
      " [0.35183135 0.76906636]\n",
      " [0.02849277 0.50188898]]\n"
     ]
    }
   ],
   "source": [
    "R = np.random.random([3,2]) #Crear arrays con valores aleatorios entre 0 y 1 de tamaño 3x2\n",
    "print(R)"
   ]
  },
  {
   "cell_type": "markdown",
   "id": "71979c14",
   "metadata": {},
   "source": [
    "## Caracteristicas de un Array"
   ]
  },
  {
   "cell_type": "code",
   "execution_count": 10,
   "id": "c4251a92",
   "metadata": {},
   "outputs": [
    {
     "data": {
      "text/plain": [
       "dtype('float64')"
      ]
     },
     "execution_count": 10,
     "metadata": {},
     "output_type": "execute_result"
    }
   ],
   "source": [
    "R.dtype #Tipo de dato del array\n"
   ]
  },
  {
   "cell_type": "code",
   "execution_count": 11,
   "id": "d9cfc52a",
   "metadata": {},
   "outputs": [
    {
     "data": {
      "text/plain": [
       "2"
      ]
     },
     "execution_count": 11,
     "metadata": {},
     "output_type": "execute_result"
    }
   ],
   "source": [
    "R.ndim #Número de dimensiones del array\n"
   ]
  },
  {
   "cell_type": "code",
   "execution_count": 12,
   "id": "c621cffa",
   "metadata": {},
   "outputs": [
    {
     "data": {
      "text/plain": [
       "(3, 2)"
      ]
     },
     "execution_count": 12,
     "metadata": {},
     "output_type": "execute_result"
    }
   ],
   "source": [
    "R.shape #Dimensiones del array (filas, columnas)\n"
   ]
  },
  {
   "cell_type": "code",
   "execution_count": 13,
   "id": "19754b2c",
   "metadata": {},
   "outputs": [
    {
     "data": {
      "text/plain": [
       "6"
      ]
     },
     "execution_count": 13,
     "metadata": {},
     "output_type": "execute_result"
    }
   ],
   "source": [
    "R.size #Número total de elementos del array"
   ]
  },
  {
   "cell_type": "markdown",
   "id": "1ace4478",
   "metadata": {},
   "source": [
    "### Obtener y modificar elementos de un array"
   ]
  },
  {
   "cell_type": "code",
   "execution_count": 14,
   "id": "83ee0b77",
   "metadata": {},
   "outputs": [
    {
     "name": "stdout",
     "output_type": "stream",
     "text": [
      "[[1 2 3]\n",
      " [4 5 6]\n",
      " [7 8 9]]\n"
     ]
    }
   ],
   "source": [
    "Ejemplo = np.array([[1,2,3], [4,5,6], [7,8,9]])\n",
    "print(Ejemplo)"
   ]
  },
  {
   "cell_type": "code",
   "execution_count": 15,
   "id": "903176af",
   "metadata": {},
   "outputs": [
    {
     "data": {
      "text/plain": [
       "np.int64(9)"
      ]
     },
     "execution_count": 15,
     "metadata": {},
     "output_type": "execute_result"
    }
   ],
   "source": [
    "Ejemplo[2,2] #Obtener el elemento de la fila 2, columna 2 (índices empiezan en 0)"
   ]
  },
  {
   "cell_type": "code",
   "execution_count": 16,
   "id": "19c93f1a",
   "metadata": {},
   "outputs": [
    {
     "name": "stdout",
     "output_type": "stream",
     "text": [
      "[[ 1  2  3]\n",
      " [ 4  5  6]\n",
      " [50  8  9]]\n"
     ]
    }
   ],
   "source": [
    "Ejemplo[2,0]=50 #Modificar el elemento de la fila 2, columna 0\n",
    "print(Ejemplo)"
   ]
  },
  {
   "cell_type": "code",
   "execution_count": 17,
   "id": "988bd1ef",
   "metadata": {},
   "outputs": [
    {
     "data": {
      "text/plain": [
       "array([[1, 2],\n",
       "       [4, 5]])"
      ]
     },
     "execution_count": 17,
     "metadata": {},
     "output_type": "execute_result"
    }
   ],
   "source": [
    "Ejemplo[:2,:2] #Obtener un subarray (filas 0 y 1, columnas 0 y 1)"
   ]
  },
  {
   "cell_type": "code",
   "execution_count": 18,
   "id": "2dd4d892",
   "metadata": {},
   "outputs": [
    {
     "data": {
      "text/plain": [
       "array([[2, 3],\n",
       "       [5, 6]])"
      ]
     },
     "execution_count": 18,
     "metadata": {},
     "output_type": "execute_result"
    }
   ],
   "source": [
    "Ejemplo[:2,1:3] #Obtener un subarray (filas 0 y 1, columnas 1 y 2)"
   ]
  },
  {
   "cell_type": "markdown",
   "id": "aaf5f0af",
   "metadata": {},
   "source": [
    "### Filtrando elementos de un Array"
   ]
  },
  {
   "cell_type": "code",
   "execution_count": 19,
   "id": "dcefc340",
   "metadata": {},
   "outputs": [
    {
     "name": "stdout",
     "output_type": "stream",
     "text": [
      "[[ 1  7  3  4]\n",
      " [ 2 12  4  1]\n",
      " [ 2  9  7  8]]\n"
     ]
    },
    {
     "data": {
      "text/plain": [
       "array([12,  8])"
      ]
     },
     "execution_count": 19,
     "metadata": {},
     "output_type": "execute_result"
    }
   ],
   "source": [
    "AR=np.array([[1,7,3,4],[2,12,4,1],[2,9,7,8]])\n",
    "print(AR)\n",
    "AR[(AR%2==0) & (AR>4)] #Obtener los elementos pares mayores que 4\n"
   ]
  },
  {
   "cell_type": "code",
   "execution_count": 20,
   "id": "d5b2e707",
   "metadata": {},
   "outputs": [
    {
     "data": {
      "text/plain": [
       "array([ 3,  4,  2, 12,  4,  2,  9,  8])"
      ]
     },
     "execution_count": 20,
     "metadata": {},
     "output_type": "execute_result"
    }
   ],
   "source": [
    "AR[(AR%2==0) | (AR%3==0)] #Obtener los elementos pares o múltiplos de 3"
   ]
  },
  {
   "cell_type": "code",
   "execution_count": 21,
   "id": "d0953f11",
   "metadata": {},
   "outputs": [
    {
     "name": "stdout",
     "output_type": "stream",
     "text": [
      "[[  1   2   3   4]\n",
      " [  3   6   9  12]\n",
      " [  9  36  81 144]]\n",
      "El numero de elementos impares es:  6\n"
     ]
    }
   ],
   "source": [
    "F1 = [1,2,3,4]\n",
    "M = np.array([F1,[3*k for k in F1], [(3*k)**2 for k in F1]]) #Crear un array a partir de listas\n",
    "print(M)\n",
    "print('El numero de elementos impares es: ',M[M%2!=0].size) # Contar los elementos impares del array"
   ]
  },
  {
   "cell_type": "markdown",
   "id": "d65a1d8c",
   "metadata": {},
   "source": [
    "### Dimensiones da arrays"
   ]
  },
  {
   "cell_type": "code",
   "execution_count": 22,
   "id": "e52acdee",
   "metadata": {},
   "outputs": [
    {
     "name": "stdout",
     "output_type": "stream",
     "text": [
      "[ 7  2  9 10]\n"
     ]
    }
   ],
   "source": [
    "AG = np.array([7,2,9,10]) #Array de una dimensión\n",
    "print(AG)"
   ]
  },
  {
   "cell_type": "code",
   "execution_count": 23,
   "id": "305276fe",
   "metadata": {},
   "outputs": [
    {
     "name": "stdout",
     "output_type": "stream",
     "text": [
      "[[5 2 5 6]\n",
      " [7 8 3 4]]\n"
     ]
    }
   ],
   "source": [
    "BG = np.array([[5,2,5,6],[7,8,3,4]]) #Array de dos dimensiones\n",
    "print(BG)"
   ]
  },
  {
   "cell_type": "markdown",
   "id": "f103963d",
   "metadata": {},
   "source": [
    "### Eliminar y añadir elementos"
   ]
  },
  {
   "cell_type": "code",
   "execution_count": 24,
   "id": "9673b9fe",
   "metadata": {},
   "outputs": [
    {
     "name": "stdout",
     "output_type": "stream",
     "text": [
      "AG(original): [ 7  2  9 10]\n",
      "AG(modificado): [ 7  9 10]\n"
     ]
    }
   ],
   "source": [
    "print(f\"AG(original): {AG}\")\n",
    "AG = np.delete(AG,1) #Eliminar el elemento en la posición 1 del array AG\n",
    "print(f\"AG(modificado): {AG}\")"
   ]
  },
  {
   "cell_type": "code",
   "execution_count": 25,
   "id": "e01e8ece",
   "metadata": {},
   "outputs": [
    {
     "name": "stdout",
     "output_type": "stream",
     "text": [
      "[[2 5 6]\n",
      " [8 3 4]]\n"
     ]
    }
   ],
   "source": [
    "JG = np.delete(BG,0,axis=1) #Eliminar la columna 0 del array BG\n",
    "print(JG) #axis=0 para filas, axis=1 para columnas"
   ]
  },
  {
   "cell_type": "code",
   "execution_count": 26,
   "id": "2f1c86f2",
   "metadata": {},
   "outputs": [
    {
     "name": "stdout",
     "output_type": "stream",
     "text": [
      "[ 7  9 10  6  7]\n"
     ]
    }
   ],
   "source": [
    "EG = np.append(AG,[6,7]) #Añadir elementos al final del array AG\n",
    "print(EG) #Mostrar el array resultante\n"
   ]
  },
  {
   "cell_type": "code",
   "execution_count": null,
   "id": "74419fd8",
   "metadata": {},
   "outputs": [
    {
     "name": "stdout",
     "output_type": "stream",
     "text": [
      "[[5 2 5 6 6]\n",
      " [7 8 3 4 7]]\n"
     ]
    }
   ],
   "source": [
    "EG = np.append(BG,[[6],[7]],axis=1) #Añadir una columna al final del array BG\n",
    "print(EG) #axis=0 para filas, axis=1 para columnas"
   ]
  },
  {
   "cell_type": "code",
   "execution_count": 31,
   "id": "069383b9",
   "metadata": {},
   "outputs": [
    {
     "name": "stdout",
     "output_type": "stream",
     "text": [
      "array original: \n",
      "[ 1.  2.  3.  4.  5.  6.  7.  8.  9. 10. 11. 12. 13. 14. 15. 16. 17. 18.\n",
      " 19. 20. 21. 22. 23. 24. 25. 26. 27. 28. 29. 30. 31. 32. 33. 34. 35. 36.]\n",
      "array reconfigurado: \n",
      "[[ 1.  2.  3.  4.  5.  6.]\n",
      " [ 7.  8.  9. 10. 11. 12.]\n",
      " [13. 14. 15. 16. 17. 18.]\n",
      " [19. 20. 21. 22. 23. 24.]\n",
      " [25. 26. 27. 28. 29. 30.]\n",
      " [31. 32. 33. 34. 35. 36.]]\n"
     ]
    }
   ],
   "source": [
    "AG = np.linspace(1,36,36) #Crear un array con 36 elementos entre 1 y 36\n",
    "print(f\"array original: \\n{AG}\")\n",
    "AG = AG.reshape(6,6) #Cambiar la forma del array AG a 6x6\n",
    "print(f\"array reconfigurado: \\n{AG}\")"
   ]
  },
  {
   "cell_type": "markdown",
   "id": "f70b3faa",
   "metadata": {},
   "source": [
    "## Suma,Resta,multiplicacion y division"
   ]
  },
  {
   "cell_type": "code",
   "execution_count": 39,
   "id": "bc6c4bc2",
   "metadata": {},
   "outputs": [
    {
     "name": "stdout",
     "output_type": "stream",
     "text": [
      "PR:\n",
      " [[1 2]\n",
      " [3 4]]\n",
      "SR:\n",
      " [[5 6]\n",
      " [7 8]]\n"
     ]
    }
   ],
   "source": [
    "PR = np.array([[1,2],[3,4]])\n",
    "SR = np.array([[5,6],[7,8]])\n",
    "print(f\"PR:\\n {PR}\")\n",
    "print(f\"SR:\\n {SR}\")\n"
   ]
  },
  {
   "cell_type": "code",
   "execution_count": 40,
   "id": "5b91c450",
   "metadata": {},
   "outputs": [
    {
     "name": "stdout",
     "output_type": "stream",
     "text": [
      "PR + SR =\n",
      " [[ 6  8]\n",
      " [10 12]]\n",
      "------------------------\n",
      "np.add(PR,SR) =\n",
      " [[ 6  8]\n",
      " [10 12]]\n"
     ]
    }
   ],
   "source": [
    "print(f\"PR + SR =\\n {PR + SR}\") #Suma de arrays\n",
    "print(\"------------------------\")\n",
    "print(f\"np.add(PR,SR) =\\n {np.add(PR,SR)}\") #Suma de arrays usando la función add"
   ]
  },
  {
   "cell_type": "code",
   "execution_count": 41,
   "id": "a686094f",
   "metadata": {},
   "outputs": [
    {
     "name": "stdout",
     "output_type": "stream",
     "text": [
      "PR - SR =\n",
      " [[-4 -4]\n",
      " [-4 -4]]\n",
      "------------------------\n",
      "np.subtract(PR,SR) =\n",
      " [[-4 -4]\n",
      " [-4 -4]]\n"
     ]
    }
   ],
   "source": [
    "print(f\"PR - SR =\\n {PR - SR}\") #Resta de arrays\n",
    "print(\"------------------------\")\n",
    "print(f\"np.subtract(PR,SR) =\\n {np.subtract(PR,SR)}\") #Resta de arrays usando la función subtract"
   ]
  },
  {
   "cell_type": "code",
   "execution_count": 42,
   "id": "32ddc632",
   "metadata": {},
   "outputs": [
    {
     "name": "stdout",
     "output_type": "stream",
     "text": [
      "PR * SR =\n",
      " [[ 5 12]\n",
      " [21 32]]\n",
      "------------------------\n",
      "np.multiply(PR,SR) =\n",
      " [[ 5 12]\n",
      " [21 32]]\n"
     ]
    }
   ],
   "source": [
    "print(f\"PR * SR =\\n {PR * SR}\") #Multiplicación de arrays\n",
    "print(\"------------------------\")\n",
    "print(f\"np.multiply(PR,SR) =\\n {np.multiply(PR,SR)}\") #Multiplicación de arrays usando la función multiply"
   ]
  },
  {
   "cell_type": "code",
   "execution_count": 43,
   "id": "1247c040",
   "metadata": {},
   "outputs": [
    {
     "name": "stdout",
     "output_type": "stream",
     "text": [
      "PR / SR =\n",
      " [[0.2        0.33333333]\n",
      " [0.42857143 0.5       ]]\n",
      "------------------------\n",
      "np.divide(PR,SR) =\n",
      " [[0.2        0.33333333]\n",
      " [0.42857143 0.5       ]]\n"
     ]
    }
   ],
   "source": [
    "print(f\"PR / SR =\\n {PR / SR}\") #División de arrays\n",
    "print(\"------------------------\")\n",
    "print(f\"np.divide(PR,SR) =\\n {np.divide(PR,SR)}\") #División de arrays usando la función divide"
   ]
  },
  {
   "cell_type": "code",
   "execution_count": 44,
   "id": "8e4bcc22",
   "metadata": {},
   "outputs": [
    {
     "name": "stdout",
     "output_type": "stream",
     "text": [
      "Tambien se pueden usar operadores como +, -, *, / directamente con los arrays.\n",
      "PR * 7 =\n",
      " [[ 7 14]\n",
      " [21 28]]\n"
     ]
    }
   ],
   "source": [
    "print(f\"Tambien se pueden usar operadores como +, -, *, / directamente con los arrays.\")\n",
    "print(f\"PR * 7 =\\n {PR * 7}\") #Multiplicación de un array por un escalar"
   ]
  },
  {
   "cell_type": "markdown",
   "id": "94b29844",
   "metadata": {},
   "source": [
    "### Operaciones matematicas sobre los elementos de un array"
   ]
  },
  {
   "cell_type": "code",
   "execution_count": null,
   "id": "59b1d202",
   "metadata": {},
   "outputs": [
    {
     "name": "stdout",
     "output_type": "stream",
     "text": [
      "PR - SR =\n",
      " [[-4 -4]\n",
      " [-4 -4]]\n",
      "------------------------\n",
      "np.subtract(PR,SR) =\n",
      " [[-4 -4]\n",
      " [-4 -4]]\n"
     ]
    }
   ],
   "source": []
  },
  {
   "cell_type": "markdown",
   "id": "8a461ae4",
   "metadata": {},
   "source": [
    "### Operaciones estadisticas con arrays"
   ]
  },
  {
   "cell_type": "code",
   "execution_count": null,
   "id": "42772635",
   "metadata": {},
   "outputs": [],
   "source": []
  },
  {
   "cell_type": "markdown",
   "id": "7612b39a",
   "metadata": {},
   "source": [
    "### Algebra lineal con Arrays"
   ]
  },
  {
   "cell_type": "code",
   "execution_count": null,
   "id": "44ea620b",
   "metadata": {},
   "outputs": [],
   "source": []
  }
 ],
 "metadata": {
  "kernelspec": {
   "display_name": "Python 3",
   "language": "python",
   "name": "python3"
  },
  "language_info": {
   "codemirror_mode": {
    "name": "ipython",
    "version": 3
   },
   "file_extension": ".py",
   "mimetype": "text/x-python",
   "name": "python",
   "nbconvert_exporter": "python",
   "pygments_lexer": "ipython3",
   "version": "3.10.0"
  }
 },
 "nbformat": 4,
 "nbformat_minor": 5
}
