{
 "cells": [
  {
   "cell_type": "markdown",
   "id": "4c059915",
   "metadata": {},
   "source": [
    "## La libreria Numpy\n"
   ]
  },
  {
   "cell_type": "code",
   "execution_count": 1,
   "id": "65f85b68",
   "metadata": {},
   "outputs": [],
   "source": [
    "import numpy as np"
   ]
  },
  {
   "cell_type": "markdown",
   "id": "2b480477",
   "metadata": {},
   "source": [
    "## Creacion de Arrays"
   ]
  },
  {
   "cell_type": "code",
   "execution_count": 2,
   "id": "abfb1c73",
   "metadata": {},
   "outputs": [],
   "source": [
    "A = np.array([[1,2], [4,3]])"
   ]
  },
  {
   "cell_type": "code",
   "execution_count": 3,
   "id": "fd7ebe7a",
   "metadata": {},
   "outputs": [
    {
     "name": "stdout",
     "output_type": "stream",
     "text": [
      "[[1 2]\n",
      " [4 3]]\n"
     ]
    }
   ],
   "source": [
    "print(A)"
   ]
  },
  {
   "cell_type": "code",
   "execution_count": 4,
   "id": "4100d11d",
   "metadata": {},
   "outputs": [
    {
     "name": "stdout",
     "output_type": "stream",
     "text": [
      "[[1. 1.]\n",
      " [1. 1.]\n",
      " [1. 1.]]\n"
     ]
    }
   ],
   "source": [
    "B = np.ones([3,2])\n",
    "print(B)"
   ]
  },
  {
   "cell_type": "code",
   "execution_count": 5,
   "id": "9b4fd51f",
   "metadata": {},
   "outputs": [
    {
     "name": "stdout",
     "output_type": "stream",
     "text": [
      "[[1. 0. 0. 0. 0.]\n",
      " [0. 1. 0. 0. 0.]\n",
      " [0. 0. 1. 0. 0.]\n",
      " [0. 0. 0. 1. 0.]\n",
      " [0. 0. 0. 0. 1.]]\n"
     ]
    }
   ],
   "source": [
    "C = np.identity(5)\n",
    "print(C)"
   ]
  },
  {
   "cell_type": "code",
   "execution_count": 6,
   "id": "8f088fda",
   "metadata": {},
   "outputs": [
    {
     "name": "stdout",
     "output_type": "stream",
     "text": [
      "[ 1.   1.5  2.   2.5  3.   3.5  4.   4.5  5.   5.5  6.   6.5  7.   7.5\n",
      "  8.   8.5  9.   9.5 10.  10.5]\n"
     ]
    }
   ],
   "source": [
    "G = np.arange(1,11,0.5)\n",
    "print(G)"
   ]
  },
  {
   "cell_type": "code",
   "execution_count": 7,
   "id": "fdfebd7e",
   "metadata": {},
   "outputs": [
    {
     "name": "stdout",
     "output_type": "stream",
     "text": [
      "[ 1.    3.25  5.5   7.75 10.  ]\n"
     ]
    }
   ],
   "source": [
    "H = np.linspace(1,10,5) #Crear arrays con puntos medios: Inicio | Final | Cantidad de puntos medios\n",
    "print(H)"
   ]
  },
  {
   "cell_type": "code",
   "execution_count": 8,
   "id": "89d87c9a",
   "metadata": {},
   "outputs": [
    {
     "name": "stdout",
     "output_type": "stream",
     "text": [
      "[[0.00310612 0.6038633 ]\n",
      " [0.48096182 0.76385542]\n",
      " [0.27133738 0.74614489]]\n"
     ]
    }
   ],
   "source": [
    "R = np.random.random([3,2]) #Crear arrays con valores aleatorios entre 0 y 1 de tamaño 3x2\n",
    "print(R)"
   ]
  },
  {
   "cell_type": "markdown",
   "id": "71979c14",
   "metadata": {},
   "source": [
    "## Caracteristicas de un Array"
   ]
  },
  {
   "cell_type": "code",
   "execution_count": 9,
   "id": "c4251a92",
   "metadata": {},
   "outputs": [
    {
     "data": {
      "text/plain": [
       "dtype('float64')"
      ]
     },
     "execution_count": 9,
     "metadata": {},
     "output_type": "execute_result"
    }
   ],
   "source": [
    "R.dtype #Tipo de dato del array\n"
   ]
  },
  {
   "cell_type": "code",
   "execution_count": 10,
   "id": "d9cfc52a",
   "metadata": {},
   "outputs": [
    {
     "data": {
      "text/plain": [
       "2"
      ]
     },
     "execution_count": 10,
     "metadata": {},
     "output_type": "execute_result"
    }
   ],
   "source": [
    "R.ndim #Número de dimensiones del array\n"
   ]
  },
  {
   "cell_type": "code",
   "execution_count": 11,
   "id": "c621cffa",
   "metadata": {},
   "outputs": [
    {
     "data": {
      "text/plain": [
       "(3, 2)"
      ]
     },
     "execution_count": 11,
     "metadata": {},
     "output_type": "execute_result"
    }
   ],
   "source": [
    "R.shape #Dimensiones del array (filas, columnas)\n"
   ]
  },
  {
   "cell_type": "code",
   "execution_count": 12,
   "id": "19754b2c",
   "metadata": {},
   "outputs": [
    {
     "data": {
      "text/plain": [
       "6"
      ]
     },
     "execution_count": 12,
     "metadata": {},
     "output_type": "execute_result"
    }
   ],
   "source": [
    "R.size #Número total de elementos del array"
   ]
  },
  {
   "cell_type": "markdown",
   "id": "1ace4478",
   "metadata": {},
   "source": [
    "### Obtener y modificar elementos de un array"
   ]
  },
  {
   "cell_type": "code",
   "execution_count": 13,
   "id": "83ee0b77",
   "metadata": {},
   "outputs": [
    {
     "name": "stdout",
     "output_type": "stream",
     "text": [
      "[[1 2 3]\n",
      " [4 5 6]\n",
      " [7 8 9]]\n"
     ]
    }
   ],
   "source": [
    "Ejemplo = np.array([[1,2,3], [4,5,6], [7,8,9]])\n",
    "print(Ejemplo)"
   ]
  },
  {
   "cell_type": "code",
   "execution_count": 14,
   "id": "903176af",
   "metadata": {},
   "outputs": [
    {
     "data": {
      "text/plain": [
       "np.int64(9)"
      ]
     },
     "execution_count": 14,
     "metadata": {},
     "output_type": "execute_result"
    }
   ],
   "source": [
    "Ejemplo[2,2] #Obtener el elemento de la fila 2, columna 2 (índices empiezan en 0)"
   ]
  },
  {
   "cell_type": "code",
   "execution_count": 15,
   "id": "19c93f1a",
   "metadata": {},
   "outputs": [
    {
     "name": "stdout",
     "output_type": "stream",
     "text": [
      "[[ 1  2  3]\n",
      " [ 4  5  6]\n",
      " [50  8  9]]\n"
     ]
    }
   ],
   "source": [
    "Ejemplo[2,0]=50 #Modificar el elemento de la fila 2, columna 0\n",
    "print(Ejemplo)"
   ]
  },
  {
   "cell_type": "code",
   "execution_count": 16,
   "id": "988bd1ef",
   "metadata": {},
   "outputs": [
    {
     "data": {
      "text/plain": [
       "array([[1, 2],\n",
       "       [4, 5]])"
      ]
     },
     "execution_count": 16,
     "metadata": {},
     "output_type": "execute_result"
    }
   ],
   "source": [
    "Ejemplo[:2,:2] #Obtener un subarray (filas 0 y 1, columnas 0 y 1)"
   ]
  },
  {
   "cell_type": "code",
   "execution_count": 17,
   "id": "2dd4d892",
   "metadata": {},
   "outputs": [
    {
     "data": {
      "text/plain": [
       "array([[2, 3],\n",
       "       [5, 6]])"
      ]
     },
     "execution_count": 17,
     "metadata": {},
     "output_type": "execute_result"
    }
   ],
   "source": [
    "Ejemplo[:2,1:3] #Obtener un subarray (filas 0 y 1, columnas 1 y 2)"
   ]
  },
  {
   "cell_type": "markdown",
   "id": "aaf5f0af",
   "metadata": {},
   "source": [
    "### Filtrando elementos de un Array"
   ]
  },
  {
   "cell_type": "code",
   "execution_count": null,
   "id": "dcefc340",
   "metadata": {},
   "outputs": [
    {
     "name": "stdout",
     "output_type": "stream",
     "text": [
      "[[ 1  7  3  4]\n",
      " [ 2 12  4  1]\n",
      " [ 2  9  7  8]]\n"
     ]
    },
    {
     "data": {
      "text/plain": [
       "array([12,  8])"
      ]
     },
     "execution_count": 19,
     "metadata": {},
     "output_type": "execute_result"
    }
   ],
   "source": [
    "AR=np.array([[1,7,3,4],[2,12,4,1],[2,9,7,8]])\n",
    "print(AR)\n",
    "AR[(AR%2==0) & (AR>4)] #Obtener los elementos pares mayores que 4\n"
   ]
  },
  {
   "cell_type": "code",
   "execution_count": null,
   "id": "d5b2e707",
   "metadata": {},
   "outputs": [
    {
     "data": {
      "text/plain": [
       "array([ 3,  4,  2, 12,  4,  2,  9,  8])"
      ]
     },
     "execution_count": 20,
     "metadata": {},
     "output_type": "execute_result"
    }
   ],
   "source": [
    "AR[(AR%2==0) | (AR%3==0)] #Obtener los elementos pares o múltiplos de 3"
   ]
  },
  {
   "cell_type": "code",
   "execution_count": null,
   "id": "d0953f11",
   "metadata": {},
   "outputs": [
    {
     "name": "stdout",
     "output_type": "stream",
     "text": [
      "[[  1   2   3   4]\n",
      " [  3   6   9  12]\n",
      " [  9  36  81 144]]\n",
      "El numero de elementos impares es:  6\n"
     ]
    }
   ],
   "source": [
    "F1 = [1,2,3,4]\n",
    "M = np.array([F1,[3*k for k in F1], [(3*k)**2 for k in F1]]) #Crear un array a partir de listas\n",
    "print(M)\n",
    "print('El numero de elementos impares es: ',M[M%2!=0].size) # Contar los elementos impares del array"
   ]
  },
  {
   "cell_type": "markdown",
   "id": "d65a1d8c",
   "metadata": {},
   "source": [
    "### Dimensiones da arrays"
   ]
  },
  {
   "cell_type": "code",
   "execution_count": null,
   "id": "e52acdee",
   "metadata": {},
   "outputs": [
    {
     "name": "stdout",
     "output_type": "stream",
     "text": [
      "[ 7  2  9 10]\n"
     ]
    }
   ],
   "source": [
    "AG = np.array([7,2,9,10]) #Array de una dimensión\n",
    "print(AG)"
   ]
  },
  {
   "cell_type": "code",
   "execution_count": 23,
   "id": "305276fe",
   "metadata": {},
   "outputs": [
    {
     "name": "stdout",
     "output_type": "stream",
     "text": [
      "[[5 2 5 6]\n",
      " [7 8 3 4]]\n"
     ]
    }
   ],
   "source": [
    "BG = np.array([[5,2,5,6],[7,8,3,4]]) #Array de dos dimensiones\n",
    "print(BG)"
   ]
  },
  {
   "cell_type": "markdown",
   "id": "f103963d",
   "metadata": {},
   "source": [
    "### Eliminar y añadir elementos"
   ]
  },
  {
   "cell_type": "code",
   "execution_count": 30,
   "id": "9673b9fe",
   "metadata": {},
   "outputs": [
    {
     "name": "stdout",
     "output_type": "stream",
     "text": [
      "AG(original): [ 7  9 10]\n",
      "AG(modificado): [ 7 10]\n"
     ]
    }
   ],
   "source": [
    "print(f\"AG(original): {AG}\")\n",
    "AG = np.delete(AG,1) #Eliminar el elemento en la posición 1 del array AG\n",
    "print(f\"AG(modificado): {AG}\")"
   ]
  }
 ],
 "metadata": {
  "kernelspec": {
   "display_name": "Python 3",
   "language": "python",
   "name": "python3"
  },
  "language_info": {
   "codemirror_mode": {
    "name": "ipython",
    "version": 3
   },
   "file_extension": ".py",
   "mimetype": "text/x-python",
   "name": "python",
   "nbconvert_exporter": "python",
   "pygments_lexer": "ipython3",
   "version": "3.10.0"
  }
 },
 "nbformat": 4,
 "nbformat_minor": 5
}
