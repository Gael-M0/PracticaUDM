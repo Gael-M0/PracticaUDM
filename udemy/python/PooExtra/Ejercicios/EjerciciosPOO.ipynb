{
 "cells": [
  {
   "cell_type": "code",
   "execution_count": 1,
   "id": "bc390052",
   "metadata": {},
   "outputs": [
    {
     "name": "stdout",
     "output_type": "stream",
     "text": [
      "El libro Locuras del emperados fue escrito por Guillermo del toro\n"
     ]
    }
   ],
   "source": [
    "'''\n",
    "Ejercicio No. 1.\n",
    "\n",
    "Crea una clase llamada Libro con propiedades titulo y \n",
    "autor. Añade un método que imprima \"El libro [titulo] \n",
    "fue escrito por [autor]\".\n",
    "'''\n",
    "class Libro:\n",
    "    def __init__(self,titulo,autor):\n",
    "        self.titulo = titulo\n",
    "        self.autor = autor\n",
    "    \n",
    "    def mostrar_datos(self):\n",
    "        return f\"El libro {self.titulo} fue escrito por {self.autor}\"\n",
    "\n",
    "prueba0 = Libro(\"Locuras del emperados\",\"Guillermo del toro\")\n",
    "print(prueba0.mostrar_datos())"
   ]
  },
  {
   "cell_type": "code",
   "execution_count": 4,
   "id": "9d87d1ac",
   "metadata": {},
   "outputs": [
    {
     "name": "stdout",
     "output_type": "stream",
     "text": [
      "El estudiante Andrew con matricula 33398\n"
     ]
    }
   ],
   "source": [
    "'''\n",
    "Ejercicio No. 2.\n",
    "\n",
    "Crea una clase Estudiante que herede de la clase Persona.\n",
    " Añade una propiedad matricula y un método que imprima \n",
    " \"El estudiante [nombre] con matrícula [matricula]\".\n",
    "\n",
    "\n",
    "'''\n",
    "class Persona:\n",
    "    def __init__(self, nombre):\n",
    "        self.nombre = nombre\n",
    "    \n",
    "class Estudiante(Persona):\n",
    "    def __init__(self,nombre,matricula):\n",
    "        super().__init__(nombre) #Llamando al contructor de la clase Persona\n",
    "        self.matricula = matricula\n",
    "\n",
    "    def datos(self):\n",
    "        return f\"El estudiante {self.nombre} con matricula {self.matricula}\"\n",
    "    \n",
    "andrew = Estudiante(\"Andrew\",33398)\n",
    "print(andrew.datos())"
   ]
  },
  {
   "cell_type": "code",
   "execution_count": null,
   "id": "6fde2636",
   "metadata": {},
   "outputs": [
    {
     "name": "stdout",
     "output_type": "stream",
     "text": [
      "El animal Conejo tiene una edad de 5 años\n",
      "El animal Zorro tiene una edad de 7 años\n"
     ]
    }
   ],
   "source": [
    "'''\n",
    "Ejercicio No. 3.\n",
    "\n",
    "Crea una clase llamada Animal con variables de instancia\n",
    " nombre y edad. Instancia dos objetos y muestra sus\n",
    "   atributos.\n",
    "\n",
    "'''\n",
    "class Animal:\n",
    "    def __init__(self,nombre,edad):\n",
    "        self.nombre = nombre\n",
    "        self.edad = edad\n",
    "    \n",
    "    def __str__(self): #se puede usar str para mostrar los datos sin uso de la extencion, pero en caso de mas funciones es mas recomendado usar un nombre especifico\n",
    "        return f\"El animal {self.nombre} tiene una edad de {self.edad} años\"\n",
    "\n",
    "dato1 = Animal(\"Conejo\",5)\n",
    "dato2 = Animal(\"Zorro\", 7)\n",
    "\n",
    "print(dato1)\n",
    "print(dato2)\n",
    "\n"
   ]
  },
  {
   "cell_type": "code",
   "execution_count": 9,
   "id": "a5022b61",
   "metadata": {},
   "outputs": [
    {
     "name": "stdout",
     "output_type": "stream",
     "text": [
      "12\n",
      "30\n"
     ]
    }
   ],
   "source": [
    "'''\n",
    "Ejercicio No. 4.\n",
    "\n",
    "Crea una clase llamada Banco con una variable de clase \n",
    "tasa_interes y una variable de instancia balance. \n",
    "Muestra cómo cambiar la variable de clase y cómo afecta \n",
    "a las instancias.\n",
    "\n",
    "\n",
    "'''\n",
    "class Banco:\n",
    "    tasa_interes = 12\n",
    "\n",
    "    def __init__(self,balance):\n",
    "        self.balance = balance\n",
    "\n",
    "dato1 = Banco(20)\n",
    "print(dato1.tasa_interes)\n",
    "\n",
    "Banco.tasa_interes = 30\n",
    "\n",
    "print(dato1.tasa_interes)"
   ]
  },
  {
   "cell_type": "code",
   "execution_count": 10,
   "id": "ed5b0534",
   "metadata": {},
   "outputs": [
    {
     "name": "stdout",
     "output_type": "stream",
     "text": [
      "{'__module__': '__main__', '__init__': <function coche.__init__ at 0x000001A30A9C76D0>, '__dict__': <attribute '__dict__' of 'coche' objects>, '__weakref__': <attribute '__weakref__' of 'coche' objects>, '__doc__': None}\n"
     ]
    }
   ],
   "source": [
    "'''\n",
    "Ejercicio No. 5.\n",
    "\n",
    "Crea una clase Coche con atributos de instancia marca\n",
    " y modelo. Crea dos instancias de la clase y usa\n",
    "   __dict__ para mostrar los atributos de cada objeto.\n",
    "\n",
    "'''\n",
    "class coche:\n",
    "    def __init__(self,marca,modelo):\n",
    "        self.marca = marca\n",
    "        self.modelo = modelo\n",
    "\n",
    "print(coche.__dict__)\n"
   ]
  },
  {
   "cell_type": "code",
   "execution_count": 18,
   "id": "44fffcae",
   "metadata": {},
   "outputs": [
    {
     "name": "stdout",
     "output_type": "stream",
     "text": [
      "Atributos de la instancia Libros1: {'titulo': 'Cien vidas', 'fecha': 2006}\n",
      "Atributos y metodos de la clase Libros{'__module__': '__main__', 'categoria': 'Unica', '__init__': <function Libro.__init__ at 0x000001A30ADC92D0>, 'detalles': <function Libro.detalles at 0x000001A30ADCAE60>, '__dict__': <attribute '__dict__' of 'Libro' objects>, '__weakref__': <attribute '__weakref__' of 'Libro' objects>, '__doc__': None}\n"
     ]
    }
   ],
   "source": [
    "'''\n",
    "Ejercicio No. 6.\n",
    "\n",
    "Crea una clase Libro con una variable de clase categoria\n",
    " y un método detalles. Usa __dict__ para mostrar los\n",
    "   atributos y métodos de la clase.\n",
    "\n",
    "\n",
    "'''\n",
    "class Libro:\n",
    "    categoria = \"Unica\"\n",
    "\n",
    "    def __init__(self):\n",
    "        pass\n",
    "    def detalles(self,titulo,fecha):\n",
    "        self.titulo = titulo\n",
    "        self.fecha = fecha\n",
    "\n",
    "Libro1 = Libro()\n",
    "Libro1.detalles(\"Cien vidas\",2006)\n",
    "\n",
    "print(f\"Atributos de la instancia Libros1: {Libro1.__dict__}\")\n",
    "print(f\"Atributos y metodos de la clase Libros{Libro.__dict__}\")"
   ]
  },
  {
   "cell_type": "code",
   "execution_count": 19,
   "id": "dde75276",
   "metadata": {},
   "outputs": [
    {
     "name": "stdout",
     "output_type": "stream",
     "text": [
      "Los  atributos de la clase Estudiante: {'__module__': '__main__', 'Universidad': 'UCQ', '__init__': <function Estudiante.__init__ at 0x000001A30ADC9510>, 'datos': <function Estudiante.datos at 0x000001A30ADC9630>, '__dict__': <attribute '__dict__' of 'Estudiante' objects>, '__weakref__': <attribute '__weakref__' of 'Estudiante' objects>, '__doc__': None}\n",
      "Los atributos de una instancia{'nombre': 'Alex', 'matricula': 3356}\n"
     ]
    }
   ],
   "source": [
    "'''\n",
    "Ejercicio No. 7.\n",
    "\n",
    "Crea una clase Estudiante con variables de clase \n",
    "universidad y variables de instancia nombre y matricula. \n",
    "Usa __dict__ para mostrar la diferencia entre los \n",
    "atributos de la clase y los de una instancia.\n",
    "\n",
    "'''\n",
    "class Estudiante:\n",
    "    Universidad = \"UCQ\"\n",
    "\n",
    "    def __init__(self):\n",
    "        pass\n",
    "    def datos(self,nombre,matricula):\n",
    "        self.nombre = nombre\n",
    "        self.matricula = matricula\n",
    "\n",
    "dt = Estudiante()\n",
    "dt.datos(\"Alex\",3356)\n",
    "print(f\"Los  atributos de la clase Estudiante: {Estudiante.__dict__}\")\n",
    "print(f\"Los atributos de una instancia{dt.__dict__}\")"
   ]
  },
  {
   "cell_type": "code",
   "execution_count": null,
   "id": "c03e38cb",
   "metadata": {},
   "outputs": [],
   "source": [
    "'''\n",
    "Ejercicio No. 8.\n",
    "\n",
    "Crea una clase CuentaBancaria con atributos privados\n",
    " __saldo y __numero_cuenta. Implementa métodos para \n",
    " depositar y retirar dinero de la cuenta, asegurando\n",
    "   que el saldo no se pueda modificar directamente.\n",
    "\n",
    "'''\n",
    "\n",
    "class CuentaBancaria:\n",
    "    def __init__(self, numero_cuenta, saldo_inicial):\n",
    "        self.__numero_cuenta = numero_cuenta\n",
    "        self.__saldo = saldo_inicial\n",
    "    \n",
    "    def deposito(self, cantidad):\n",
    "        self.__saldo += cantidad\n",
    "        \n",
    "    \n",
    "    def retirar(self,cantidad):\n",
    "        if cantidad <= self.__saldo:\n",
    "            self.__saldo -= cantidad\n",
    "        else:\n",
    "            \"Saldo insuficiente\"\n",
    "\n"
   ]
  },
  {
   "cell_type": "code",
   "execution_count": 5,
   "id": "934b23d8",
   "metadata": {},
   "outputs": [
    {
     "name": "stdout",
     "output_type": "stream",
     "text": [
      "True\n",
      "True\n",
      "True\n"
     ]
    }
   ],
   "source": [
    "'''\n",
    "Ejercicio No. 9.\n",
    "\n",
    "Crea una clase Libro con atributos titulo y autor. \n",
    "Crea una instancia de la clase y verifica si los \n",
    "atributos titulo, autor y editorial existen en la \n",
    "instancia.\n",
    "'''\n",
    "\n",
    "class Libro:\n",
    "    def __init__(self,titulo,autor,editorial):\n",
    "        self.titulo = titulo\n",
    "        self.autor = autor\n",
    "        self.editorial = editorial\n",
    "    \n",
    "libro4 = Libro(\"245\", \"AlanMJ\",\"BH\")\n",
    "\n",
    "print(hasattr(libro4,'titulo'))\n",
    "print(hasattr(libro4,'autor'))\n",
    "print(hasattr(libro4,'editorial'))\n"
   ]
  },
  {
   "cell_type": "code",
   "execution_count": 1,
   "id": "386fedfc",
   "metadata": {},
   "outputs": [
    {
     "name": "stdout",
     "output_type": "stream",
     "text": [
      "Libro\n"
     ]
    }
   ],
   "source": [
    "'''\n",
    "Ejercicio No. 10.\n",
    "\n",
    "Crea una clase Libro y muestra su nombre utilizando \n",
    "la propiedad __name__.\n",
    "\n",
    "\n",
    "'''\n",
    "class Libro:\n",
    "    def __init__(self, nombre):\n",
    "        self.nombre = nombre\n",
    "    \n",
    "print(Libro.__name__)\n"
   ]
  },
  {
   "cell_type": "code",
   "execution_count": null,
   "id": "c27add64",
   "metadata": {},
   "outputs": [
    {
     "name": "stdout",
     "output_type": "stream",
     "text": [
      "Computadora\n"
     ]
    }
   ],
   "source": [
    "'''\n",
    "Ejercicio No. 11.\n",
    "\n",
    "Crea una clase Computadora en un módulo separado y \n",
    "muestra el nombre del módulo utilizando la propiedad \n",
    "__module__.\n",
    "\n",
    "'''\n",
    "#Archivo computadora creado para cumplir con lo solicitado\n",
    "from Computadora import computadora\n",
    "\n",
    "\n",
    "print(computadora.__module__)"
   ]
  },
  {
   "cell_type": "code",
   "execution_count": 4,
   "id": "5c91d666",
   "metadata": {},
   "outputs": [
    {
     "name": "stdout",
     "output_type": "stream",
     "text": [
      "(<class '__main__.Persona'>,)\n"
     ]
    }
   ],
   "source": [
    "'''\n",
    "Ejercicio No. 12.\n",
    "\n",
    "Crea una clase Empleado que herede de una clase Persona \n",
    "y muestra las clases base de Empleado utilizando la \n",
    "propiedad __bases__.\n",
    "'''\n",
    "\n",
    "class Persona:\n",
    "    def __init__(self,nombre,edad):\n",
    "        self.nombre = nombre\n",
    "        self.edad = edad\n",
    "\n",
    "class Empleado(Persona):\n",
    "    pass\n",
    "\n",
    "print(Empleado.__bases__)"
   ]
  }
 ],
 "metadata": {
  "kernelspec": {
   "display_name": "Python 3",
   "language": "python",
   "name": "python3"
  },
  "language_info": {
   "codemirror_mode": {
    "name": "ipython",
    "version": 3
   },
   "file_extension": ".py",
   "mimetype": "text/x-python",
   "name": "python",
   "nbconvert_exporter": "python",
   "pygments_lexer": "ipython3",
   "version": "3.10.0"
  }
 },
 "nbformat": 4,
 "nbformat_minor": 5
}
