{
 "cells": [
  {
   "cell_type": "code",
   "execution_count": 24,
   "id": "d8d44fd1",
   "metadata": {},
   "outputs": [
    {
     "name": "stdout",
     "output_type": "stream",
     "text": [
      "El resultado de dividir 10.0, 20.0 y 30.0 es: 0.016666666666666666\n",
      "Fin del programa.\n"
     ]
    }
   ],
   "source": [
    "'''\n",
    "Ejercicio No. 1.\n",
    "\n",
    "Crea un script que pida tres números al usuario. \n",
    "Luego, debes dividir todos los números usando un \n",
    "manejo de error ZeroDivisionError  con try y except .\n",
    "'''\n",
    "try:\n",
    "    num1 = float(input(\"Ingrese el primer número: \"))\n",
    "    num2 = float(input(\"Ingrese el segundo número: \"))\n",
    "    num3 = float(input(\"Ingrese el tercer número: \"))\n",
    "\n",
    "    if num1 == 0 or num2 == 0 or num3 == 0:\n",
    "        raise ZeroDivisionError(\"Error: División por cero no permitida.\")\n",
    "\n",
    "    resultado = num1 / num2 / num3\n",
    "    print(f\"El resultado de dividir {num1}, {num2} y {num3} es: {resultado}\")\n",
    "finally:\n",
    "    print(\"Fin del programa.\")"
   ]
  },
  {
   "cell_type": "code",
   "execution_count": 27,
   "id": "e97cb01a",
   "metadata": {},
   "outputs": [
    {
     "name": "stdout",
     "output_type": "stream",
     "text": [
      "Error: No se pudo convertir a número.\n"
     ]
    }
   ],
   "source": [
    "'''\n",
    "Ejercicio No. 2.\n",
    "\n",
    "Crea un script que convierta un valor de entrada a un número \n",
    "y use el bloque else para imprimir el resultado si no hay excepciones.\n",
    "'''\n",
    "var3 = input(\"Ingresa un valor para convertir a número: \")\n",
    "def convertir_a_numero(valor):\n",
    "    try:\n",
    "        resultado = int(valor)\n",
    "    except ValueError:\n",
    "        return \"Error: No se pudo convertir a número.\"\n",
    "    else:\n",
    "        return f\"El resultado es: {resultado}\"\n",
    "\n",
    "\n",
    "print(convertir_a_numero(var3))\n"
   ]
  },
  {
   "cell_type": "code",
   "execution_count": 28,
   "id": "374cb289",
   "metadata": {},
   "outputs": [
    {
     "ename": "ValueError",
     "evalue": "Error: El número no es positivo.",
     "output_type": "error",
     "traceback": [
      "\u001b[1;31m---------------------------------------------------------------------------\u001b[0m",
      "\u001b[1;31mValueError\u001b[0m                                Traceback (most recent call last)",
      "Cell \u001b[1;32mIn[28], line 13\u001b[0m\n\u001b[0;32m     10\u001b[0m     \u001b[38;5;28;01mreturn\u001b[39;00m \u001b[38;5;124mf\u001b[39m\u001b[38;5;124m\"\u001b[39m\u001b[38;5;124mEl número \u001b[39m\u001b[38;5;132;01m{\u001b[39;00mnum\u001b[38;5;132;01m}\u001b[39;00m\u001b[38;5;124m es positivo.\u001b[39m\u001b[38;5;124m\"\u001b[39m\n\u001b[0;32m     12\u001b[0m num \u001b[38;5;241m=\u001b[39m \u001b[38;5;28mfloat\u001b[39m(\u001b[38;5;28minput\u001b[39m(\u001b[38;5;124m\"\u001b[39m\u001b[38;5;124mIngrese el primer número: \u001b[39m\u001b[38;5;124m\"\u001b[39m))\n\u001b[1;32m---> 13\u001b[0m \u001b[38;5;28mprint\u001b[39m(\u001b[43mverificar_numero_positivo\u001b[49m\u001b[43m(\u001b[49m\u001b[43mnum\u001b[49m\u001b[43m)\u001b[49m)\n",
      "Cell \u001b[1;32mIn[28], line 9\u001b[0m, in \u001b[0;36mverificar_numero_positivo\u001b[1;34m(num)\u001b[0m\n\u001b[0;32m      7\u001b[0m \u001b[38;5;28;01mdef\u001b[39;00m\u001b[38;5;250m \u001b[39m\u001b[38;5;21mverificar_numero_positivo\u001b[39m(num):\n\u001b[0;32m      8\u001b[0m     \u001b[38;5;28;01mif\u001b[39;00m num \u001b[38;5;241m<\u001b[39m \u001b[38;5;241m0\u001b[39m:\n\u001b[1;32m----> 9\u001b[0m         \u001b[38;5;28;01mraise\u001b[39;00m \u001b[38;5;167;01mValueError\u001b[39;00m(\u001b[38;5;124m\"\u001b[39m\u001b[38;5;124mError: El número no es positivo.\u001b[39m\u001b[38;5;124m\"\u001b[39m)\n\u001b[0;32m     10\u001b[0m     \u001b[38;5;28;01mreturn\u001b[39;00m \u001b[38;5;124mf\u001b[39m\u001b[38;5;124m\"\u001b[39m\u001b[38;5;124mEl número \u001b[39m\u001b[38;5;132;01m{\u001b[39;00mnum\u001b[38;5;132;01m}\u001b[39;00m\u001b[38;5;124m es positivo.\u001b[39m\u001b[38;5;124m\"\u001b[39m\n",
      "\u001b[1;31mValueError\u001b[0m: Error: El número no es positivo."
     ]
    }
   ],
   "source": [
    "'''\n",
    "Ejercicio No. 3.\n",
    "\n",
    "Crea una función que acepte un número positivo. \n",
    "Si el número es negativo, genera una excepción con raise.\n",
    "'''\n",
    "def verificar_numero_positivo(num):\n",
    "    if num < 0:\n",
    "        raise ValueError(\"Error: El número no es positivo.\")\n",
    "    return f\"El número {num} es positivo.\"\n",
    "\n",
    "num = float(input(\"Ingrese el primer número: \"))\n",
    "print(verificar_numero_positivo(num))\n"
   ]
  },
  {
   "cell_type": "code",
   "execution_count": 32,
   "id": "3a7f9250",
   "metadata": {},
   "outputs": [
    {
     "ename": "NumeroParError",
     "evalue": "El valor es par",
     "output_type": "error",
     "traceback": [
      "\u001b[1;31m---------------------------------------------------------------------------\u001b[0m",
      "\u001b[1;31mNumeroParError\u001b[0m                            Traceback (most recent call last)",
      "Cell \u001b[1;32mIn[32], line 13\u001b[0m\n\u001b[0;32m     11\u001b[0m nim \u001b[38;5;241m=\u001b[39m \u001b[38;5;28mint\u001b[39m(\u001b[38;5;28minput\u001b[39m(\u001b[38;5;124m\"\u001b[39m\u001b[38;5;124mIngrese un valor: \u001b[39m\u001b[38;5;124m\"\u001b[39m))\n\u001b[0;32m     12\u001b[0m \u001b[38;5;28;01mif\u001b[39;00m nim \u001b[38;5;241m%\u001b[39m \u001b[38;5;241m2\u001b[39m \u001b[38;5;241m==\u001b[39m \u001b[38;5;241m0\u001b[39m:\n\u001b[1;32m---> 13\u001b[0m     \u001b[38;5;28;01mraise\u001b[39;00m NumeroParError(\u001b[38;5;124m\"\u001b[39m\u001b[38;5;124mEl valor es par\u001b[39m\u001b[38;5;124m\"\u001b[39m)\n\u001b[0;32m     14\u001b[0m \u001b[38;5;28;01melse\u001b[39;00m:\n\u001b[0;32m     15\u001b[0m     \u001b[38;5;28mprint\u001b[39m(\u001b[38;5;124mf\u001b[39m\u001b[38;5;124m\"\u001b[39m\u001b[38;5;124mEl valor \u001b[39m\u001b[38;5;132;01m{\u001b[39;00mnim\u001b[38;5;132;01m}\u001b[39;00m\u001b[38;5;124m es impar\u001b[39m\u001b[38;5;124m\"\u001b[39m)\n",
      "\u001b[1;31mNumeroParError\u001b[0m: El valor es par"
     ]
    }
   ],
   "source": [
    "'''\n",
    "Ejercicio No. 4.\n",
    "\n",
    "Define una excepción personalizada llamada NumeroParError. \n",
    "Luego, crea una función que acepte solo números impares y \n",
    "use raise para generar una excepción si el número es par.\n",
    "'''\n",
    "class NumeroParError(Exception):\n",
    "    pass\n",
    "\n",
    "nim = int(input(\"Ingrese un valor: \"))\n",
    "if nim % 2 == 0:\n",
    "    raise NumeroParError(\"El valor es par\")\n",
    "else:\n",
    "    print(f\"El valor {nim} es impar\")"
   ]
  },
  {
   "cell_type": "code",
   "execution_count": 17,
   "id": "52e57a5d",
   "metadata": {},
   "outputs": [
    {
     "ename": "NumeroCien",
     "evalue": "El valor es 100",
     "output_type": "error",
     "traceback": [
      "\u001b[1;31m---------------------------------------------------------------------------\u001b[0m",
      "\u001b[1;31mNumeroCien\u001b[0m                                Traceback (most recent call last)",
      "Cell \u001b[1;32mIn[17], line 16\u001b[0m\n\u001b[0;32m     14\u001b[0m nim2 \u001b[38;5;241m=\u001b[39m nim1 \u001b[38;5;241m*\u001b[39m \u001b[38;5;241m2\u001b[39m\n\u001b[0;32m     15\u001b[0m \u001b[38;5;28;01mif\u001b[39;00m nim2 \u001b[38;5;241m==\u001b[39m \u001b[38;5;241m100\u001b[39m:\n\u001b[1;32m---> 16\u001b[0m     \u001b[38;5;28;01mraise\u001b[39;00m NumeroCien(\u001b[38;5;124m\"\u001b[39m\u001b[38;5;124mEl valor es 100\u001b[39m\u001b[38;5;124m\"\u001b[39m)\n\u001b[0;32m     17\u001b[0m \u001b[38;5;28;01melse\u001b[39;00m:\n\u001b[0;32m     18\u001b[0m     \u001b[38;5;28mprint\u001b[39m(\u001b[38;5;124mf\u001b[39m\u001b[38;5;124m\"\u001b[39m\u001b[38;5;124mEl valor \u001b[39m\u001b[38;5;132;01m{\u001b[39;00mnim1\u001b[38;5;132;01m}\u001b[39;00m\u001b[38;5;124m multiplicado por 2 es \u001b[39m\u001b[38;5;132;01m{\u001b[39;00mnim2\u001b[38;5;132;01m}\u001b[39;00m\u001b[38;5;124m \u001b[39m\u001b[38;5;124m\"\u001b[39m) \n",
      "\u001b[1;31mNumeroCien\u001b[0m: El valor es 100"
     ]
    }
   ],
   "source": [
    "'''\n",
    "Ejercicio No. 5.\n",
    "\n",
    "Crea una función que acepte un número. \n",
    "Si el número es 100, genera una excepción con raise. \n",
    "De lo contrario, retorna el doble del número.\n",
    "'''\n",
    "class NumeroCien(Exception):\n",
    "    def __init__(self, mensaje):\n",
    "        self.mensaje = mensaje\n",
    "        super().__init__(self.mensaje)\n",
    "\n",
    "nim1 = int(input(\"Ingrese un valor para dar el doble\"))\n",
    "nim2 = nim1 * 2\n",
    "if nim2 == 100:\n",
    "    raise NumeroCien(\"El valor es 100\")\n",
    "else:\n",
    "    print(f\"El valor {nim1} multiplicado por 2 es {nim2} \") "
   ]
  }
 ],
 "metadata": {
  "kernelspec": {
   "display_name": "Python 3",
   "language": "python",
   "name": "python3"
  },
  "language_info": {
   "codemirror_mode": {
    "name": "ipython",
    "version": 3
   },
   "file_extension": ".py",
   "mimetype": "text/x-python",
   "name": "python",
   "nbconvert_exporter": "python",
   "pygments_lexer": "ipython3",
   "version": "3.10.0"
  }
 },
 "nbformat": 4,
 "nbformat_minor": 5
}
