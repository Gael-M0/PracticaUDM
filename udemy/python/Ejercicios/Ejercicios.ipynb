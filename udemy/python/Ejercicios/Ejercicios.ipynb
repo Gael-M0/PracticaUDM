{
 "cells": [
  {
   "cell_type": "code",
   "execution_count": 2,
   "id": "3783e0eb",
   "metadata": {},
   "outputs": [
    {
     "name": "stdout",
     "output_type": "stream",
     "text": [
      "Número aleatorio generado: 11\n"
     ]
    }
   ],
   "source": [
    "'''\n",
    "Ejercicio No.1.\n",
    "Pide al usuario que ingrese dos números enteros. Luego, importa el módulo random \n",
    "y usa la función randint para generar un número aleatorio entre los dos números \n",
    "que el usuario ingresó. Por ejemplo: Si el usuario coloca el número 10 y el \n",
    "número 100, entonces, el programa debe generar un número aleatorio entre ambos.\n",
    "'''\n",
    "import random\n",
    "user = input(\"Ingrese dos números enteros separados por un espacio: \")\n",
    "num1, num2 = map(int, user.split())\n",
    "random_number = random.randint(num1, num2)\n",
    "print(\"Número aleatorio generado:\", random_number)\n"
   ]
  }
 ],
 "metadata": {
  "kernelspec": {
   "display_name": "Python 3",
   "language": "python",
   "name": "python3"
  },
  "language_info": {
   "codemirror_mode": {
    "name": "ipython",
    "version": 3
   },
   "file_extension": ".py",
   "mimetype": "text/x-python",
   "name": "python",
   "nbconvert_exporter": "python",
   "pygments_lexer": "ipython3",
   "version": "3.10.0"
  }
 },
 "nbformat": 4,
 "nbformat_minor": 5
}
