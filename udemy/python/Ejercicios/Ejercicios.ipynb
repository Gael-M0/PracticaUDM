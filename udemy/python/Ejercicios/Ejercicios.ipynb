{
 "cells": [
  {
   "cell_type": "code",
   "execution_count": 2,
   "id": "3783e0eb",
   "metadata": {},
   "outputs": [
    {
     "name": "stdout",
     "output_type": "stream",
     "text": [
      "Número aleatorio generado: 11\n"
     ]
    }
   ],
   "source": [
    "'''\n",
    "Ejercicio No.1.\n",
    "Pide al usuario que ingrese dos números enteros. Luego, importa el módulo random \n",
    "y usa la función randint para generar un número aleatorio entre los dos números \n",
    "que el usuario ingresó. Por ejemplo: Si el usuario coloca el número 10 y el \n",
    "número 100, entonces, el programa debe generar un número aleatorio entre ambos.\n",
    "'''\n",
    "import random\n",
    "user = input(\"Ingrese dos números enteros separados por un espacio: \")\n",
    "num1, num2 = map(int, user.split())\n",
    "random_number = random.randint(num1, num2)\n",
    "print(\"Número aleatorio generado:\", random_number)\n"
   ]
  },
  {
   "cell_type": "code",
   "execution_count": 1,
   "id": "fb0e66b8",
   "metadata": {},
   "outputs": [
    {
     "name": "stdout",
     "output_type": "stream",
     "text": [
      "La raíz cuadrada de 10 es 3.1622776601683795\n"
     ]
    }
   ],
   "source": [
    "'''\n",
    "Ejercicio 2:\n",
    "Pide un número entero al usuario. Después, importa solo \n",
    "la función sqrt del módulo math y úsala para calcular la raíz \n",
    "cuadrada de dicho número ingresado.\n",
    "\n",
    "'''\n",
    "from math import sqrt\n",
    "vuser = input(\"Ingrese un numero entero: \")\n",
    "resultado = sqrt(int(vuser))\n",
    "print(\"La raíz cuadrada de\", vuser, \"es\", resultado)"
   ]
  },
  {
   "cell_type": "code",
   "execution_count": 2,
   "id": "cb2632c0",
   "metadata": {},
   "outputs": [
    {
     "name": "stdout",
     "output_type": "stream",
     "text": [
      "Contenido del directorio actual: ['Ejercicios.ipynb']\n"
     ]
    }
   ],
   "source": [
    "'''\n",
    "Ejercicio 3:\n",
    "Importa el módulo os usando un alias y usa el método listdir \n",
    "para listar el contenido del directorio actual y también del \n",
    "directorio que le antecede al actual.\n",
    "'''\n",
    "import os as sistema_operativo\n",
    "print(\"Contenido del directorio actual:\", sistema_operativo.listdir('.'))"
   ]
  },
  {
   "cell_type": "code",
   "execution_count": null,
   "id": "94f19c25",
   "metadata": {},
   "outputs": [
    {
     "name": "stdout",
     "output_type": "stream",
     "text": [
      "El valor de pi es: 3.141592653589793\n",
      "El valor de e es: 2.718281828459045\n",
      "El valor de tau es:  6.283185307179586\n"
     ]
    }
   ],
   "source": [
    "'''\n",
    "Ejercicio 4:\n",
    "Usa la importación global para importar todos los elementos \n",
    "del módulo math y calcula el valor de pi, e, tau.\n",
    "'''\n",
    "import math as m\n",
    "\n",
    "print(\"El valor de pi es:\", m.pi)\n",
    "print(\"El valor de e es:\", m.e)\n",
    "print(\"El valor de tau es: \",m.tau )"
   ]
  },
  {
   "cell_type": "code",
   "execution_count": null,
   "id": "ab621420",
   "metadata": {},
   "outputs": [
    {
     "name": "stdout",
     "output_type": "stream",
     "text": [
      "La suma de 5 + 3 es: 8\n"
     ]
    }
   ],
   "source": [
    "'''\n",
    "Ejercicio No. 5.\n",
    "\n",
    "Crea un paquete llamado math_operations con un subpaquete\n",
    " arithmetic. Dentro de arithmetic, crea un módulo addition.py \n",
    " con una función que sume dos números. Importa la función desde \n",
    " un módulo principal y úsala para sumar dos valores.\n",
    "'''\n",
    "import math_operations.arithmetic.addition as add\n",
    "print(\"La suma de 5 + 3 es:\", add.add(5, 3))"
   ]
  },
  {
   "cell_type": "code",
   "execution_count": null,
   "id": "4457873e",
   "metadata": {},
   "outputs": [
    {
     "name": "stdout",
     "output_type": "stream",
     "text": [
      "['BPF', 'LOG4', 'NV_MAGICCONST', 'RECIP_BPF', 'Random', 'SG_MAGICCONST', 'SystemRandom', 'TWOPI', '_ONE', '_Sequence', '_Set', '__all__', '__builtins__', '__cached__', '__doc__', '__file__', '__loader__', '__name__', '__package__', '__spec__', '_accumulate', '_acos', '_bisect', '_ceil', '_cos', '_e', '_exp', '_floor', '_index', '_inst', '_isfinite', '_log', '_os', '_pi', '_random', '_repeat', '_sha512', '_sin', '_sqrt', '_test', '_test_generator', '_urandom', '_warn', 'betavariate', 'choice', 'choices', 'expovariate', 'gammavariate', 'gauss', 'getrandbits', 'getstate', 'lognormvariate', 'normalvariate', 'paretovariate', 'randbytes', 'randint', 'random', 'randrange', 'sample', 'seed', 'setstate', 'shuffle', 'triangular', 'uniform', 'vonmisesvariate', 'weibullvariate']\n"
     ]
    }
   ],
   "source": [
    "'''\n",
    "Ejercicio No. 6.\n",
    "\n",
    "Usa la función dir() para explorar el módulo random y \n",
    "enumera todas las funciones disponibles.\n",
    "'''\n",
    "import random\n",
    "print(dir(random))"
   ]
  },
  {
   "cell_type": "code",
   "execution_count": 7,
   "id": "264cc281",
   "metadata": {},
   "outputs": [
    {
     "name": "stdout",
     "output_type": "stream",
     "text": [
      "Marca: Toyota, Modelo: Corolla\n",
      "['__class__', '__delattr__', '__dict__', '__dir__', '__doc__', '__eq__', '__format__', '__ge__', '__getattribute__', '__gt__', '__hash__', '__init__', '__init_subclass__', '__le__', '__lt__', '__module__', '__ne__', '__new__', '__reduce__', '__reduce_ex__', '__repr__', '__setattr__', '__sizeof__', '__str__', '__subclasshook__', '__weakref__', 'marca', 'modelo', 'mostrar_detalle']\n"
     ]
    }
   ],
   "source": [
    "'''\n",
    "Ejercicio No. 7.\n",
    "\n",
    "Define una clase llamada Carro con atributos Marca y Modelo y \n",
    "métodos que muestren el detalle de dichos atributos. \n",
    "Luego, usa dir() para listar todos los atributos y métodos \n",
    "disponibles de un objeto creado a partir de la clase.\n",
    "'''\n",
    "class Carro:\n",
    "    def __init__(self, marca, modelo):\n",
    "        self.marca = marca\n",
    "        self.modelo = modelo\n",
    "\n",
    "    def mostrar_detalle(self):\n",
    "        print(f\"Marca: {self.marca}, Modelo: {self.modelo}\")\n",
    "\n",
    "mi_carro = Carro(\"Toyota\", \"Corolla\")\n",
    "mi_carro.mostrar_detalle()\n",
    "print(dir(mi_carro))"
   ]
  },
  {
   "cell_type": "code",
   "execution_count": null,
   "id": "228b343d",
   "metadata": {},
   "outputs": [],
   "source": [
    "'''\n",
    "Ejercicio No. 8.\n",
    "\n",
    "Importa solo las funciones sin y cos del módulo math. \n",
    "Usa esas funciones para calcular el seno y coseno de \n",
    "un ángulo de 45 grados.\n",
    "'''\n",
    "from math import sin, cos\n",
    "print(sin(45), cos(45))"
   ]
  },
  {
   "cell_type": "code",
   "execution_count": null,
   "id": "0a65cbb9",
   "metadata": {},
   "outputs": [
    {
     "ename": "ModuleNotFoundError",
     "evalue": "No module named 'math_operations.calculadora'",
     "output_type": "error",
     "traceback": [
      "\u001b[1;31m---------------------------------------------------------------------------\u001b[0m",
      "\u001b[1;31mModuleNotFoundError\u001b[0m                       Traceback (most recent call last)",
      "Cell \u001b[1;32mIn[22], line 9\u001b[0m\n\u001b[0;32m      1\u001b[0m \u001b[38;5;124;03m'''\u001b[39;00m\n\u001b[0;32m      2\u001b[0m \u001b[38;5;124;03mEjercicio No. 9.\u001b[39;00m\n\u001b[0;32m      3\u001b[0m \n\u001b[1;32m   (...)\u001b[0m\n\u001b[0;32m      7\u001b[0m \u001b[38;5;124;03mrealiza operaciones básicas.\u001b[39;00m\n\u001b[0;32m      8\u001b[0m \u001b[38;5;124;03m'''\u001b[39;00m\n\u001b[1;32m----> 9\u001b[0m \u001b[38;5;28;01mimport\u001b[39;00m\u001b[38;5;250m \u001b[39m\u001b[38;5;21;01mmath_operations\u001b[39;00m\u001b[38;5;21;01m.\u001b[39;00m\u001b[38;5;21;01mcalculadora\u001b[39;00m\u001b[38;5;250m \u001b[39m\u001b[38;5;28;01mas\u001b[39;00m\u001b[38;5;250m \u001b[39m\u001b[38;5;21;01mcalc\u001b[39;00m\n\u001b[0;32m     11\u001b[0m \u001b[38;5;28mprint\u001b[39m(\u001b[38;5;124m\"\u001b[39m\u001b[38;5;124mSuma: \u001b[39m\u001b[38;5;124m\"\u001b[39m, calc\u001b[38;5;241m.\u001b[39msuma(\u001b[38;5;241m10\u001b[39m, \u001b[38;5;241m5\u001b[39m))\n\u001b[0;32m     12\u001b[0m \u001b[38;5;28mprint\u001b[39m(\u001b[38;5;124m\"\u001b[39m\u001b[38;5;124mResta: \u001b[39m\u001b[38;5;124m\"\u001b[39m, calc\u001b[38;5;241m.\u001b[39mresta(\u001b[38;5;241m10\u001b[39m, \u001b[38;5;241m5\u001b[39m))\n",
      "\u001b[1;31mModuleNotFoundError\u001b[0m: No module named 'math_operations.calculadora'"
     ]
    }
   ],
   "source": [
    "'''\n",
    "Ejercicio No. 9.\n",
    "\n",
    "Crea un módulo personalizado llamado calculadora.py \n",
    "que contenga funciones para sumar, restar, multiplicar \n",
    "y dividir dos números. Luego, importa estas funciones y \n",
    "realiza operaciones básicas.\n",
    "'''\n",
    "import math_operations.calcular as calc\n",
    "\n",
    "print(\"Suma: \", calc.suma(10, 5))\n",
    "print(\"Resta: \", calc.resta(10, 5))\n",
    "print(\"Multiplicación: \", calc.multiplicacion(10, 5))\n",
    "print(\"División: \", calc.division(10, 5))\n",
    "\n"
   ]
  },
  {
   "cell_type": "code",
   "execution_count": 17,
   "id": "b94c1c7c",
   "metadata": {},
   "outputs": [
    {
     "name": "stdout",
     "output_type": "stream",
     "text": [
      "Números seleccionados: [8, 4, 14]\n"
     ]
    }
   ],
   "source": [
    "'''\n",
    "Ejercicio No. 11.\n",
    "\n",
    "Usa random.sample() para seleccionar tres números \n",
    "aleatorios de una lista de números del 1 al 20.\n",
    "'''\n",
    "from random import sample\n",
    "\n",
    "numeros = list(range(1, 21))\n",
    "seleccion = sample(numeros, 3)\n",
    "print(\"Números seleccionados:\", seleccion)\n"
   ]
  },
  {
   "cell_type": "code",
   "execution_count": null,
   "id": "6318b65f",
   "metadata": {},
   "outputs": [],
   "source": [
    "'''\n",
    "Ejercicio No. 12.\n",
    "\n",
    "Crea un módulo llamado utilities.py que contenga una función para calcular el promedio de una \n",
    "lista de números. Luego, importa el módulo y usa la función en un script principal.\n",
    "'''"
   ]
  },
  {
   "cell_type": "code",
   "execution_count": null,
   "id": "b373592e",
   "metadata": {},
   "outputs": [],
   "source": [
    "'''\n",
    "Ejercicio No. 13.\n",
    "\n",
    "Crea un módulo llamado utilities.py que contenga \n",
    "una función para calcular el promedio de una \n",
    "lista de números. Luego, importa el módulo y usa \n",
    "la función en un script principal.\n",
    "'''"
   ]
  },
  {
   "cell_type": "code",
   "execution_count": null,
   "id": "957f13b8",
   "metadata": {},
   "outputs": [],
   "source": [
    "'''\n",
    "Ejercicio No. 14.\n",
    "\n",
    "Crea un módulo llamado calculator.py con funciones \n",
    "para sumar, restar y un bloque if __name__ == \"__main__\" \n",
    "que demuestre su uso.\n",
    "'''"
   ]
  },
  {
   "cell_type": "code",
   "execution_count": null,
   "id": "7139538e",
   "metadata": {},
   "outputs": [],
   "source": [
    "'''\n",
    "Ejercicio No. 15.\n",
    "\n",
    "Crea un paquete llamado my_package que contenga un módulo module1.py. \n",
    "En module1.py, crea una función para sumar dos números. \n",
    "Luego, usa __init__.py para importar esa función y accede a ella \n",
    "desde un script principal.\n",
    "'''"
   ]
  }
 ],
 "metadata": {
  "kernelspec": {
   "display_name": "Python 3",
   "language": "python",
   "name": "python3"
  },
  "language_info": {
   "codemirror_mode": {
    "name": "ipython",
    "version": 3
   },
   "file_extension": ".py",
   "mimetype": "text/x-python",
   "name": "python",
   "nbconvert_exporter": "python",
   "pygments_lexer": "ipython3",
   "version": "3.10.0"
  }
 },
 "nbformat": 4,
 "nbformat_minor": 5
}
